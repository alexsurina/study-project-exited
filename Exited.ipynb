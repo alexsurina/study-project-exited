{
  "cells": [
    {
      "cell_type": "markdown",
      "metadata": {
        "id": "SUu6LYnHQHwe"
      },
      "source": [
        "# Отток клиентов"
      ]
    },
    {
      "cell_type": "markdown",
      "metadata": {
        "id": "OituAF4BQHwe"
      },
      "source": [
        "Имея данные о поведении клиентов и расторжении договоров с банком, нужно спрогнозировать, уйдёт клиент из банка в ближайшее время или нет.  \n",
        "\n",
        "Необходимо построить модель с предельно большим значением *F1*-меры, дополнительно измерять *AUC-ROC*, и сравнивать её значение с *F1*-мерой.\n",
        "\n",
        "Для подготовки данных используем прямое кодирование (OHE), масштабирование признаков, борьба с дисбалансом классов (взвешивание классов, увеличение и уменьшение выборки)."
      ]
    },
    {
      "cell_type": "markdown",
      "metadata": {
        "id": "DmHLGkn2QHwg"
      },
      "source": [
        "## Подготовка данных"
      ]
    },
    {
      "cell_type": "code",
      "execution_count": null,
      "metadata": {
        "id": "tuTlfIOpQHwh"
      },
      "outputs": [],
      "source": [
        "import pandas as pd\n",
        "import numpy as np\n",
        "\n",
        "from sklearn.model_selection import train_test_split\n",
        "from sklearn.metrics import f1_score\n",
        "from sklearn.metrics import roc_auc_score\n",
        "\n",
        "from sklearn.tree import DecisionTreeClassifier \n",
        "from sklearn.ensemble import RandomForestClassifier \n",
        "from sklearn.linear_model import LogisticRegression \n",
        "\n",
        "from sklearn.preprocessing import StandardScaler \n",
        "from sklearn.utils import shuffle"
      ]
    },
    {
      "cell_type": "code",
      "execution_count": null,
      "metadata": {
        "id": "zCAxCKYUQHwi"
      },
      "outputs": [],
      "source": [
        "import warnings\n",
        "warnings.filterwarnings('ignore')"
      ]
    },
    {
      "cell_type": "code",
      "execution_count": null,
      "metadata": {
        "id": "CgSbJhOUQHwj"
      },
      "outputs": [],
      "source": [
        "pd.options.mode.chained_assignment = None"
      ]
    },
    {
      "cell_type": "code",
      "execution_count": null,
      "metadata": {
        "id": "Js8bo0VRQHwj"
      },
      "outputs": [],
      "source": [
        "df = pd.read_csv('/datasets/Churn.csv')"
      ]
    },
    {
      "cell_type": "code",
      "execution_count": null,
      "metadata": {
        "scrolled": true,
        "id": "6xpexbzBQHwk",
        "outputId": "cf63e29e-d6b0-4388-894e-0c91e5a29abc"
      },
      "outputs": [
        {
          "data": {
            "text/html": [
              "<div>\n",
              "<style scoped>\n",
              "    .dataframe tbody tr th:only-of-type {\n",
              "        vertical-align: middle;\n",
              "    }\n",
              "\n",
              "    .dataframe tbody tr th {\n",
              "        vertical-align: top;\n",
              "    }\n",
              "\n",
              "    .dataframe thead th {\n",
              "        text-align: right;\n",
              "    }\n",
              "</style>\n",
              "<table border=\"1\" class=\"dataframe\">\n",
              "  <thead>\n",
              "    <tr style=\"text-align: right;\">\n",
              "      <th></th>\n",
              "      <th>RowNumber</th>\n",
              "      <th>CustomerId</th>\n",
              "      <th>Surname</th>\n",
              "      <th>CreditScore</th>\n",
              "      <th>Geography</th>\n",
              "      <th>Gender</th>\n",
              "      <th>Age</th>\n",
              "      <th>Tenure</th>\n",
              "      <th>Balance</th>\n",
              "      <th>NumOfProducts</th>\n",
              "      <th>HasCrCard</th>\n",
              "      <th>IsActiveMember</th>\n",
              "      <th>EstimatedSalary</th>\n",
              "      <th>Exited</th>\n",
              "    </tr>\n",
              "  </thead>\n",
              "  <tbody>\n",
              "    <tr>\n",
              "      <td>0</td>\n",
              "      <td>1</td>\n",
              "      <td>15634602</td>\n",
              "      <td>Hargrave</td>\n",
              "      <td>619</td>\n",
              "      <td>France</td>\n",
              "      <td>Female</td>\n",
              "      <td>42</td>\n",
              "      <td>2.0</td>\n",
              "      <td>0.00</td>\n",
              "      <td>1</td>\n",
              "      <td>1</td>\n",
              "      <td>1</td>\n",
              "      <td>101348.88</td>\n",
              "      <td>1</td>\n",
              "    </tr>\n",
              "    <tr>\n",
              "      <td>1</td>\n",
              "      <td>2</td>\n",
              "      <td>15647311</td>\n",
              "      <td>Hill</td>\n",
              "      <td>608</td>\n",
              "      <td>Spain</td>\n",
              "      <td>Female</td>\n",
              "      <td>41</td>\n",
              "      <td>1.0</td>\n",
              "      <td>83807.86</td>\n",
              "      <td>1</td>\n",
              "      <td>0</td>\n",
              "      <td>1</td>\n",
              "      <td>112542.58</td>\n",
              "      <td>0</td>\n",
              "    </tr>\n",
              "    <tr>\n",
              "      <td>2</td>\n",
              "      <td>3</td>\n",
              "      <td>15619304</td>\n",
              "      <td>Onio</td>\n",
              "      <td>502</td>\n",
              "      <td>France</td>\n",
              "      <td>Female</td>\n",
              "      <td>42</td>\n",
              "      <td>8.0</td>\n",
              "      <td>159660.80</td>\n",
              "      <td>3</td>\n",
              "      <td>1</td>\n",
              "      <td>0</td>\n",
              "      <td>113931.57</td>\n",
              "      <td>1</td>\n",
              "    </tr>\n",
              "    <tr>\n",
              "      <td>3</td>\n",
              "      <td>4</td>\n",
              "      <td>15701354</td>\n",
              "      <td>Boni</td>\n",
              "      <td>699</td>\n",
              "      <td>France</td>\n",
              "      <td>Female</td>\n",
              "      <td>39</td>\n",
              "      <td>1.0</td>\n",
              "      <td>0.00</td>\n",
              "      <td>2</td>\n",
              "      <td>0</td>\n",
              "      <td>0</td>\n",
              "      <td>93826.63</td>\n",
              "      <td>0</td>\n",
              "    </tr>\n",
              "    <tr>\n",
              "      <td>4</td>\n",
              "      <td>5</td>\n",
              "      <td>15737888</td>\n",
              "      <td>Mitchell</td>\n",
              "      <td>850</td>\n",
              "      <td>Spain</td>\n",
              "      <td>Female</td>\n",
              "      <td>43</td>\n",
              "      <td>2.0</td>\n",
              "      <td>125510.82</td>\n",
              "      <td>1</td>\n",
              "      <td>1</td>\n",
              "      <td>1</td>\n",
              "      <td>79084.10</td>\n",
              "      <td>0</td>\n",
              "    </tr>\n",
              "    <tr>\n",
              "      <td>...</td>\n",
              "      <td>...</td>\n",
              "      <td>...</td>\n",
              "      <td>...</td>\n",
              "      <td>...</td>\n",
              "      <td>...</td>\n",
              "      <td>...</td>\n",
              "      <td>...</td>\n",
              "      <td>...</td>\n",
              "      <td>...</td>\n",
              "      <td>...</td>\n",
              "      <td>...</td>\n",
              "      <td>...</td>\n",
              "      <td>...</td>\n",
              "      <td>...</td>\n",
              "    </tr>\n",
              "    <tr>\n",
              "      <td>9995</td>\n",
              "      <td>9996</td>\n",
              "      <td>15606229</td>\n",
              "      <td>Obijiaku</td>\n",
              "      <td>771</td>\n",
              "      <td>France</td>\n",
              "      <td>Male</td>\n",
              "      <td>39</td>\n",
              "      <td>5.0</td>\n",
              "      <td>0.00</td>\n",
              "      <td>2</td>\n",
              "      <td>1</td>\n",
              "      <td>0</td>\n",
              "      <td>96270.64</td>\n",
              "      <td>0</td>\n",
              "    </tr>\n",
              "    <tr>\n",
              "      <td>9996</td>\n",
              "      <td>9997</td>\n",
              "      <td>15569892</td>\n",
              "      <td>Johnstone</td>\n",
              "      <td>516</td>\n",
              "      <td>France</td>\n",
              "      <td>Male</td>\n",
              "      <td>35</td>\n",
              "      <td>10.0</td>\n",
              "      <td>57369.61</td>\n",
              "      <td>1</td>\n",
              "      <td>1</td>\n",
              "      <td>1</td>\n",
              "      <td>101699.77</td>\n",
              "      <td>0</td>\n",
              "    </tr>\n",
              "    <tr>\n",
              "      <td>9997</td>\n",
              "      <td>9998</td>\n",
              "      <td>15584532</td>\n",
              "      <td>Liu</td>\n",
              "      <td>709</td>\n",
              "      <td>France</td>\n",
              "      <td>Female</td>\n",
              "      <td>36</td>\n",
              "      <td>7.0</td>\n",
              "      <td>0.00</td>\n",
              "      <td>1</td>\n",
              "      <td>0</td>\n",
              "      <td>1</td>\n",
              "      <td>42085.58</td>\n",
              "      <td>1</td>\n",
              "    </tr>\n",
              "    <tr>\n",
              "      <td>9998</td>\n",
              "      <td>9999</td>\n",
              "      <td>15682355</td>\n",
              "      <td>Sabbatini</td>\n",
              "      <td>772</td>\n",
              "      <td>Germany</td>\n",
              "      <td>Male</td>\n",
              "      <td>42</td>\n",
              "      <td>3.0</td>\n",
              "      <td>75075.31</td>\n",
              "      <td>2</td>\n",
              "      <td>1</td>\n",
              "      <td>0</td>\n",
              "      <td>92888.52</td>\n",
              "      <td>1</td>\n",
              "    </tr>\n",
              "    <tr>\n",
              "      <td>9999</td>\n",
              "      <td>10000</td>\n",
              "      <td>15628319</td>\n",
              "      <td>Walker</td>\n",
              "      <td>792</td>\n",
              "      <td>France</td>\n",
              "      <td>Female</td>\n",
              "      <td>28</td>\n",
              "      <td>NaN</td>\n",
              "      <td>130142.79</td>\n",
              "      <td>1</td>\n",
              "      <td>1</td>\n",
              "      <td>0</td>\n",
              "      <td>38190.78</td>\n",
              "      <td>0</td>\n",
              "    </tr>\n",
              "  </tbody>\n",
              "</table>\n",
              "<p>10000 rows × 14 columns</p>\n",
              "</div>"
            ],
            "text/plain": [
              "      RowNumber  CustomerId    Surname  CreditScore Geography  Gender  Age  \\\n",
              "0             1    15634602   Hargrave          619    France  Female   42   \n",
              "1             2    15647311       Hill          608     Spain  Female   41   \n",
              "2             3    15619304       Onio          502    France  Female   42   \n",
              "3             4    15701354       Boni          699    France  Female   39   \n",
              "4             5    15737888   Mitchell          850     Spain  Female   43   \n",
              "...         ...         ...        ...          ...       ...     ...  ...   \n",
              "9995       9996    15606229   Obijiaku          771    France    Male   39   \n",
              "9996       9997    15569892  Johnstone          516    France    Male   35   \n",
              "9997       9998    15584532        Liu          709    France  Female   36   \n",
              "9998       9999    15682355  Sabbatini          772   Germany    Male   42   \n",
              "9999      10000    15628319     Walker          792    France  Female   28   \n",
              "\n",
              "      Tenure    Balance  NumOfProducts  HasCrCard  IsActiveMember  \\\n",
              "0        2.0       0.00              1          1               1   \n",
              "1        1.0   83807.86              1          0               1   \n",
              "2        8.0  159660.80              3          1               0   \n",
              "3        1.0       0.00              2          0               0   \n",
              "4        2.0  125510.82              1          1               1   \n",
              "...      ...        ...            ...        ...             ...   \n",
              "9995     5.0       0.00              2          1               0   \n",
              "9996    10.0   57369.61              1          1               1   \n",
              "9997     7.0       0.00              1          0               1   \n",
              "9998     3.0   75075.31              2          1               0   \n",
              "9999     NaN  130142.79              1          1               0   \n",
              "\n",
              "      EstimatedSalary  Exited  \n",
              "0           101348.88       1  \n",
              "1           112542.58       0  \n",
              "2           113931.57       1  \n",
              "3            93826.63       0  \n",
              "4            79084.10       0  \n",
              "...               ...     ...  \n",
              "9995         96270.64       0  \n",
              "9996        101699.77       0  \n",
              "9997         42085.58       1  \n",
              "9998         92888.52       1  \n",
              "9999         38190.78       0  \n",
              "\n",
              "[10000 rows x 14 columns]"
            ]
          },
          "execution_count": 5,
          "metadata": {},
          "output_type": "execute_result"
        }
      ],
      "source": [
        "df"
      ]
    },
    {
      "cell_type": "markdown",
      "metadata": {
        "id": "-tmYW1WlQHwl"
      },
      "source": [
        "**Описание данных**\n",
        "\n",
        "\n",
        "Признаки: \n",
        "* RowNumber — индекс строки в данных\n",
        "* CustomerId — уникальный идентификатор клиента\n",
        "* Surname — фамилия\n",
        "* CreditScore — кредитный рейтинг\n",
        "* Geography — страна проживания\n",
        "* Gender — пол\n",
        "* Age — возраст\n",
        "* Tenure — сколько лет человек является клиентом банка\n",
        "* Balance — баланс на счёте\n",
        "* NumOfProducts — количество продуктов банка, используемых клиентом\n",
        "* HasCrCard — наличие кредитной карты\n",
        "* IsActiveMember — активность клиента\n",
        "* EstimatedSalary — предполагаемая зарплата\n",
        "\n",
        "\n",
        "\n",
        "Целевой признак:\n",
        "* Exited — факт ухода клиента"
      ]
    },
    {
      "cell_type": "code",
      "execution_count": null,
      "metadata": {
        "scrolled": true,
        "id": "00ZEUxyWQHwl",
        "outputId": "f79b5c5b-9e0c-4bf2-8e4a-d17e8ca2c126"
      },
      "outputs": [
        {
          "name": "stdout",
          "output_type": "stream",
          "text": [
            "<class 'pandas.core.frame.DataFrame'>\n",
            "RangeIndex: 10000 entries, 0 to 9999\n",
            "Data columns (total 14 columns):\n",
            "RowNumber          10000 non-null int64\n",
            "CustomerId         10000 non-null int64\n",
            "Surname            10000 non-null object\n",
            "CreditScore        10000 non-null int64\n",
            "Geography          10000 non-null object\n",
            "Gender             10000 non-null object\n",
            "Age                10000 non-null int64\n",
            "Tenure             9091 non-null float64\n",
            "Balance            10000 non-null float64\n",
            "NumOfProducts      10000 non-null int64\n",
            "HasCrCard          10000 non-null int64\n",
            "IsActiveMember     10000 non-null int64\n",
            "EstimatedSalary    10000 non-null float64\n",
            "Exited             10000 non-null int64\n",
            "dtypes: float64(3), int64(8), object(3)\n",
            "memory usage: 1.1+ MB\n"
          ]
        }
      ],
      "source": [
        "df.info()"
      ]
    },
    {
      "cell_type": "markdown",
      "metadata": {
        "id": "UzGemrnUQHwm"
      },
      "source": [
        "Пропуски только в столбце Tenure — сколько лет человек является клиентом банка. Типы данных корректные."
      ]
    },
    {
      "cell_type": "code",
      "execution_count": null,
      "metadata": {
        "id": "wDuiy20UQHwm",
        "outputId": "b056f6a5-325b-4ded-ec4e-980c3c9ecb07"
      },
      "outputs": [
        {
          "data": {
            "text/plain": [
              "1.0     952\n",
              "2.0     950\n",
              "8.0     933\n",
              "3.0     928\n",
              "5.0     927\n",
              "7.0     925\n",
              "4.0     885\n",
              "9.0     882\n",
              "6.0     881\n",
              "10.0    446\n",
              "0.0     382\n",
              "Name: Tenure, dtype: int64"
            ]
          },
          "execution_count": 7,
          "metadata": {},
          "output_type": "execute_result"
        }
      ],
      "source": [
        "df['Tenure'].value_counts()"
      ]
    },
    {
      "cell_type": "markdown",
      "metadata": {
        "id": "VoG1LfE9QHwm"
      },
      "source": [
        "Заполним пропуски в столбце Tenure нулями, исходя из предположения, что пропуски означают, что человек является клиентом банка не полный год."
      ]
    },
    {
      "cell_type": "code",
      "execution_count": null,
      "metadata": {
        "id": "T7QeeX-GQHwn",
        "outputId": "d56ce7f0-f863-427b-9d11-e51770350c5b"
      },
      "outputs": [
        {
          "data": {
            "text/plain": [
              "0"
            ]
          },
          "execution_count": 8,
          "metadata": {},
          "output_type": "execute_result"
        }
      ],
      "source": [
        "df['Tenure'] = df['Tenure'].fillna(0)\n",
        "df['Tenure'].isna().sum()"
      ]
    },
    {
      "cell_type": "code",
      "execution_count": null,
      "metadata": {
        "id": "CIBu9aA1QHwo",
        "outputId": "e8cabaae-ef8a-421a-c9d6-75d15932fc32"
      },
      "outputs": [
        {
          "data": {
            "text/plain": [
              "0"
            ]
          },
          "execution_count": 10,
          "metadata": {},
          "output_type": "execute_result"
        }
      ],
      "source": [
        "df.duplicated().sum()"
      ]
    },
    {
      "cell_type": "markdown",
      "metadata": {
        "id": "2JgaQ4-BQHwo"
      },
      "source": [
        "Явных дубликатов нет."
      ]
    },
    {
      "cell_type": "markdown",
      "metadata": {
        "id": "K41Tg7FuQHwo"
      },
      "source": [
        "Для дальнейшего анализа и обучения удалим столцбы, не несущие полезной информации для целей обучения моделей."
      ]
    },
    {
      "cell_type": "code",
      "execution_count": null,
      "metadata": {
        "id": "5UMiGNgbQHwp"
      },
      "outputs": [],
      "source": [
        "df_ml = df.drop(['RowNumber', 'CustomerId', 'Surname'], axis=1)"
      ]
    },
    {
      "cell_type": "code",
      "execution_count": null,
      "metadata": {
        "id": "DyeR25HBQHwp",
        "outputId": "4d627c9f-db48-4637-83a3-7f983aa146ff"
      },
      "outputs": [
        {
          "data": {
            "text/html": [
              "<div>\n",
              "<style scoped>\n",
              "    .dataframe tbody tr th:only-of-type {\n",
              "        vertical-align: middle;\n",
              "    }\n",
              "\n",
              "    .dataframe tbody tr th {\n",
              "        vertical-align: top;\n",
              "    }\n",
              "\n",
              "    .dataframe thead th {\n",
              "        text-align: right;\n",
              "    }\n",
              "</style>\n",
              "<table border=\"1\" class=\"dataframe\">\n",
              "  <thead>\n",
              "    <tr style=\"text-align: right;\">\n",
              "      <th></th>\n",
              "      <th>CreditScore</th>\n",
              "      <th>Geography</th>\n",
              "      <th>Gender</th>\n",
              "      <th>Age</th>\n",
              "      <th>Tenure</th>\n",
              "      <th>Balance</th>\n",
              "      <th>NumOfProducts</th>\n",
              "      <th>HasCrCard</th>\n",
              "      <th>IsActiveMember</th>\n",
              "      <th>EstimatedSalary</th>\n",
              "      <th>Exited</th>\n",
              "    </tr>\n",
              "  </thead>\n",
              "  <tbody>\n",
              "    <tr>\n",
              "      <td>0</td>\n",
              "      <td>619</td>\n",
              "      <td>France</td>\n",
              "      <td>Female</td>\n",
              "      <td>42</td>\n",
              "      <td>2.0</td>\n",
              "      <td>0.00</td>\n",
              "      <td>1</td>\n",
              "      <td>1</td>\n",
              "      <td>1</td>\n",
              "      <td>101348.88</td>\n",
              "      <td>1</td>\n",
              "    </tr>\n",
              "    <tr>\n",
              "      <td>1</td>\n",
              "      <td>608</td>\n",
              "      <td>Spain</td>\n",
              "      <td>Female</td>\n",
              "      <td>41</td>\n",
              "      <td>1.0</td>\n",
              "      <td>83807.86</td>\n",
              "      <td>1</td>\n",
              "      <td>0</td>\n",
              "      <td>1</td>\n",
              "      <td>112542.58</td>\n",
              "      <td>0</td>\n",
              "    </tr>\n",
              "    <tr>\n",
              "      <td>2</td>\n",
              "      <td>502</td>\n",
              "      <td>France</td>\n",
              "      <td>Female</td>\n",
              "      <td>42</td>\n",
              "      <td>8.0</td>\n",
              "      <td>159660.80</td>\n",
              "      <td>3</td>\n",
              "      <td>1</td>\n",
              "      <td>0</td>\n",
              "      <td>113931.57</td>\n",
              "      <td>1</td>\n",
              "    </tr>\n",
              "    <tr>\n",
              "      <td>3</td>\n",
              "      <td>699</td>\n",
              "      <td>France</td>\n",
              "      <td>Female</td>\n",
              "      <td>39</td>\n",
              "      <td>1.0</td>\n",
              "      <td>0.00</td>\n",
              "      <td>2</td>\n",
              "      <td>0</td>\n",
              "      <td>0</td>\n",
              "      <td>93826.63</td>\n",
              "      <td>0</td>\n",
              "    </tr>\n",
              "    <tr>\n",
              "      <td>4</td>\n",
              "      <td>850</td>\n",
              "      <td>Spain</td>\n",
              "      <td>Female</td>\n",
              "      <td>43</td>\n",
              "      <td>2.0</td>\n",
              "      <td>125510.82</td>\n",
              "      <td>1</td>\n",
              "      <td>1</td>\n",
              "      <td>1</td>\n",
              "      <td>79084.10</td>\n",
              "      <td>0</td>\n",
              "    </tr>\n",
              "    <tr>\n",
              "      <td>...</td>\n",
              "      <td>...</td>\n",
              "      <td>...</td>\n",
              "      <td>...</td>\n",
              "      <td>...</td>\n",
              "      <td>...</td>\n",
              "      <td>...</td>\n",
              "      <td>...</td>\n",
              "      <td>...</td>\n",
              "      <td>...</td>\n",
              "      <td>...</td>\n",
              "      <td>...</td>\n",
              "    </tr>\n",
              "    <tr>\n",
              "      <td>9995</td>\n",
              "      <td>771</td>\n",
              "      <td>France</td>\n",
              "      <td>Male</td>\n",
              "      <td>39</td>\n",
              "      <td>5.0</td>\n",
              "      <td>0.00</td>\n",
              "      <td>2</td>\n",
              "      <td>1</td>\n",
              "      <td>0</td>\n",
              "      <td>96270.64</td>\n",
              "      <td>0</td>\n",
              "    </tr>\n",
              "    <tr>\n",
              "      <td>9996</td>\n",
              "      <td>516</td>\n",
              "      <td>France</td>\n",
              "      <td>Male</td>\n",
              "      <td>35</td>\n",
              "      <td>10.0</td>\n",
              "      <td>57369.61</td>\n",
              "      <td>1</td>\n",
              "      <td>1</td>\n",
              "      <td>1</td>\n",
              "      <td>101699.77</td>\n",
              "      <td>0</td>\n",
              "    </tr>\n",
              "    <tr>\n",
              "      <td>9997</td>\n",
              "      <td>709</td>\n",
              "      <td>France</td>\n",
              "      <td>Female</td>\n",
              "      <td>36</td>\n",
              "      <td>7.0</td>\n",
              "      <td>0.00</td>\n",
              "      <td>1</td>\n",
              "      <td>0</td>\n",
              "      <td>1</td>\n",
              "      <td>42085.58</td>\n",
              "      <td>1</td>\n",
              "    </tr>\n",
              "    <tr>\n",
              "      <td>9998</td>\n",
              "      <td>772</td>\n",
              "      <td>Germany</td>\n",
              "      <td>Male</td>\n",
              "      <td>42</td>\n",
              "      <td>3.0</td>\n",
              "      <td>75075.31</td>\n",
              "      <td>2</td>\n",
              "      <td>1</td>\n",
              "      <td>0</td>\n",
              "      <td>92888.52</td>\n",
              "      <td>1</td>\n",
              "    </tr>\n",
              "    <tr>\n",
              "      <td>9999</td>\n",
              "      <td>792</td>\n",
              "      <td>France</td>\n",
              "      <td>Female</td>\n",
              "      <td>28</td>\n",
              "      <td>0.0</td>\n",
              "      <td>130142.79</td>\n",
              "      <td>1</td>\n",
              "      <td>1</td>\n",
              "      <td>0</td>\n",
              "      <td>38190.78</td>\n",
              "      <td>0</td>\n",
              "    </tr>\n",
              "  </tbody>\n",
              "</table>\n",
              "<p>10000 rows × 11 columns</p>\n",
              "</div>"
            ],
            "text/plain": [
              "      CreditScore Geography  Gender  Age  Tenure    Balance  NumOfProducts  \\\n",
              "0             619    France  Female   42     2.0       0.00              1   \n",
              "1             608     Spain  Female   41     1.0   83807.86              1   \n",
              "2             502    France  Female   42     8.0  159660.80              3   \n",
              "3             699    France  Female   39     1.0       0.00              2   \n",
              "4             850     Spain  Female   43     2.0  125510.82              1   \n",
              "...           ...       ...     ...  ...     ...        ...            ...   \n",
              "9995          771    France    Male   39     5.0       0.00              2   \n",
              "9996          516    France    Male   35    10.0   57369.61              1   \n",
              "9997          709    France  Female   36     7.0       0.00              1   \n",
              "9998          772   Germany    Male   42     3.0   75075.31              2   \n",
              "9999          792    France  Female   28     0.0  130142.79              1   \n",
              "\n",
              "      HasCrCard  IsActiveMember  EstimatedSalary  Exited  \n",
              "0             1               1        101348.88       1  \n",
              "1             0               1        112542.58       0  \n",
              "2             1               0        113931.57       1  \n",
              "3             0               0         93826.63       0  \n",
              "4             1               1         79084.10       0  \n",
              "...         ...             ...              ...     ...  \n",
              "9995          1               0         96270.64       0  \n",
              "9996          1               1        101699.77       0  \n",
              "9997          0               1         42085.58       1  \n",
              "9998          1               0         92888.52       1  \n",
              "9999          1               0         38190.78       0  \n",
              "\n",
              "[10000 rows x 11 columns]"
            ]
          },
          "execution_count": 12,
          "metadata": {},
          "output_type": "execute_result"
        }
      ],
      "source": [
        "df_ml"
      ]
    },
    {
      "cell_type": "markdown",
      "metadata": {
        "id": "dvU55V_2QHwp"
      },
      "source": [
        "Применим прямое кодирование (One-Hot Encoding, OHE)."
      ]
    },
    {
      "cell_type": "code",
      "execution_count": null,
      "metadata": {
        "id": "EpF9bL75QHwp"
      },
      "outputs": [],
      "source": [
        "df_ml_ohe = pd.get_dummies(df_ml, drop_first=True)"
      ]
    },
    {
      "cell_type": "code",
      "execution_count": null,
      "metadata": {
        "id": "U4PE42ePQHwq",
        "outputId": "c0e5bf24-a84e-4c3a-a920-f2a40d55f095"
      },
      "outputs": [
        {
          "data": {
            "text/html": [
              "<div>\n",
              "<style scoped>\n",
              "    .dataframe tbody tr th:only-of-type {\n",
              "        vertical-align: middle;\n",
              "    }\n",
              "\n",
              "    .dataframe tbody tr th {\n",
              "        vertical-align: top;\n",
              "    }\n",
              "\n",
              "    .dataframe thead th {\n",
              "        text-align: right;\n",
              "    }\n",
              "</style>\n",
              "<table border=\"1\" class=\"dataframe\">\n",
              "  <thead>\n",
              "    <tr style=\"text-align: right;\">\n",
              "      <th></th>\n",
              "      <th>CreditScore</th>\n",
              "      <th>Age</th>\n",
              "      <th>Tenure</th>\n",
              "      <th>Balance</th>\n",
              "      <th>NumOfProducts</th>\n",
              "      <th>HasCrCard</th>\n",
              "      <th>IsActiveMember</th>\n",
              "      <th>EstimatedSalary</th>\n",
              "      <th>Exited</th>\n",
              "      <th>Geography_Germany</th>\n",
              "      <th>Geography_Spain</th>\n",
              "      <th>Gender_Male</th>\n",
              "    </tr>\n",
              "  </thead>\n",
              "  <tbody>\n",
              "    <tr>\n",
              "      <td>0</td>\n",
              "      <td>619</td>\n",
              "      <td>42</td>\n",
              "      <td>2.0</td>\n",
              "      <td>0.00</td>\n",
              "      <td>1</td>\n",
              "      <td>1</td>\n",
              "      <td>1</td>\n",
              "      <td>101348.88</td>\n",
              "      <td>1</td>\n",
              "      <td>0</td>\n",
              "      <td>0</td>\n",
              "      <td>0</td>\n",
              "    </tr>\n",
              "    <tr>\n",
              "      <td>1</td>\n",
              "      <td>608</td>\n",
              "      <td>41</td>\n",
              "      <td>1.0</td>\n",
              "      <td>83807.86</td>\n",
              "      <td>1</td>\n",
              "      <td>0</td>\n",
              "      <td>1</td>\n",
              "      <td>112542.58</td>\n",
              "      <td>0</td>\n",
              "      <td>0</td>\n",
              "      <td>1</td>\n",
              "      <td>0</td>\n",
              "    </tr>\n",
              "    <tr>\n",
              "      <td>2</td>\n",
              "      <td>502</td>\n",
              "      <td>42</td>\n",
              "      <td>8.0</td>\n",
              "      <td>159660.80</td>\n",
              "      <td>3</td>\n",
              "      <td>1</td>\n",
              "      <td>0</td>\n",
              "      <td>113931.57</td>\n",
              "      <td>1</td>\n",
              "      <td>0</td>\n",
              "      <td>0</td>\n",
              "      <td>0</td>\n",
              "    </tr>\n",
              "    <tr>\n",
              "      <td>3</td>\n",
              "      <td>699</td>\n",
              "      <td>39</td>\n",
              "      <td>1.0</td>\n",
              "      <td>0.00</td>\n",
              "      <td>2</td>\n",
              "      <td>0</td>\n",
              "      <td>0</td>\n",
              "      <td>93826.63</td>\n",
              "      <td>0</td>\n",
              "      <td>0</td>\n",
              "      <td>0</td>\n",
              "      <td>0</td>\n",
              "    </tr>\n",
              "    <tr>\n",
              "      <td>4</td>\n",
              "      <td>850</td>\n",
              "      <td>43</td>\n",
              "      <td>2.0</td>\n",
              "      <td>125510.82</td>\n",
              "      <td>1</td>\n",
              "      <td>1</td>\n",
              "      <td>1</td>\n",
              "      <td>79084.10</td>\n",
              "      <td>0</td>\n",
              "      <td>0</td>\n",
              "      <td>1</td>\n",
              "      <td>0</td>\n",
              "    </tr>\n",
              "    <tr>\n",
              "      <td>...</td>\n",
              "      <td>...</td>\n",
              "      <td>...</td>\n",
              "      <td>...</td>\n",
              "      <td>...</td>\n",
              "      <td>...</td>\n",
              "      <td>...</td>\n",
              "      <td>...</td>\n",
              "      <td>...</td>\n",
              "      <td>...</td>\n",
              "      <td>...</td>\n",
              "      <td>...</td>\n",
              "      <td>...</td>\n",
              "    </tr>\n",
              "    <tr>\n",
              "      <td>9995</td>\n",
              "      <td>771</td>\n",
              "      <td>39</td>\n",
              "      <td>5.0</td>\n",
              "      <td>0.00</td>\n",
              "      <td>2</td>\n",
              "      <td>1</td>\n",
              "      <td>0</td>\n",
              "      <td>96270.64</td>\n",
              "      <td>0</td>\n",
              "      <td>0</td>\n",
              "      <td>0</td>\n",
              "      <td>1</td>\n",
              "    </tr>\n",
              "    <tr>\n",
              "      <td>9996</td>\n",
              "      <td>516</td>\n",
              "      <td>35</td>\n",
              "      <td>10.0</td>\n",
              "      <td>57369.61</td>\n",
              "      <td>1</td>\n",
              "      <td>1</td>\n",
              "      <td>1</td>\n",
              "      <td>101699.77</td>\n",
              "      <td>0</td>\n",
              "      <td>0</td>\n",
              "      <td>0</td>\n",
              "      <td>1</td>\n",
              "    </tr>\n",
              "    <tr>\n",
              "      <td>9997</td>\n",
              "      <td>709</td>\n",
              "      <td>36</td>\n",
              "      <td>7.0</td>\n",
              "      <td>0.00</td>\n",
              "      <td>1</td>\n",
              "      <td>0</td>\n",
              "      <td>1</td>\n",
              "      <td>42085.58</td>\n",
              "      <td>1</td>\n",
              "      <td>0</td>\n",
              "      <td>0</td>\n",
              "      <td>0</td>\n",
              "    </tr>\n",
              "    <tr>\n",
              "      <td>9998</td>\n",
              "      <td>772</td>\n",
              "      <td>42</td>\n",
              "      <td>3.0</td>\n",
              "      <td>75075.31</td>\n",
              "      <td>2</td>\n",
              "      <td>1</td>\n",
              "      <td>0</td>\n",
              "      <td>92888.52</td>\n",
              "      <td>1</td>\n",
              "      <td>1</td>\n",
              "      <td>0</td>\n",
              "      <td>1</td>\n",
              "    </tr>\n",
              "    <tr>\n",
              "      <td>9999</td>\n",
              "      <td>792</td>\n",
              "      <td>28</td>\n",
              "      <td>0.0</td>\n",
              "      <td>130142.79</td>\n",
              "      <td>1</td>\n",
              "      <td>1</td>\n",
              "      <td>0</td>\n",
              "      <td>38190.78</td>\n",
              "      <td>0</td>\n",
              "      <td>0</td>\n",
              "      <td>0</td>\n",
              "      <td>0</td>\n",
              "    </tr>\n",
              "  </tbody>\n",
              "</table>\n",
              "<p>10000 rows × 12 columns</p>\n",
              "</div>"
            ],
            "text/plain": [
              "      CreditScore  Age  Tenure    Balance  NumOfProducts  HasCrCard  \\\n",
              "0             619   42     2.0       0.00              1          1   \n",
              "1             608   41     1.0   83807.86              1          0   \n",
              "2             502   42     8.0  159660.80              3          1   \n",
              "3             699   39     1.0       0.00              2          0   \n",
              "4             850   43     2.0  125510.82              1          1   \n",
              "...           ...  ...     ...        ...            ...        ...   \n",
              "9995          771   39     5.0       0.00              2          1   \n",
              "9996          516   35    10.0   57369.61              1          1   \n",
              "9997          709   36     7.0       0.00              1          0   \n",
              "9998          772   42     3.0   75075.31              2          1   \n",
              "9999          792   28     0.0  130142.79              1          1   \n",
              "\n",
              "      IsActiveMember  EstimatedSalary  Exited  Geography_Germany  \\\n",
              "0                  1        101348.88       1                  0   \n",
              "1                  1        112542.58       0                  0   \n",
              "2                  0        113931.57       1                  0   \n",
              "3                  0         93826.63       0                  0   \n",
              "4                  1         79084.10       0                  0   \n",
              "...              ...              ...     ...                ...   \n",
              "9995               0         96270.64       0                  0   \n",
              "9996               1        101699.77       0                  0   \n",
              "9997               1         42085.58       1                  0   \n",
              "9998               0         92888.52       1                  1   \n",
              "9999               0         38190.78       0                  0   \n",
              "\n",
              "      Geography_Spain  Gender_Male  \n",
              "0                   0            0  \n",
              "1                   1            0  \n",
              "2                   0            0  \n",
              "3                   0            0  \n",
              "4                   1            0  \n",
              "...               ...          ...  \n",
              "9995                0            1  \n",
              "9996                0            1  \n",
              "9997                0            0  \n",
              "9998                0            1  \n",
              "9999                0            0  \n",
              "\n",
              "[10000 rows x 12 columns]"
            ]
          },
          "execution_count": 14,
          "metadata": {},
          "output_type": "execute_result"
        }
      ],
      "source": [
        "df_ml_ohe"
      ]
    },
    {
      "cell_type": "markdown",
      "metadata": {
        "id": "UMvkGwhXQHwq"
      },
      "source": [
        "Разделим исходные данные на обучающую, валидационную и тестовую выборки.\n",
        "\n",
        "Делим выборку в отношении 3 : 1 : 1"
      ]
    },
    {
      "cell_type": "code",
      "execution_count": null,
      "metadata": {
        "id": "3OZrxiPWQHwq"
      },
      "outputs": [],
      "source": [
        "features = df_ml_ohe.drop(['Exited'], axis=1) # извлечем признаки\n",
        "target = df_ml_ohe['Exited'] # извлечем целевой признак"
      ]
    },
    {
      "cell_type": "code",
      "execution_count": null,
      "metadata": {
        "id": "mT96DzGMQHwq",
        "outputId": "056f47ca-16d7-482f-c4a7-f48e697431bc"
      },
      "outputs": [
        {
          "data": {
            "text/plain": [
              "(10000, 11)"
            ]
          },
          "execution_count": 16,
          "metadata": {},
          "output_type": "execute_result"
        }
      ],
      "source": [
        "features.shape"
      ]
    },
    {
      "cell_type": "code",
      "execution_count": null,
      "metadata": {
        "id": "ze1896cuQHwr",
        "outputId": "2a264301-386e-4c54-8f93-6af830acdbcb"
      },
      "outputs": [
        {
          "data": {
            "text/plain": [
              "(10000,)"
            ]
          },
          "execution_count": 17,
          "metadata": {},
          "output_type": "execute_result"
        }
      ],
      "source": [
        "target.shape"
      ]
    },
    {
      "cell_type": "code",
      "execution_count": null,
      "metadata": {
        "id": "HB1tGTJAQHwr"
      },
      "outputs": [],
      "source": [
        "# отделим 20% данных для тестовой выборки\n",
        "features_train_valid, features_test, target_train_valid, target_test = train_test_split(\n",
        "    features, target, test_size=0.2, random_state=12345) "
      ]
    },
    {
      "cell_type": "code",
      "execution_count": null,
      "metadata": {
        "id": "bfGMrDzaQHwr",
        "outputId": "9ed183b8-2d85-4e8d-83bc-2f1968e45f2b"
      },
      "outputs": [
        {
          "data": {
            "text/plain": [
              "(2000, 11)"
            ]
          },
          "execution_count": 19,
          "metadata": {},
          "output_type": "execute_result"
        }
      ],
      "source": [
        "features_test.shape # признаки, тестовая выборка"
      ]
    },
    {
      "cell_type": "code",
      "execution_count": null,
      "metadata": {
        "id": "c9mFl4n3QHws",
        "outputId": "4219cd76-a37a-45e3-e847-9aca8fd37958"
      },
      "outputs": [
        {
          "data": {
            "text/plain": [
              "(2000,)"
            ]
          },
          "execution_count": 20,
          "metadata": {},
          "output_type": "execute_result"
        }
      ],
      "source": [
        "target_test.shape # целевой признак, тестовая выборка"
      ]
    },
    {
      "cell_type": "code",
      "execution_count": null,
      "metadata": {
        "id": "bkTPFqWHQHws"
      },
      "outputs": [],
      "source": [
        "# отделим 25% данных для валидационной выборки\n",
        "features_train, features_valid, target_train, target_valid = train_test_split(\n",
        "    features_train_valid, target_train_valid, test_size=0.25, random_state=12345) "
      ]
    },
    {
      "cell_type": "code",
      "execution_count": null,
      "metadata": {
        "id": "772q8zqLQHws",
        "outputId": "a5b660f8-0747-42c8-a264-7113e19c3606"
      },
      "outputs": [
        {
          "data": {
            "text/plain": [
              "(6000, 11)"
            ]
          },
          "execution_count": 22,
          "metadata": {},
          "output_type": "execute_result"
        }
      ],
      "source": [
        "features_train.shape # признаки, тренировочная выборка"
      ]
    },
    {
      "cell_type": "code",
      "execution_count": null,
      "metadata": {
        "id": "TVY2vFKEQHws",
        "outputId": "597e20bd-1ca2-40ea-a48d-d60b248b8b22"
      },
      "outputs": [
        {
          "data": {
            "text/plain": [
              "(6000,)"
            ]
          },
          "execution_count": 23,
          "metadata": {},
          "output_type": "execute_result"
        }
      ],
      "source": [
        "target_train.shape # целевой признак, тренировочная выборка"
      ]
    },
    {
      "cell_type": "code",
      "execution_count": null,
      "metadata": {
        "id": "hT867nKaQHws",
        "outputId": "117ad8a6-f47e-462e-fd49-96d3b85f3dce"
      },
      "outputs": [
        {
          "data": {
            "text/plain": [
              "(2000, 11)"
            ]
          },
          "execution_count": 24,
          "metadata": {},
          "output_type": "execute_result"
        }
      ],
      "source": [
        "features_valid.shape # признаки, валидационная выборка"
      ]
    },
    {
      "cell_type": "code",
      "execution_count": null,
      "metadata": {
        "id": "63dC7_euQHwt",
        "outputId": "e61d45e8-f0e0-4740-d881-980acfcf6413"
      },
      "outputs": [
        {
          "data": {
            "text/plain": [
              "(2000,)"
            ]
          },
          "execution_count": 25,
          "metadata": {},
          "output_type": "execute_result"
        }
      ],
      "source": [
        "target_valid.shape # целевой признак, валидационная выборка"
      ]
    },
    {
      "cell_type": "markdown",
      "metadata": {
        "id": "POFYaDcjQHwt"
      },
      "source": [
        "Масштабируем численные признаки"
      ]
    },
    {
      "cell_type": "code",
      "execution_count": null,
      "metadata": {
        "id": "JCB1Ln83QHwt"
      },
      "outputs": [],
      "source": [
        "numeric = ['CreditScore', 'Age', 'Tenure', 'Balance', 'NumOfProducts', 'HasCrCard', 'IsActiveMember', 'EstimatedSalary']"
      ]
    },
    {
      "cell_type": "code",
      "execution_count": null,
      "metadata": {
        "id": "F1fH7JaDQHwt"
      },
      "outputs": [],
      "source": [
        "scaler = StandardScaler()\n",
        "\n",
        "features_train[numeric] = scaler.fit_transform(features_train[numeric])\n",
        "features_valid[numeric] = scaler.transform(features_valid[numeric])\n",
        "features_test[numeric] = scaler.transform(features_test[numeric])"
      ]
    },
    {
      "cell_type": "code",
      "execution_count": null,
      "metadata": {
        "id": "xTNqJM1hQHwu",
        "outputId": "7465e1d0-cfad-4d7a-e7cb-8b429e302317"
      },
      "outputs": [
        {
          "data": {
            "text/plain": [
              "(6000, 11)"
            ]
          },
          "execution_count": 28,
          "metadata": {},
          "output_type": "execute_result"
        }
      ],
      "source": [
        "features_train.shape"
      ]
    },
    {
      "cell_type": "code",
      "execution_count": null,
      "metadata": {
        "id": "7Gvx3ZRNQHwu",
        "outputId": "8244c18c-8bcd-43a3-e09c-60599ef723fa"
      },
      "outputs": [
        {
          "data": {
            "text/plain": [
              "(2000, 11)"
            ]
          },
          "execution_count": 29,
          "metadata": {},
          "output_type": "execute_result"
        }
      ],
      "source": [
        "features_valid.shape"
      ]
    },
    {
      "cell_type": "code",
      "execution_count": null,
      "metadata": {
        "id": "lThpRSI0QHwu",
        "outputId": "756fc65b-3269-4612-d850-ccc1ce94ce4b"
      },
      "outputs": [
        {
          "data": {
            "text/plain": [
              "(2000, 11)"
            ]
          },
          "execution_count": 30,
          "metadata": {},
          "output_type": "execute_result"
        }
      ],
      "source": [
        "features_test.shape"
      ]
    },
    {
      "cell_type": "markdown",
      "metadata": {
        "id": "zD9wAgUIQHwu"
      },
      "source": [
        "## Исследование задачи"
      ]
    },
    {
      "cell_type": "markdown",
      "metadata": {
        "id": "n7on9KVwQHwu"
      },
      "source": [
        "Исследуем баланс классов"
      ]
    },
    {
      "cell_type": "code",
      "execution_count": null,
      "metadata": {
        "id": "jHALxnBqQHwv",
        "outputId": "8b6ebf25-2c87-4b79-c130-1349ec6c0d66"
      },
      "outputs": [
        {
          "data": {
            "text/plain": [
              "0    0.7963\n",
              "1    0.2037\n",
              "Name: Exited, dtype: float64"
            ]
          },
          "execution_count": 31,
          "metadata": {},
          "output_type": "execute_result"
        }
      ],
      "source": [
        "df['Exited'].value_counts(normalize=True)"
      ]
    },
    {
      "cell_type": "markdown",
      "metadata": {
        "id": "DZ2zHho3QHwv"
      },
      "source": [
        "Классы несбалансированны.\n",
        "\n",
        "0 - клиент не ушел\n",
        "\n",
        "1 - клиент ушел"
      ]
    },
    {
      "cell_type": "markdown",
      "metadata": {
        "id": "QE-SzrR-QHwv"
      },
      "source": [
        "Изучим модели без учёта дисбаланса классов"
      ]
    },
    {
      "cell_type": "markdown",
      "metadata": {
        "id": "jmpd7VGRQHwv"
      },
      "source": [
        "### Дерево решений"
      ]
    },
    {
      "cell_type": "code",
      "execution_count": null,
      "metadata": {
        "id": "L_sM6EbJQHwv"
      },
      "outputs": [],
      "source": [
        "data = []\n",
        "col = ['model', 'F1', 'AUC_ROC', 'depth', 'est']"
      ]
    },
    {
      "cell_type": "code",
      "execution_count": null,
      "metadata": {
        "id": "8cZCbtM3QHww",
        "outputId": "17cfc74b-6c6e-423a-f4dc-c0f2c021eafa"
      },
      "outputs": [
        {
          "name": "stdout",
          "output_type": "stream",
          "text": [
            "F1 лучшей модели 'Дерево решений' на валидационной выборке: 0.5488958990536277 Глубина дерева: 7\n",
            "auc_roc лучшей модели 'Дерево решений' на валидационной выборке: 0.8275652142122556\n"
          ]
        }
      ],
      "source": [
        "best_model_DT = None\n",
        "best_f1 = 0\n",
        "best_depth = 0\n",
        "\n",
        "for depth in range(1, 11): # в цикле меняем гиперпараметр - максимальную глубину дерева\n",
        "    model = DecisionTreeClassifier(random_state=12345, max_depth=depth) # модель - дерево решений, с заданной глубиной дерева\n",
        "    model.fit(features_train, target_train) # алгоритм обучения - на выходе обученная модель на тренировочной выборке\n",
        "    predictions = model.predict(features_valid) # предсказания на валидационной выборке\n",
        "    f1 = f1_score(target_valid, predictions) # f1\n",
        "    if f1 > best_f1:\n",
        "        probabilities_valid = model.predict_proba(features_valid) # вероятность классов\n",
        "        probabilities_one_valid = probabilities_valid[:, 1] # значения вероятностей класса «1» \n",
        "        auc_roc = roc_auc_score(target_valid, probabilities_one_valid) # auc_roc\n",
        "        best_model_DT = model\n",
        "        best_f1 = f1\n",
        "        best_depth = depth\n",
        "        \n",
        "print(\"F1 лучшей модели 'Дерево решений' на валидационной выборке:\", best_f1, \"Глубина дерева:\", best_depth)\n",
        "print(\"auc_roc лучшей модели 'Дерево решений' на валидационной выборке:\", auc_roc)\n",
        "\n",
        "data.append(['DecTreeClass', best_f1, auc_roc, best_depth, '-'])"
      ]
    },
    {
      "cell_type": "markdown",
      "metadata": {
        "id": "PyXvDhzAQHww"
      },
      "source": [
        "### Случайный лес"
      ]
    },
    {
      "cell_type": "code",
      "execution_count": null,
      "metadata": {
        "id": "XzFGRpRpQHww",
        "outputId": "7262bca6-53b0-438f-9977-76f64b9c9e0e"
      },
      "outputs": [
        {
          "name": "stdout",
          "output_type": "stream",
          "text": [
            "F1 лучшей модели 'Случайный лес' на валидационной выборке: 0.5714285714285714 Количество деревьев: 13 Глубина дерева: 12\n",
            "auc_roc лучшей модели 'Случайный лес' на валидационной выборке: 0.8268101901230133\n"
          ]
        }
      ],
      "source": [
        "best_model_RF = None\n",
        "best_f1 = 0\n",
        "best_depth = 0\n",
        "best_est = 0\n",
        "\n",
        "for est in range(1, 21): # в цикле меняем гиперпараметр - максимальное количество деревьев\n",
        "    for depth in range(1, 15): # в цикле меняем гиперпараметр - максимальную глубину дерева\n",
        "        model = RandomForestClassifier(random_state=12345, n_estimators=est, max_depth=depth) # модель - случайный лес, с заданным количеством деревьев и заданной глубиной дерева\n",
        "        model.fit(features_train, target_train) # алгоритм обучения - на выходе обученная модель на тренировочной выборке\n",
        "        predictions = model.predict(features_valid) # предсказания на валидационной выборке\n",
        "        f1 = f1_score(target_valid, predictions) # f1\n",
        "        if f1 > best_f1:\n",
        "            probabilities_valid = model.predict_proba(features_valid) # вероятность классов\n",
        "            probabilities_one_valid = probabilities_valid[:, 1] # значения вероятностей класса «1» \n",
        "            auc_roc = roc_auc_score(target_valid, probabilities_one_valid) # auc_roc\n",
        "            best_model_RF = model\n",
        "            best_f1 = f1\n",
        "            best_depth = depth\n",
        "            best_est = est\n",
        "        \n",
        "print(\"F1 лучшей модели 'Случайный лес' на валидационной выборке:\", best_f1, \"Количество деревьев:\", best_est, \"Глубина дерева:\", best_depth)\n",
        "print(\"auc_roc лучшей модели 'Случайный лес' на валидационной выборке:\", auc_roc)\n",
        "\n",
        "data.append(['RandForClass', best_f1, auc_roc, best_depth, best_est])"
      ]
    },
    {
      "cell_type": "markdown",
      "metadata": {
        "id": "MmiyvBXXQHww"
      },
      "source": [
        "### Логистическая регрессия"
      ]
    },
    {
      "cell_type": "code",
      "execution_count": null,
      "metadata": {
        "scrolled": true,
        "id": "YuPmwFRJQHwx",
        "outputId": "bf04ad10-b9e5-46e4-a321-4d3488a01c2b"
      },
      "outputs": [
        {
          "name": "stdout",
          "output_type": "stream",
          "text": [
            "F1 модели логистической регрессии на валидационной выборке: 0.3056603773584906\n",
            "auc_roc модели логистической регрессии на валидационной выборке: 0.7707603807864648\n"
          ]
        }
      ],
      "source": [
        "model = LogisticRegression(random_state=12345) # модель логистической регрессии с параметром random_state=12345\n",
        "model.fit(features_train, target_train) # алгоритм обучения - на выходе обученная модель на тренировочной выборке\n",
        "predictions = model.predict(features_valid) # предсказания на валидационной выборке\n",
        "f1 = f1_score(target_valid, predictions) # f1\n",
        "probabilities_valid = model.predict_proba(features_valid) # вероятность классов\n",
        "probabilities_one_valid = probabilities_valid[:, 1] # значения вероятностей класса «1» \n",
        "auc_roc = roc_auc_score(target_valid, probabilities_one_valid) # auc_roc\n",
        "\n",
        "print(\"F1 модели логистической регрессии на валидационной выборке:\", f1)\n",
        "print(\"auc_roc модели логистической регрессии на валидационной выборке:\", auc_roc)\n",
        "\n",
        "data.append(['LogRegress', f1, auc_roc, '-', '-'])"
      ]
    },
    {
      "cell_type": "code",
      "execution_count": null,
      "metadata": {
        "id": "peNGB5XlQHwx"
      },
      "outputs": [],
      "source": [
        "result = pd.DataFrame(data=data , columns=col) # таблица с результатами"
      ]
    },
    {
      "cell_type": "code",
      "execution_count": null,
      "metadata": {
        "id": "4SNh3ppqQHwx",
        "outputId": "8476adad-4a09-4041-ae4b-480654af7604"
      },
      "outputs": [
        {
          "data": {
            "text/html": [
              "<div>\n",
              "<style scoped>\n",
              "    .dataframe tbody tr th:only-of-type {\n",
              "        vertical-align: middle;\n",
              "    }\n",
              "\n",
              "    .dataframe tbody tr th {\n",
              "        vertical-align: top;\n",
              "    }\n",
              "\n",
              "    .dataframe thead th {\n",
              "        text-align: right;\n",
              "    }\n",
              "</style>\n",
              "<table border=\"1\" class=\"dataframe\">\n",
              "  <thead>\n",
              "    <tr style=\"text-align: right;\">\n",
              "      <th></th>\n",
              "      <th>model</th>\n",
              "      <th>F1</th>\n",
              "      <th>AUC_ROC</th>\n",
              "      <th>depth</th>\n",
              "      <th>est</th>\n",
              "    </tr>\n",
              "  </thead>\n",
              "  <tbody>\n",
              "    <tr>\n",
              "      <td>0</td>\n",
              "      <td>DecTreeClass</td>\n",
              "      <td>0.548896</td>\n",
              "      <td>0.827565</td>\n",
              "      <td>7</td>\n",
              "      <td>-</td>\n",
              "    </tr>\n",
              "    <tr>\n",
              "      <td>1</td>\n",
              "      <td>RandForClass</td>\n",
              "      <td>0.571429</td>\n",
              "      <td>0.826810</td>\n",
              "      <td>12</td>\n",
              "      <td>13</td>\n",
              "    </tr>\n",
              "    <tr>\n",
              "      <td>2</td>\n",
              "      <td>LogRegress</td>\n",
              "      <td>0.305660</td>\n",
              "      <td>0.770760</td>\n",
              "      <td>-</td>\n",
              "      <td>-</td>\n",
              "    </tr>\n",
              "  </tbody>\n",
              "</table>\n",
              "</div>"
            ],
            "text/plain": [
              "          model        F1   AUC_ROC depth est\n",
              "0  DecTreeClass  0.548896  0.827565     7   -\n",
              "1  RandForClass  0.571429  0.826810    12  13\n",
              "2    LogRegress  0.305660  0.770760     -   -"
            ]
          },
          "execution_count": 37,
          "metadata": {},
          "output_type": "execute_result"
        }
      ],
      "source": [
        "result"
      ]
    },
    {
      "cell_type": "markdown",
      "metadata": {
        "id": "ZIg4M4ARQHwx"
      },
      "source": [
        "Лучший показатель F1-меры при дисбалансе классов получен на модели случайный лес: 0.5714285714285714. Количество деревьев: 13 Глубина дерева: 12.\n",
        "\n",
        "При этом auc_roc: 0.8268101901230133. Чуть хуже результаты модели 'Дерево решений'."
      ]
    },
    {
      "cell_type": "markdown",
      "metadata": {
        "id": "ClvCkEYoQHwy"
      },
      "source": [
        "## Борьба с дисбалансом"
      ]
    },
    {
      "cell_type": "markdown",
      "metadata": {
        "id": "ZcGAZpzoQHwy"
      },
      "source": [
        "### Взвешивание классов"
      ]
    },
    {
      "cell_type": "markdown",
      "metadata": {
        "id": "QFU8qHOTQHwy"
      },
      "source": [
        "#### Дерево решений"
      ]
    },
    {
      "cell_type": "code",
      "execution_count": null,
      "metadata": {
        "id": "J16mGVP1QHwy",
        "outputId": "c281c5b5-c886-4d0e-a1cf-4e3604e3e656"
      },
      "outputs": [
        {
          "name": "stdout",
          "output_type": "stream",
          "text": [
            "F1 лучшей модели 'Дерево решений, взвеш.кл.' на валидационной выборке: 0.5587044534412956 Глубина дерева: 6\n",
            "auc_roc лучшей модели 'Дерево решений, взвеш.кл.' на валидационной выборке: 0.8089018134883863\n"
          ]
        }
      ],
      "source": [
        "best_model_DTCB = None\n",
        "best_f1 = 0\n",
        "best_depth = 0\n",
        "\n",
        "for depth in range(1, 11): # в цикле меняем гиперпараметр - максимальную глубину дерева\n",
        "    model = DecisionTreeClassifier(random_state=12345, max_depth=depth, class_weight='balanced') # модель - дерево решений, с заданной глубиной дерева\n",
        "    model.fit(features_train, target_train) # алгоритм обучения - на выходе обученная модель на тренировочной выборке\n",
        "    predictions = model.predict(features_valid) # предсказания на валидационной выборке\n",
        "    f1 = f1_score(target_valid, predictions) # f1\n",
        "    if f1 > best_f1:\n",
        "        probabilities_valid = model.predict_proba(features_valid) # вероятность классов\n",
        "        probabilities_one_valid = probabilities_valid[:, 1] # значения вероятностей класса «1» \n",
        "        auc_roc = roc_auc_score(target_valid, probabilities_one_valid) # auc_roc\n",
        "        best_model_DTCB = model\n",
        "        best_f1 = f1\n",
        "        best_depth = depth\n",
        "        \n",
        "print(\"F1 лучшей модели 'Дерево решений, взвеш.кл.' на валидационной выборке:\", best_f1, \"Глубина дерева:\", best_depth)\n",
        "print(\"auc_roc лучшей модели 'Дерево решений, взвеш.кл.' на валидационной выборке:\", auc_roc)\n",
        "\n",
        "data.append(['DecTreeClassBal', best_f1, auc_roc, best_depth, '-'])"
      ]
    },
    {
      "cell_type": "markdown",
      "metadata": {
        "id": "sBDpp41oQHwz"
      },
      "source": [
        "#### Случайный лес"
      ]
    },
    {
      "cell_type": "code",
      "execution_count": null,
      "metadata": {
        "id": "q_xEVu0uQHwz",
        "outputId": "01413449-0f7e-41ec-ecdd-1f3799dbf447"
      },
      "outputs": [
        {
          "name": "stdout",
          "output_type": "stream",
          "text": [
            "F1 лучшей модели 'Случайный лес, взвеш.кл.' на валидационной выборке: 0.5931758530183727 Количество деревьев: 19 Глубина дерева: 11\n",
            "auc_roc лучшей модели 'Случайный лес, взвеш.кл.' на валидационной выборке: 0.8484475909962981\n"
          ]
        }
      ],
      "source": [
        "best_model_RFCB = None\n",
        "best_f1 = 0\n",
        "best_depth = 0\n",
        "best_est = 0\n",
        "\n",
        "for est in range(1, 21): # в цикле меняем гиперпараметр - максимальное количество деревьев\n",
        "    for depth in range(1, 15): # в цикле меняем гиперпараметр - максимальную глубину дерева\n",
        "        model = RandomForestClassifier(random_state=12345, n_estimators=est, max_depth=depth, class_weight='balanced') # модель - случайный лес, с заданным количеством деревьев и заданной глубиной дерева\n",
        "        model.fit(features_train, target_train) # алгоритм обучения - на выходе обученная модель на тренировочной выборке\n",
        "        predictions = model.predict(features_valid) # предсказания на валидационной выборке\n",
        "        f1 = f1_score(target_valid, predictions) # f1\n",
        "        if f1 > best_f1:\n",
        "            probabilities_valid = model.predict_proba(features_valid) # вероятность классов\n",
        "            probabilities_one_valid = probabilities_valid[:, 1] # значения вероятностей класса «1» \n",
        "            auc_roc = roc_auc_score(target_valid, probabilities_one_valid) # auc_roc\n",
        "            best_model_RFCB = model\n",
        "            best_f1 = f1\n",
        "            best_depth = depth\n",
        "            best_est = est\n",
        "        \n",
        "print(\"F1 лучшей модели 'Случайный лес, взвеш.кл.' на валидационной выборке:\", best_f1, \"Количество деревьев:\", best_est, \"Глубина дерева:\", best_depth)\n",
        "print(\"auc_roc лучшей модели 'Случайный лес, взвеш.кл.' на валидационной выборке:\", auc_roc)\n",
        "\n",
        "data.append(['RandForClassBal', best_f1, auc_roc, best_depth, best_est])"
      ]
    },
    {
      "cell_type": "markdown",
      "metadata": {
        "id": "JsRCSAghQHwz"
      },
      "source": [
        "#### Логистическая регрессия"
      ]
    },
    {
      "cell_type": "code",
      "execution_count": null,
      "metadata": {
        "id": "nhPIy5AFQHw0",
        "outputId": "551be0af-6419-47ef-bfa8-d1ce8f6c0c94"
      },
      "outputs": [
        {
          "name": "stdout",
          "output_type": "stream",
          "text": [
            "F1 модели логистической регрессии, взвеш.кл. на валидационной выборке: 0.47763864042933807\n",
            "auc_roc модели логистической регрессии, взвеш.кл. на валидационной выборке: 0.7729507454074667\n"
          ]
        }
      ],
      "source": [
        "model = LogisticRegression(random_state=12345, solver='liblinear', class_weight='balanced') # модель логистической регрессии с параметром random_state=12345\n",
        "model.fit(features_train, target_train) # алгоритм обучения - на выходе обученная модель на тренировочной выборке\n",
        "predictions = model.predict(features_valid) # предсказания на валидационной выборке\n",
        "f1 = f1_score(target_valid, predictions) # f1\n",
        "probabilities_valid = model.predict_proba(features_valid) # вероятность классов\n",
        "probabilities_one_valid = probabilities_valid[:, 1] # значения вероятностей класса «1» \n",
        "auc_roc = roc_auc_score(target_valid, probabilities_one_valid) # auc_roc\n",
        "\n",
        "print(\"F1 модели логистической регрессии, взвеш.кл. на валидационной выборке:\", f1)\n",
        "print(\"auc_roc модели логистической регрессии, взвеш.кл. на валидационной выборке:\", auc_roc)\n",
        "\n",
        "data.append(['LogRegressBal', f1, auc_roc, '-', '-'])"
      ]
    },
    {
      "cell_type": "code",
      "execution_count": null,
      "metadata": {
        "id": "owbtSf2uQHw0"
      },
      "outputs": [],
      "source": [
        "result = pd.DataFrame(data=data , columns=col) # таблица с результатами"
      ]
    },
    {
      "cell_type": "code",
      "execution_count": null,
      "metadata": {
        "scrolled": true,
        "id": "5FYoKThCQHw0",
        "outputId": "ea7f655d-a95a-49ac-b11a-b66a35e454d6"
      },
      "outputs": [
        {
          "data": {
            "text/html": [
              "<div>\n",
              "<style scoped>\n",
              "    .dataframe tbody tr th:only-of-type {\n",
              "        vertical-align: middle;\n",
              "    }\n",
              "\n",
              "    .dataframe tbody tr th {\n",
              "        vertical-align: top;\n",
              "    }\n",
              "\n",
              "    .dataframe thead th {\n",
              "        text-align: right;\n",
              "    }\n",
              "</style>\n",
              "<table border=\"1\" class=\"dataframe\">\n",
              "  <thead>\n",
              "    <tr style=\"text-align: right;\">\n",
              "      <th></th>\n",
              "      <th>model</th>\n",
              "      <th>F1</th>\n",
              "      <th>AUC_ROC</th>\n",
              "      <th>depth</th>\n",
              "      <th>est</th>\n",
              "    </tr>\n",
              "  </thead>\n",
              "  <tbody>\n",
              "    <tr>\n",
              "      <td>0</td>\n",
              "      <td>DecTreeClass</td>\n",
              "      <td>0.548896</td>\n",
              "      <td>0.827565</td>\n",
              "      <td>7</td>\n",
              "      <td>-</td>\n",
              "    </tr>\n",
              "    <tr>\n",
              "      <td>1</td>\n",
              "      <td>RandForClass</td>\n",
              "      <td>0.571429</td>\n",
              "      <td>0.826810</td>\n",
              "      <td>12</td>\n",
              "      <td>13</td>\n",
              "    </tr>\n",
              "    <tr>\n",
              "      <td>2</td>\n",
              "      <td>LogRegress</td>\n",
              "      <td>0.305660</td>\n",
              "      <td>0.770760</td>\n",
              "      <td>-</td>\n",
              "      <td>-</td>\n",
              "    </tr>\n",
              "    <tr>\n",
              "      <td>3</td>\n",
              "      <td>DecTreeClassBal</td>\n",
              "      <td>0.558704</td>\n",
              "      <td>0.808902</td>\n",
              "      <td>6</td>\n",
              "      <td>-</td>\n",
              "    </tr>\n",
              "    <tr>\n",
              "      <td>4</td>\n",
              "      <td>RandForClassBal</td>\n",
              "      <td>0.593176</td>\n",
              "      <td>0.848448</td>\n",
              "      <td>11</td>\n",
              "      <td>19</td>\n",
              "    </tr>\n",
              "    <tr>\n",
              "      <td>5</td>\n",
              "      <td>LogRegressBal</td>\n",
              "      <td>0.477639</td>\n",
              "      <td>0.772951</td>\n",
              "      <td>-</td>\n",
              "      <td>-</td>\n",
              "    </tr>\n",
              "  </tbody>\n",
              "</table>\n",
              "</div>"
            ],
            "text/plain": [
              "             model        F1   AUC_ROC depth est\n",
              "0     DecTreeClass  0.548896  0.827565     7   -\n",
              "1     RandForClass  0.571429  0.826810    12  13\n",
              "2       LogRegress  0.305660  0.770760     -   -\n",
              "3  DecTreeClassBal  0.558704  0.808902     6   -\n",
              "4  RandForClassBal  0.593176  0.848448    11  19\n",
              "5    LogRegressBal  0.477639  0.772951     -   -"
            ]
          },
          "execution_count": 42,
          "metadata": {},
          "output_type": "execute_result"
        }
      ],
      "source": [
        "result"
      ]
    },
    {
      "cell_type": "markdown",
      "metadata": {
        "id": "fXV1C-slQHw0"
      },
      "source": [
        "Лучший показатель F1-меры при взвешивании классов получен на модели случайный лес: 0.5931758530183727. Количество деревьев: 19 Глубина дерева: 11.\n",
        "\n",
        "При этом auc_roc: 0.8484475909962981. \n",
        "\n",
        "По сравнению с дисбалансом показатели улучшились."
      ]
    },
    {
      "cell_type": "markdown",
      "metadata": {
        "id": "d4JpgU20QHw0"
      },
      "source": [
        "### Увеличение выборки"
      ]
    },
    {
      "cell_type": "code",
      "execution_count": null,
      "metadata": {
        "id": "KC7iPnIUQHw1"
      },
      "outputs": [],
      "source": [
        "def upsample(features, target, repeat):\n",
        "    features_zeros = features[target == 0]\n",
        "    features_ones = features[target == 1]\n",
        "    target_zeros = target[target == 0]\n",
        "    target_ones = target[target == 1]\n",
        "\n",
        "    features_upsampled = pd.concat([features_zeros] + [features_ones] * repeat)\n",
        "    target_upsampled = pd.concat([target_zeros] + [target_ones] * repeat)\n",
        "    \n",
        "    features_upsampled, target_upsampled = shuffle(\n",
        "        features_upsampled, target_upsampled, random_state=12345)\n",
        "    \n",
        "    return features_upsampled, target_upsampled"
      ]
    },
    {
      "cell_type": "code",
      "execution_count": null,
      "metadata": {
        "id": "kued1GWSQHw1"
      },
      "outputs": [],
      "source": [
        "features_upsampled, target_upsampled = upsample(features_train, target_train, 6)"
      ]
    },
    {
      "cell_type": "markdown",
      "metadata": {
        "id": "1pVU_TJjQHw1"
      },
      "source": [
        "#### Дерево решений"
      ]
    },
    {
      "cell_type": "code",
      "execution_count": null,
      "metadata": {
        "id": "_oHSmyIOQHw1",
        "outputId": "9335f249-4c61-4270-ac0c-ca2e24e9cfab"
      },
      "outputs": [
        {
          "name": "stdout",
          "output_type": "stream",
          "text": [
            "F1 лучшей модели 'Дерево решений' на увеличенной выборке, взвеш.кл.: 0.5587044534412956 Глубина дерева: 6\n",
            "auc_roc лучшей модели 'Дерево решений' на увеличенной выборке, взвеш.кл.: 0.8089065820615813\n"
          ]
        }
      ],
      "source": [
        "best_model_DTUP = None\n",
        "best_f1 = 0\n",
        "best_depth = 0\n",
        "\n",
        "for depth in range(1, 11): # в цикле меняем гиперпараметр - максимальную глубину дерева\n",
        "    model = DecisionTreeClassifier(random_state=12345, max_depth=depth, class_weight='balanced') # модель - дерево решений, с заданной глубиной дерева\n",
        "    model.fit(features_upsampled, target_upsampled)\n",
        "    predictions = model.predict(features_valid) # предсказания на валидационной выборке\n",
        "    f1 = f1_score(target_valid, predictions) # f1\n",
        "    if f1 > best_f1:\n",
        "        probabilities_valid = model.predict_proba(features_valid) # вероятность классов\n",
        "        probabilities_one_valid = probabilities_valid[:, 1] # значения вероятностей класса «1» \n",
        "        auc_roc = roc_auc_score(target_valid, probabilities_one_valid) # auc_roc\n",
        "        best_model_DTUP = model\n",
        "        best_f1 = f1\n",
        "        best_depth = depth\n",
        "        \n",
        "print(\"F1 лучшей модели 'Дерево решений' на увеличенной выборке, взвеш.кл.:\", best_f1, \"Глубина дерева:\", best_depth)\n",
        "print(\"auc_roc лучшей модели 'Дерево решений' на увеличенной выборке, взвеш.кл.:\", auc_roc)\n",
        "\n",
        "data.append(['DecTreeClassUP', best_f1, auc_roc, best_depth, '-'])"
      ]
    },
    {
      "cell_type": "markdown",
      "metadata": {
        "id": "kAcnJXjlQHw1"
      },
      "source": [
        "#### Случайный лес"
      ]
    },
    {
      "cell_type": "code",
      "execution_count": null,
      "metadata": {
        "id": "tJn5c6RcQHw1",
        "outputId": "a521c749-24f4-48f0-e8be-7d10b48e448e"
      },
      "outputs": [
        {
          "name": "stdout",
          "output_type": "stream",
          "text": [
            "F1 лучшей модели 'Случайный лес' на увеличенной выборке, взвеш.кл.: 0.6018306636155607 Количество деревьев: 20 Глубина дерева: 10\n",
            "auc_roc лучшей модели 'Случайный лес', на увеличенной выборке, взвеш.кл. 0.848620054393525\n"
          ]
        }
      ],
      "source": [
        "best_model_RF_up = None\n",
        "best_f1_up = 0\n",
        "best_depth_up = 0\n",
        "best_est_up = 0\n",
        "\n",
        "for est in range(1, 22): # в цикле меняем гиперпараметр - максимальное количество деревьев\n",
        "    for depth in range(1, 15): # в цикле меняем гиперпараметр - максимальную глубину дерева\n",
        "        model = RandomForestClassifier(random_state=12345, n_estimators=est, max_depth=depth, class_weight='balanced') # модель - случайный лес, с заданным количеством деревьев и заданной глубиной дерева\n",
        "        model.fit(features_upsampled, target_upsampled) # алгоритм обучения - на выходе обученная модель \n",
        "        predictions = model.predict(features_valid) # предсказания на валидационной выборке\n",
        "        f1 = f1_score(target_valid, predictions) # f1\n",
        "        if f1 > best_f1_up:\n",
        "            probabilities_valid = model.predict_proba(features_valid) # вероятность классов\n",
        "            probabilities_one_valid = probabilities_valid[:, 1] # значения вероятностей класса «1» \n",
        "            auc_roc_up = roc_auc_score(target_valid, probabilities_one_valid) # auc_roc\n",
        "            best_model_RF_up = model\n",
        "            best_f1_up = f1\n",
        "            best_depth_up = depth\n",
        "            best_est_up = est\n",
        "        \n",
        "print(\"F1 лучшей модели 'Случайный лес' на увеличенной выборке, взвеш.кл.:\", best_f1_up, \"Количество деревьев:\", best_est_up, \"Глубина дерева:\", best_depth_up)\n",
        "print(\"auc_roc лучшей модели 'Случайный лес', на увеличенной выборке, взвеш.кл.\", auc_roc_up)\n",
        "\n",
        "data.append(['RandForClassUP', best_f1_up, auc_roc_up, best_depth_up, best_est_up])"
      ]
    },
    {
      "cell_type": "markdown",
      "metadata": {
        "id": "T4HN3iYsQHw2"
      },
      "source": [
        "#### Логистическая регрессия"
      ]
    },
    {
      "cell_type": "code",
      "execution_count": null,
      "metadata": {
        "id": "JqGEvqcRQHw2",
        "outputId": "9b7266c3-46a4-441f-e008-243642a7cecb"
      },
      "outputs": [
        {
          "name": "stdout",
          "output_type": "stream",
          "text": [
            "F1 модели логистической регрессии на увеличенной выборке, взвеш.кл.: 0.47763864042933807\n",
            "auc_roc модели логистической регрессии на увеличенной выборке, взвеш.кл.: 0.7729857149442315\n"
          ]
        }
      ],
      "source": [
        "model = LogisticRegression(random_state=12345, solver='liblinear', class_weight='balanced') # модель логистической регрессии с параметром random_state=12345\n",
        "model.fit(features_upsampled, target_upsampled) # алгоритм обучения - на выходе обученная модель \n",
        "predictions = model.predict(features_valid) # предсказания на валидационной выборке\n",
        "f1 = f1_score(target_valid, predictions) # f1\n",
        "probabilities_valid = model.predict_proba(features_valid) # вероятность классов\n",
        "probabilities_one_valid = probabilities_valid[:, 1] # значения вероятностей класса «1» \n",
        "auc_roc = roc_auc_score(target_valid, probabilities_one_valid) # auc_roc\n",
        "\n",
        "print(\"F1 модели логистической регрессии на увеличенной выборке, взвеш.кл.:\", f1)\n",
        "print(\"auc_roc модели логистической регрессии на увеличенной выборке, взвеш.кл.:\", auc_roc)\n",
        "\n",
        "data.append(['LogRegressUP', f1, auc_roc, '-', '-'])"
      ]
    },
    {
      "cell_type": "code",
      "execution_count": null,
      "metadata": {
        "id": "V7tmbopvQHw2"
      },
      "outputs": [],
      "source": [
        "result = pd.DataFrame(data=data , columns=col) # таблица с результатами"
      ]
    },
    {
      "cell_type": "code",
      "execution_count": null,
      "metadata": {
        "id": "lrVKGQboQHw2",
        "outputId": "18c03234-0f0f-4e66-df6f-5215a1ce4eda"
      },
      "outputs": [
        {
          "data": {
            "text/html": [
              "<div>\n",
              "<style scoped>\n",
              "    .dataframe tbody tr th:only-of-type {\n",
              "        vertical-align: middle;\n",
              "    }\n",
              "\n",
              "    .dataframe tbody tr th {\n",
              "        vertical-align: top;\n",
              "    }\n",
              "\n",
              "    .dataframe thead th {\n",
              "        text-align: right;\n",
              "    }\n",
              "</style>\n",
              "<table border=\"1\" class=\"dataframe\">\n",
              "  <thead>\n",
              "    <tr style=\"text-align: right;\">\n",
              "      <th></th>\n",
              "      <th>model</th>\n",
              "      <th>F1</th>\n",
              "      <th>AUC_ROC</th>\n",
              "      <th>depth</th>\n",
              "      <th>est</th>\n",
              "    </tr>\n",
              "  </thead>\n",
              "  <tbody>\n",
              "    <tr>\n",
              "      <td>0</td>\n",
              "      <td>DecTreeClass</td>\n",
              "      <td>0.548896</td>\n",
              "      <td>0.827565</td>\n",
              "      <td>7</td>\n",
              "      <td>-</td>\n",
              "    </tr>\n",
              "    <tr>\n",
              "      <td>1</td>\n",
              "      <td>RandForClass</td>\n",
              "      <td>0.571429</td>\n",
              "      <td>0.826810</td>\n",
              "      <td>12</td>\n",
              "      <td>13</td>\n",
              "    </tr>\n",
              "    <tr>\n",
              "      <td>2</td>\n",
              "      <td>LogRegress</td>\n",
              "      <td>0.305660</td>\n",
              "      <td>0.770760</td>\n",
              "      <td>-</td>\n",
              "      <td>-</td>\n",
              "    </tr>\n",
              "    <tr>\n",
              "      <td>3</td>\n",
              "      <td>DecTreeClassBal</td>\n",
              "      <td>0.558704</td>\n",
              "      <td>0.808902</td>\n",
              "      <td>6</td>\n",
              "      <td>-</td>\n",
              "    </tr>\n",
              "    <tr>\n",
              "      <td>4</td>\n",
              "      <td>RandForClassBal</td>\n",
              "      <td>0.593176</td>\n",
              "      <td>0.848448</td>\n",
              "      <td>11</td>\n",
              "      <td>19</td>\n",
              "    </tr>\n",
              "    <tr>\n",
              "      <td>5</td>\n",
              "      <td>LogRegressBal</td>\n",
              "      <td>0.477639</td>\n",
              "      <td>0.772951</td>\n",
              "      <td>-</td>\n",
              "      <td>-</td>\n",
              "    </tr>\n",
              "    <tr>\n",
              "      <td>6</td>\n",
              "      <td>DecTreeClassUP</td>\n",
              "      <td>0.558704</td>\n",
              "      <td>0.808907</td>\n",
              "      <td>6</td>\n",
              "      <td>-</td>\n",
              "    </tr>\n",
              "    <tr>\n",
              "      <td>7</td>\n",
              "      <td>RandForClassUP</td>\n",
              "      <td>0.601831</td>\n",
              "      <td>0.848620</td>\n",
              "      <td>10</td>\n",
              "      <td>20</td>\n",
              "    </tr>\n",
              "    <tr>\n",
              "      <td>8</td>\n",
              "      <td>LogRegressUP</td>\n",
              "      <td>0.477639</td>\n",
              "      <td>0.772986</td>\n",
              "      <td>-</td>\n",
              "      <td>-</td>\n",
              "    </tr>\n",
              "  </tbody>\n",
              "</table>\n",
              "</div>"
            ],
            "text/plain": [
              "             model        F1   AUC_ROC depth est\n",
              "0     DecTreeClass  0.548896  0.827565     7   -\n",
              "1     RandForClass  0.571429  0.826810    12  13\n",
              "2       LogRegress  0.305660  0.770760     -   -\n",
              "3  DecTreeClassBal  0.558704  0.808902     6   -\n",
              "4  RandForClassBal  0.593176  0.848448    11  19\n",
              "5    LogRegressBal  0.477639  0.772951     -   -\n",
              "6   DecTreeClassUP  0.558704  0.808907     6   -\n",
              "7   RandForClassUP  0.601831  0.848620    10  20\n",
              "8     LogRegressUP  0.477639  0.772986     -   -"
            ]
          },
          "execution_count": 49,
          "metadata": {},
          "output_type": "execute_result"
        }
      ],
      "source": [
        "result"
      ]
    },
    {
      "cell_type": "markdown",
      "metadata": {
        "id": "XNKym1-uQHw2"
      },
      "source": [
        "Лучший показатель F1-меры при увеличении выборки и взвешивании классов получен на модели случайный лес: 0.6018306636155607. Количество деревьев: 20 Глубина дерева: 10.\n",
        "\n",
        "При этом auc_roc: 0.848620054393525. \n",
        "\n",
        "По сравнению с взвешиванием классов показатели улучшились.\n",
        "\n",
        "При попытке увеличения выборки и не использовании взвешивания классов показатели ухудшаются."
      ]
    },
    {
      "cell_type": "markdown",
      "metadata": {
        "id": "W2ib0cEfQHw3"
      },
      "source": [
        "### Уменьшение выборки"
      ]
    },
    {
      "cell_type": "code",
      "execution_count": null,
      "metadata": {
        "id": "U1TKNK-3QHw3"
      },
      "outputs": [],
      "source": [
        "def downsample(features, target, fraction):\n",
        "    features_zeros = features[target == 0]\n",
        "    features_ones = features[target == 1]\n",
        "    target_zeros = target[target == 0]\n",
        "    target_ones = target[target == 1]\n",
        "\n",
        "    features_downsampled = pd.concat(\n",
        "        [features_zeros.sample(frac=fraction, random_state=12345)] + [features_ones])\n",
        "    target_downsampled = pd.concat(\n",
        "        [target_zeros.sample(frac=fraction, random_state=12345)] + [target_ones])\n",
        "    \n",
        "    features_downsampled, target_downsampled = shuffle(\n",
        "        features_downsampled, target_downsampled, random_state=12345)\n",
        "    \n",
        "    return features_downsampled, target_downsampled"
      ]
    },
    {
      "cell_type": "code",
      "execution_count": null,
      "metadata": {
        "id": "CB5msGVaQHw3"
      },
      "outputs": [],
      "source": [
        "features_downsampled, target_downsampled = downsample(features_train, target_train, 0.3)"
      ]
    },
    {
      "cell_type": "markdown",
      "metadata": {
        "id": "TgzaajTUQHw3"
      },
      "source": [
        "#### Дерево решений"
      ]
    },
    {
      "cell_type": "code",
      "execution_count": null,
      "metadata": {
        "id": "97BrGky3QHw3",
        "outputId": "cd021467-c4dd-4677-a376-c4a3fa76221c"
      },
      "outputs": [
        {
          "name": "stdout",
          "output_type": "stream",
          "text": [
            "F1 лучшей модели 'Дерево решений' на уменьшенной выборке: 0.5717073170731707 Глубина дерева: 6\n",
            "auc_roc лучшей модели 'Дерево решений' на уменьшенной выборке: 0.8298763826875359\n"
          ]
        }
      ],
      "source": [
        "best_model_DT = None\n",
        "best_f1 = 0\n",
        "best_depth = 0\n",
        "\n",
        "for depth in range(1, 11): # в цикле меняем гиперпараметр - максимальную глубину дерева\n",
        "    model = DecisionTreeClassifier(random_state=12345, max_depth=depth) # модель - дерево решений, с заданной глубиной дерева\n",
        "    model.fit(features_downsampled, target_downsampled)\n",
        "    predictions = model.predict(features_valid) # предсказания на валидационной выборке\n",
        "    f1 = f1_score(target_valid, predictions) # f1\n",
        "    if f1 > best_f1:\n",
        "        probabilities_valid = model.predict_proba(features_valid) # вероятность классов\n",
        "        probabilities_one_valid = probabilities_valid[:, 1] # значения вероятностей класса «1» \n",
        "        auc_roc = roc_auc_score(target_valid, probabilities_one_valid) # auc_roc\n",
        "        best_model_DT = model\n",
        "        best_f1 = f1\n",
        "        best_depth = depth\n",
        "        \n",
        "print(\"F1 лучшей модели 'Дерево решений' на уменьшенной выборке:\", best_f1, \"Глубина дерева:\", best_depth)\n",
        "print(\"auc_roc лучшей модели 'Дерево решений' на уменьшенной выборке:\", auc_roc)\n",
        "\n",
        "data.append(['DecTreeClassDown', best_f1, auc_roc, best_depth, '-'])"
      ]
    },
    {
      "cell_type": "markdown",
      "metadata": {
        "id": "ZxAYbK0ZQHw3"
      },
      "source": [
        "#### Случайный лес"
      ]
    },
    {
      "cell_type": "code",
      "execution_count": null,
      "metadata": {
        "id": "rkbtNp5UQHw4",
        "outputId": "a34d6f5f-8692-4236-84df-8a2fef51d4d0"
      },
      "outputs": [
        {
          "name": "stdout",
          "output_type": "stream",
          "text": [
            "F1 лучшей модели 'Случайный лес' на уменьшенной выборке: 0.5826944140197152 Количество деревьев: 9 Глубина дерева: 6\n",
            "auc_roc лучшей модели 'Случайный лес, на уменьшенной выборке: 0.8374703355009148\n"
          ]
        }
      ],
      "source": [
        "best_model_RF = None\n",
        "best_f1 = 0\n",
        "best_depth = 0\n",
        "best_est = 0\n",
        "\n",
        "for est in range(1, 21): # в цикле меняем гиперпараметр - максимальное количество деревьев\n",
        "    for depth in range(1, 15): # в цикле меняем гиперпараметр - максимальную глубину дерева\n",
        "        model = RandomForestClassifier(random_state=12345, n_estimators=est, max_depth=depth) # модель - случайный лес, с заданным количеством деревьев и заданной глубиной дерева\n",
        "        model.fit(features_downsampled, target_downsampled) # алгоритм обучения - на выходе обученная модель \n",
        "        predictions = model.predict(features_valid) # предсказания на валидационной выборке\n",
        "        f1 = f1_score(target_valid, predictions) # f1\n",
        "        if f1 > best_f1:\n",
        "            probabilities_valid = model.predict_proba(features_valid) # вероятность классов\n",
        "            probabilities_one_valid = probabilities_valid[:, 1] # значения вероятностей класса «1» \n",
        "            auc_roc = roc_auc_score(target_valid, probabilities_one_valid) # auc_roc\n",
        "            best_model_RF = model\n",
        "            best_f1 = f1\n",
        "            best_depth = depth\n",
        "            best_est = est\n",
        "        \n",
        "print(\"F1 лучшей модели 'Случайный лес' на уменьшенной выборке:\", best_f1, \"Количество деревьев:\", best_est, \"Глубина дерева:\", best_depth)\n",
        "print(\"auc_roc лучшей модели 'Случайный лес, на уменьшенной выборке:\", auc_roc)\n",
        "\n",
        "data.append(['RandForClassDown', best_f1, auc_roc, best_depth, best_est])"
      ]
    },
    {
      "cell_type": "markdown",
      "metadata": {
        "id": "O7bXUHiyQHw4"
      },
      "source": [
        "#### Логистическая регрессия"
      ]
    },
    {
      "cell_type": "code",
      "execution_count": null,
      "metadata": {
        "id": "dJ_i-HsmQHw4",
        "outputId": "86c5450b-4a0e-4af4-ab92-d6a7004c9905"
      },
      "outputs": [
        {
          "name": "stdout",
          "output_type": "stream",
          "text": [
            "F1 модели логистической регрессии на уменьшенной выборке: 0.48880233690360275\n",
            "auc_roc модели логистической регрессии на уменьшенной выборке.: 0.7733560741290599\n"
          ]
        }
      ],
      "source": [
        "model = LogisticRegression(random_state=12345, solver='liblinear') # модель логистической регрессии с параметром random_state=12345\n",
        "model.fit(features_downsampled, target_downsampled) # алгоритм обучения - на выходе обученная модель \n",
        "predictions = model.predict(features_valid) # предсказания на валидационной выборке\n",
        "f1 = f1_score(target_valid, predictions) # f1\n",
        "probabilities_valid = model.predict_proba(features_valid) # вероятность классов\n",
        "probabilities_one_valid = probabilities_valid[:, 1] # значения вероятностей класса «1» \n",
        "auc_roc = roc_auc_score(target_valid, probabilities_one_valid) # auc_roc\n",
        "\n",
        "print(\"F1 модели логистической регрессии на уменьшенной выборке:\", f1)\n",
        "print(\"auc_roc модели логистической регрессии на уменьшенной выборке.:\", auc_roc)\n",
        "\n",
        "data.append(['LogRegressDown', f1, auc_roc, '-', '-'])"
      ]
    },
    {
      "cell_type": "code",
      "execution_count": null,
      "metadata": {
        "id": "3ycoGLOJQHw4"
      },
      "outputs": [],
      "source": [
        "result = pd.DataFrame(data=data , columns=col) # таблица с результатами"
      ]
    },
    {
      "cell_type": "code",
      "execution_count": null,
      "metadata": {
        "id": "gwxdBgIdQHw4",
        "outputId": "1a993b8d-b93e-4535-fa88-6be02c44dfb0"
      },
      "outputs": [
        {
          "data": {
            "text/html": [
              "<div>\n",
              "<style scoped>\n",
              "    .dataframe tbody tr th:only-of-type {\n",
              "        vertical-align: middle;\n",
              "    }\n",
              "\n",
              "    .dataframe tbody tr th {\n",
              "        vertical-align: top;\n",
              "    }\n",
              "\n",
              "    .dataframe thead th {\n",
              "        text-align: right;\n",
              "    }\n",
              "</style>\n",
              "<table border=\"1\" class=\"dataframe\">\n",
              "  <thead>\n",
              "    <tr style=\"text-align: right;\">\n",
              "      <th></th>\n",
              "      <th>model</th>\n",
              "      <th>F1</th>\n",
              "      <th>AUC_ROC</th>\n",
              "      <th>depth</th>\n",
              "      <th>est</th>\n",
              "    </tr>\n",
              "  </thead>\n",
              "  <tbody>\n",
              "    <tr>\n",
              "      <td>0</td>\n",
              "      <td>DecTreeClass</td>\n",
              "      <td>0.548896</td>\n",
              "      <td>0.827565</td>\n",
              "      <td>7</td>\n",
              "      <td>-</td>\n",
              "    </tr>\n",
              "    <tr>\n",
              "      <td>1</td>\n",
              "      <td>RandForClass</td>\n",
              "      <td>0.571429</td>\n",
              "      <td>0.826810</td>\n",
              "      <td>12</td>\n",
              "      <td>13</td>\n",
              "    </tr>\n",
              "    <tr>\n",
              "      <td>2</td>\n",
              "      <td>LogRegress</td>\n",
              "      <td>0.305660</td>\n",
              "      <td>0.770760</td>\n",
              "      <td>-</td>\n",
              "      <td>-</td>\n",
              "    </tr>\n",
              "    <tr>\n",
              "      <td>3</td>\n",
              "      <td>DecTreeClassBal</td>\n",
              "      <td>0.558704</td>\n",
              "      <td>0.808902</td>\n",
              "      <td>6</td>\n",
              "      <td>-</td>\n",
              "    </tr>\n",
              "    <tr>\n",
              "      <td>4</td>\n",
              "      <td>RandForClassBal</td>\n",
              "      <td>0.593176</td>\n",
              "      <td>0.848448</td>\n",
              "      <td>11</td>\n",
              "      <td>19</td>\n",
              "    </tr>\n",
              "    <tr>\n",
              "      <td>5</td>\n",
              "      <td>LogRegressBal</td>\n",
              "      <td>0.477639</td>\n",
              "      <td>0.772951</td>\n",
              "      <td>-</td>\n",
              "      <td>-</td>\n",
              "    </tr>\n",
              "    <tr>\n",
              "      <td>6</td>\n",
              "      <td>DecTreeClassUP</td>\n",
              "      <td>0.558704</td>\n",
              "      <td>0.808907</td>\n",
              "      <td>6</td>\n",
              "      <td>-</td>\n",
              "    </tr>\n",
              "    <tr>\n",
              "      <td>7</td>\n",
              "      <td>RandForClassUP</td>\n",
              "      <td>0.601831</td>\n",
              "      <td>0.848620</td>\n",
              "      <td>10</td>\n",
              "      <td>20</td>\n",
              "    </tr>\n",
              "    <tr>\n",
              "      <td>8</td>\n",
              "      <td>LogRegressUP</td>\n",
              "      <td>0.477639</td>\n",
              "      <td>0.772986</td>\n",
              "      <td>-</td>\n",
              "      <td>-</td>\n",
              "    </tr>\n",
              "    <tr>\n",
              "      <td>9</td>\n",
              "      <td>DecTreeClassDown</td>\n",
              "      <td>0.571707</td>\n",
              "      <td>0.829876</td>\n",
              "      <td>6</td>\n",
              "      <td>-</td>\n",
              "    </tr>\n",
              "    <tr>\n",
              "      <td>10</td>\n",
              "      <td>RandForClassDown</td>\n",
              "      <td>0.582694</td>\n",
              "      <td>0.837470</td>\n",
              "      <td>6</td>\n",
              "      <td>9</td>\n",
              "    </tr>\n",
              "    <tr>\n",
              "      <td>11</td>\n",
              "      <td>LogRegressDown</td>\n",
              "      <td>0.488802</td>\n",
              "      <td>0.773356</td>\n",
              "      <td>-</td>\n",
              "      <td>-</td>\n",
              "    </tr>\n",
              "  </tbody>\n",
              "</table>\n",
              "</div>"
            ],
            "text/plain": [
              "               model        F1   AUC_ROC depth est\n",
              "0       DecTreeClass  0.548896  0.827565     7   -\n",
              "1       RandForClass  0.571429  0.826810    12  13\n",
              "2         LogRegress  0.305660  0.770760     -   -\n",
              "3    DecTreeClassBal  0.558704  0.808902     6   -\n",
              "4    RandForClassBal  0.593176  0.848448    11  19\n",
              "5      LogRegressBal  0.477639  0.772951     -   -\n",
              "6     DecTreeClassUP  0.558704  0.808907     6   -\n",
              "7     RandForClassUP  0.601831  0.848620    10  20\n",
              "8       LogRegressUP  0.477639  0.772986     -   -\n",
              "9   DecTreeClassDown  0.571707  0.829876     6   -\n",
              "10  RandForClassDown  0.582694  0.837470     6   9\n",
              "11    LogRegressDown  0.488802  0.773356     -   -"
            ]
          },
          "execution_count": 56,
          "metadata": {},
          "output_type": "execute_result"
        }
      ],
      "source": [
        "result"
      ]
    },
    {
      "cell_type": "markdown",
      "metadata": {
        "id": "xng7GDWOQHw5"
      },
      "source": [
        "Лучший показатель F1-меры при уменьшении выборки получен на модели случайный лес: 0.5826944140197152. Количество деревьев: 9 Глубина дерева: 6. При этом auc_roc: 0.8374703355009148.\n",
        "\n",
        "По сравнению с увеличением выборки и взвешиванием классов показатели ухудшились.\n",
        "\n",
        "При попытке уменьшения выборки и взвешивании классов показатели ухудшаются."
      ]
    },
    {
      "cell_type": "markdown",
      "metadata": {
        "id": "LiQSJJIyQHw5"
      },
      "source": [
        "## Тестирование модели"
      ]
    },
    {
      "cell_type": "markdown",
      "metadata": {
        "id": "NPUoPWCOQHw5"
      },
      "source": [
        "Тестирование проведем на модели показавшей лучшие результаты: 'случайный лес' при увеличении выборки и взвешивании классов. Количество деревьев: 20 Глубина дерева: 10."
      ]
    },
    {
      "cell_type": "code",
      "execution_count": null,
      "metadata": {
        "scrolled": false,
        "id": "9l6pxQlUQHw5",
        "outputId": "b389302c-74e7-48c6-dbc3-d840a74fc391"
      },
      "outputs": [
        {
          "name": "stdout",
          "output_type": "stream",
          "text": [
            "F1 лучшей модели 'Случайный лес' на тестовой выборке: 0.6320254506892895 Количество деревьев: 20 Глубина дерева: 10\n",
            "auc_roc лучшей модели 'Случайный лес' на тестовой выборке: 0.8620857532929068\n"
          ]
        }
      ],
      "source": [
        "predictions = best_model_RF_up.predict(features_test) # предсказания на тестовой выборке\n",
        "#predictions = best_model_RFCB.predict(features_test) # предсказания на тестовой выборке\n",
        "f1 = f1_score(target_test, predictions) # f1\n",
        "probabilities_test = best_model_RF_up.predict_proba(features_test) # вероятность классов\n",
        "#probabilities_test = best_model_RFCB.predict_proba(features_test) # вероятность классов\n",
        "probabilities_one_test = probabilities_test[:, 1] # значения вероятностей класса «1» \n",
        "auc_roc = roc_auc_score(target_test, probabilities_one_test) # auc_roc\n",
        "        \n",
        "print(\"F1 лучшей модели 'Случайный лес' на тестовой выборке:\", f1, \"Количество деревьев:\", best_est_up, \"Глубина дерева:\", best_depth_up)\n",
        "print(\"auc_roc лучшей модели 'Случайный лес' на тестовой выборке:\", auc_roc)\n",
        "\n",
        "data.append(['-', '-', '-', '-', '-'])\n",
        "data.append(['BEST_model_test', f1, auc_roc, best_depth_up, best_est_up])"
      ]
    },
    {
      "cell_type": "code",
      "execution_count": null,
      "metadata": {
        "id": "oPpOu4fKQHw6"
      },
      "outputs": [],
      "source": [
        "result = pd.DataFrame(data=data , columns=col) # таблица с результатами"
      ]
    },
    {
      "cell_type": "code",
      "execution_count": null,
      "metadata": {
        "id": "wUE82YVRQHw6",
        "outputId": "d4af14e8-6495-4a38-9485-7cd7c89b27d3"
      },
      "outputs": [
        {
          "data": {
            "text/html": [
              "<div>\n",
              "<style scoped>\n",
              "    .dataframe tbody tr th:only-of-type {\n",
              "        vertical-align: middle;\n",
              "    }\n",
              "\n",
              "    .dataframe tbody tr th {\n",
              "        vertical-align: top;\n",
              "    }\n",
              "\n",
              "    .dataframe thead th {\n",
              "        text-align: right;\n",
              "    }\n",
              "</style>\n",
              "<table border=\"1\" class=\"dataframe\">\n",
              "  <thead>\n",
              "    <tr style=\"text-align: right;\">\n",
              "      <th></th>\n",
              "      <th>model</th>\n",
              "      <th>F1</th>\n",
              "      <th>AUC_ROC</th>\n",
              "      <th>depth</th>\n",
              "      <th>est</th>\n",
              "    </tr>\n",
              "  </thead>\n",
              "  <tbody>\n",
              "    <tr>\n",
              "      <td>0</td>\n",
              "      <td>DecTreeClass</td>\n",
              "      <td>0.548896</td>\n",
              "      <td>0.827565</td>\n",
              "      <td>7</td>\n",
              "      <td>-</td>\n",
              "    </tr>\n",
              "    <tr>\n",
              "      <td>1</td>\n",
              "      <td>RandForClass</td>\n",
              "      <td>0.571429</td>\n",
              "      <td>0.82681</td>\n",
              "      <td>12</td>\n",
              "      <td>13</td>\n",
              "    </tr>\n",
              "    <tr>\n",
              "      <td>2</td>\n",
              "      <td>LogRegress</td>\n",
              "      <td>0.30566</td>\n",
              "      <td>0.77076</td>\n",
              "      <td>-</td>\n",
              "      <td>-</td>\n",
              "    </tr>\n",
              "    <tr>\n",
              "      <td>3</td>\n",
              "      <td>DecTreeClassBal</td>\n",
              "      <td>0.558704</td>\n",
              "      <td>0.808902</td>\n",
              "      <td>6</td>\n",
              "      <td>-</td>\n",
              "    </tr>\n",
              "    <tr>\n",
              "      <td>4</td>\n",
              "      <td>RandForClassBal</td>\n",
              "      <td>0.593176</td>\n",
              "      <td>0.848448</td>\n",
              "      <td>11</td>\n",
              "      <td>19</td>\n",
              "    </tr>\n",
              "    <tr>\n",
              "      <td>5</td>\n",
              "      <td>LogRegressBal</td>\n",
              "      <td>0.477639</td>\n",
              "      <td>0.772951</td>\n",
              "      <td>-</td>\n",
              "      <td>-</td>\n",
              "    </tr>\n",
              "    <tr>\n",
              "      <td>6</td>\n",
              "      <td>DecTreeClassUP</td>\n",
              "      <td>0.558704</td>\n",
              "      <td>0.808907</td>\n",
              "      <td>6</td>\n",
              "      <td>-</td>\n",
              "    </tr>\n",
              "    <tr>\n",
              "      <td>7</td>\n",
              "      <td>RandForClassUP</td>\n",
              "      <td>0.601831</td>\n",
              "      <td>0.84862</td>\n",
              "      <td>10</td>\n",
              "      <td>20</td>\n",
              "    </tr>\n",
              "    <tr>\n",
              "      <td>8</td>\n",
              "      <td>LogRegressUP</td>\n",
              "      <td>0.477639</td>\n",
              "      <td>0.772986</td>\n",
              "      <td>-</td>\n",
              "      <td>-</td>\n",
              "    </tr>\n",
              "    <tr>\n",
              "      <td>9</td>\n",
              "      <td>DecTreeClassDown</td>\n",
              "      <td>0.571707</td>\n",
              "      <td>0.829876</td>\n",
              "      <td>6</td>\n",
              "      <td>-</td>\n",
              "    </tr>\n",
              "    <tr>\n",
              "      <td>10</td>\n",
              "      <td>RandForClassDown</td>\n",
              "      <td>0.582694</td>\n",
              "      <td>0.83747</td>\n",
              "      <td>6</td>\n",
              "      <td>9</td>\n",
              "    </tr>\n",
              "    <tr>\n",
              "      <td>11</td>\n",
              "      <td>LogRegressDown</td>\n",
              "      <td>0.488802</td>\n",
              "      <td>0.773356</td>\n",
              "      <td>-</td>\n",
              "      <td>-</td>\n",
              "    </tr>\n",
              "    <tr>\n",
              "      <td>12</td>\n",
              "      <td>-</td>\n",
              "      <td>-</td>\n",
              "      <td>-</td>\n",
              "      <td>-</td>\n",
              "      <td>-</td>\n",
              "    </tr>\n",
              "    <tr>\n",
              "      <td>13</td>\n",
              "      <td>BEST_model_test</td>\n",
              "      <td>0.632025</td>\n",
              "      <td>0.862086</td>\n",
              "      <td>10</td>\n",
              "      <td>20</td>\n",
              "    </tr>\n",
              "  </tbody>\n",
              "</table>\n",
              "</div>"
            ],
            "text/plain": [
              "               model        F1   AUC_ROC depth est\n",
              "0       DecTreeClass  0.548896  0.827565     7   -\n",
              "1       RandForClass  0.571429   0.82681    12  13\n",
              "2         LogRegress   0.30566   0.77076     -   -\n",
              "3    DecTreeClassBal  0.558704  0.808902     6   -\n",
              "4    RandForClassBal  0.593176  0.848448    11  19\n",
              "5      LogRegressBal  0.477639  0.772951     -   -\n",
              "6     DecTreeClassUP  0.558704  0.808907     6   -\n",
              "7     RandForClassUP  0.601831   0.84862    10  20\n",
              "8       LogRegressUP  0.477639  0.772986     -   -\n",
              "9   DecTreeClassDown  0.571707  0.829876     6   -\n",
              "10  RandForClassDown  0.582694   0.83747     6   9\n",
              "11    LogRegressDown  0.488802  0.773356     -   -\n",
              "12                 -         -         -     -   -\n",
              "13   BEST_model_test  0.632025  0.862086    10  20"
            ]
          },
          "execution_count": 59,
          "metadata": {},
          "output_type": "execute_result"
        }
      ],
      "source": [
        "result"
      ]
    },
    {
      "cell_type": "markdown",
      "metadata": {
        "id": "oPrvGerQQHw6"
      },
      "source": [
        "На тестовой выборке лучшей моделью получена F1-мера = 0.6320254506892589, auc_roc=0.8620857532929068."
      ]
    },
    {
      "cell_type": "markdown",
      "metadata": {
        "id": "6jIyoYSIQHw6"
      },
      "source": [
        "Дополнительно.\n",
        "\n",
        "При заполнении пропусков в столбце Tenure на медианное значение в зависимости от возраста результат хуже:\n",
        "\n",
        "F1-мера лучшей модели 'Случайный лес' при взвешивании классов на тестовой выборке: 0.6178861788617885, auc_roc=0.8488731834484442. "
      ]
    },
    {
      "cell_type": "markdown",
      "metadata": {
        "id": "Xp3moan8QHw6"
      },
      "source": [
        "## Исследование важности признаков"
      ]
    },
    {
      "cell_type": "code",
      "execution_count": null,
      "metadata": {
        "id": "Sg_9FdIJQHw7"
      },
      "outputs": [],
      "source": [
        "feature_names = features_test.columns"
      ]
    },
    {
      "cell_type": "code",
      "execution_count": null,
      "metadata": {
        "id": "onjhia5LQHw7",
        "outputId": "fd21e356-74b8-44e7-bb03-02576f6d0910"
      },
      "outputs": [
        {
          "name": "stdout",
          "output_type": "stream",
          "text": [
            "Elapsed time to compute the importances: 0.003 seconds\n"
          ]
        }
      ],
      "source": [
        "import time\n",
        "\n",
        "start_time = time.time()\n",
        "importances = best_model_RF_up.feature_importances_\n",
        "std = np.std([tree.feature_importances_ for tree in best_model_RF_up.estimators_], axis=0)\n",
        "elapsed_time = time.time() - start_time\n",
        "\n",
        "print(f\"Elapsed time to compute the importances: {elapsed_time:.3f} seconds\")"
      ]
    },
    {
      "cell_type": "code",
      "execution_count": null,
      "metadata": {
        "scrolled": true,
        "id": "kcGcvoIWQHw7",
        "outputId": "d17bf0f8-62bb-4fd1-a564-e425513e8f2e"
      },
      "outputs": [
        {
          "data": {
            "image/png": "[encoded data removed]",
            "text/plain": [
              "<Figure size 432x288 with 1 Axes>"
            ]
          },
          "metadata": {
            "needs_background": "light"
          },
          "output_type": "display_data"
        }
      ],
      "source": [
        "import matplotlib.pyplot as plt\n",
        "\n",
        "forest_importances = pd.Series(importances, index=feature_names)\n",
        "\n",
        "fig, ax = plt.subplots()\n",
        "forest_importances.plot.bar(yerr=std, ax=ax)\n",
        "ax.set_title(\"Важность признаков\")\n",
        "ax.set_ylabel(\"Важность\")\n",
        "fig.tight_layout()"
      ]
    },
    {
      "cell_type": "markdown",
      "metadata": {
        "id": "BeNJIEw2QHw7"
      },
      "source": [
        "Важными оказались признаки:\n",
        "\n",
        "* Age — возраст\n",
        "* Balance — баланс на счёте\n",
        "* NumOfProducts — количество продуктов банка, используемых клиентом"
      ]
    },
    {
      "cell_type": "markdown",
      "metadata": {
        "id": "Py1BnEuNQHw8"
      },
      "source": [
        "**Общий вывод**\n",
        "\n",
        "* Лучший показатель F1-меры при дисбалансе классов получен на модели случайный лес: 0.5714285714285714. Количество деревьев: 13 Глубина дерева: 12. При этом auc_roc: 0.8268101901230133. Чуть хуже результаты модели 'Дерево решений'.\n",
        "* Лучший показатель F1-меры при взвешивании классов получен на модели случайный лес: 0.5931758530183727. Количество деревьев: 19 Глубина дерева: 11. При этом auc_roc: 0.8484475909962981. По сравнению с дисбалансом показатели улучшились.\n",
        "* Лучший показатель F1-меры при увеличении выборки и взвешивании классов получен на модели случайный лес: 0.6018306636155607. Количество деревьев: 20 Глубина дерева: 10. При этом auc_roc: 0.848620054393525. По сравнению с взвешиванием классов показатели улучшились. При попытке увеличения выборки и не использовании взвешивания классов показатели ухудшаются.\n",
        "* Лучший показатель F1-меры при уменьшении выборки получен на модели случайный лес: 0.5826944140197152. Количество деревьев: 9 Глубина дерева: 6. При этом auc_roc: 0.8374703355009148. По сравнению с увеличением выборки и взвешиванием классов показатели ухудшились. При попытке уменьшения выборки и взвешивании классов показатели ухудшаются.\n",
        "* Тестирование проведено на модели показавшей лучшие результаты: 'случайный лес' при увеличении выборки и взвешивании классов. Количество деревьев: 20 Глубина дерева: 10. На тестовой выборке лучшей моделью получена F1-мера = 0.6320254506892589, auc_roc=0.8620857532929068. Удалось достичь F1-меры не менее 0.59.\n",
        "* Дополнительно. При заполнении пропусков в столбце Tenure на медианное значение в зависимости от возраста результат хуже: F1-мера лучшей модели 'Случайный лес' при взвешивании классов на тестовой выборке: 0.6178861788617885, auc_roc=0.8488731834484442. \n",
        "* Исследована важность признаков. Важными оказались признаки: возраст, баланс на счёте, количество продуктов банка, используемых клиентом."
      ]
    }
  ],
  "metadata": {
    "ExecuteTimeLog": [
      {
        "duration": 1311,
        "start_time": "2022-02-13T05:45:22.168Z"
      },
      {
        "duration": 4,
        "start_time": "2022-02-13T05:45:26.042Z"
      },
      {
        "duration": 36,
        "start_time": "2022-02-13T05:45:29.414Z"
      },
      {
        "duration": 59,
        "start_time": "2022-02-13T05:45:31.002Z"
      },
      {
        "duration": 12,
        "start_time": "2022-02-13T05:46:11.537Z"
      },
      {
        "duration": 11,
        "start_time": "2022-02-13T06:17:36.387Z"
      },
      {
        "duration": 6,
        "start_time": "2022-02-13T06:20:48.301Z"
      },
      {
        "duration": 6,
        "start_time": "2022-02-13T06:20:49.569Z"
      },
      {
        "duration": 6,
        "start_time": "2022-02-13T06:20:51.385Z"
      },
      {
        "duration": 10,
        "start_time": "2022-02-13T07:01:02.340Z"
      },
      {
        "duration": 5,
        "start_time": "2022-02-13T07:01:03.809Z"
      },
      {
        "duration": 5,
        "start_time": "2022-02-13T07:01:05.053Z"
      },
      {
        "duration": 9,
        "start_time": "2022-02-13T07:01:07.082Z"
      },
      {
        "duration": 5,
        "start_time": "2022-02-13T07:01:08.225Z"
      },
      {
        "duration": 5,
        "start_time": "2022-02-13T07:01:09.833Z"
      },
      {
        "duration": 5,
        "start_time": "2022-02-13T07:01:11.025Z"
      },
      {
        "duration": 5,
        "start_time": "2022-02-13T07:01:12.322Z"
      },
      {
        "duration": 15,
        "start_time": "2022-02-13T07:11:15.279Z"
      },
      {
        "duration": 530,
        "start_time": "2022-02-13T07:12:56.408Z"
      },
      {
        "duration": 337,
        "start_time": "2022-02-13T07:18:48.290Z"
      },
      {
        "duration": 327,
        "start_time": "2022-02-13T07:27:16.621Z"
      },
      {
        "duration": 4,
        "start_time": "2022-02-13T07:51:12.187Z"
      },
      {
        "duration": 5,
        "start_time": "2022-02-13T07:52:45.543Z"
      },
      {
        "duration": 4,
        "start_time": "2022-02-13T07:52:52.270Z"
      },
      {
        "duration": 5,
        "start_time": "2022-02-13T07:52:59.242Z"
      },
      {
        "duration": 342,
        "start_time": "2022-02-13T08:05:31.656Z"
      },
      {
        "duration": 5818,
        "start_time": "2022-02-13T08:23:39.121Z"
      },
      {
        "duration": 2154,
        "start_time": "2022-02-13T08:24:13.692Z"
      },
      {
        "duration": 408,
        "start_time": "2022-02-14T15:17:43.755Z"
      },
      {
        "duration": 1768,
        "start_time": "2022-02-14T15:17:54.558Z"
      },
      {
        "duration": 4,
        "start_time": "2022-02-14T15:17:57.906Z"
      },
      {
        "duration": 4,
        "start_time": "2022-02-14T15:17:59.273Z"
      },
      {
        "duration": 40,
        "start_time": "2022-02-14T15:18:01.017Z"
      },
      {
        "duration": 58,
        "start_time": "2022-02-14T15:18:02.478Z"
      },
      {
        "duration": 17,
        "start_time": "2022-02-14T15:18:06.859Z"
      },
      {
        "duration": 15,
        "start_time": "2022-02-14T15:18:38.290Z"
      },
      {
        "duration": 7,
        "start_time": "2022-02-14T15:18:42.518Z"
      },
      {
        "duration": 28,
        "start_time": "2022-02-14T15:18:51.374Z"
      },
      {
        "duration": 28,
        "start_time": "2022-02-14T15:34:46.397Z"
      },
      {
        "duration": 39,
        "start_time": "2022-02-14T15:34:56.197Z"
      },
      {
        "duration": 7,
        "start_time": "2022-02-14T15:38:03.846Z"
      },
      {
        "duration": 12,
        "start_time": "2022-02-14T15:38:05.917Z"
      },
      {
        "duration": 27,
        "start_time": "2022-02-14T15:38:19.659Z"
      },
      {
        "duration": 53,
        "start_time": "2022-02-14T15:38:21.875Z"
      },
      {
        "duration": 27,
        "start_time": "2022-02-14T15:39:38.507Z"
      },
      {
        "duration": 36,
        "start_time": "2022-02-14T15:39:39.781Z"
      },
      {
        "duration": 8,
        "start_time": "2022-02-14T15:42:32.427Z"
      },
      {
        "duration": 6,
        "start_time": "2022-02-14T15:42:33.938Z"
      },
      {
        "duration": 6,
        "start_time": "2022-02-14T15:42:35.602Z"
      },
      {
        "duration": 9,
        "start_time": "2022-02-14T15:43:05.803Z"
      },
      {
        "duration": 5,
        "start_time": "2022-02-14T15:43:07.170Z"
      },
      {
        "duration": 5,
        "start_time": "2022-02-14T15:43:08.571Z"
      },
      {
        "duration": 10,
        "start_time": "2022-02-14T15:43:10.410Z"
      },
      {
        "duration": 5,
        "start_time": "2022-02-14T15:43:11.546Z"
      },
      {
        "duration": 5,
        "start_time": "2022-02-14T15:43:12.690Z"
      },
      {
        "duration": 6,
        "start_time": "2022-02-14T15:43:13.818Z"
      },
      {
        "duration": 5,
        "start_time": "2022-02-14T15:43:14.890Z"
      },
      {
        "duration": 13,
        "start_time": "2022-02-14T15:45:16.055Z"
      },
      {
        "duration": 6,
        "start_time": "2022-02-14T15:45:37.506Z"
      },
      {
        "duration": 6,
        "start_time": "2022-02-14T15:45:44.620Z"
      },
      {
        "duration": 8,
        "start_time": "2022-02-14T15:45:55.492Z"
      },
      {
        "duration": 397,
        "start_time": "2022-02-14T15:46:22.013Z"
      },
      {
        "duration": 11,
        "start_time": "2022-02-14T16:04:47.092Z"
      },
      {
        "duration": 376,
        "start_time": "2022-02-14T16:05:34.167Z"
      },
      {
        "duration": 12,
        "start_time": "2022-02-14T16:07:45.773Z"
      },
      {
        "duration": 10,
        "start_time": "2022-02-14T16:08:31.125Z"
      },
      {
        "duration": 10,
        "start_time": "2022-02-14T16:08:46.132Z"
      },
      {
        "duration": 7,
        "start_time": "2022-02-14T16:09:59.776Z"
      },
      {
        "duration": 6,
        "start_time": "2022-02-14T16:10:28.182Z"
      },
      {
        "duration": 7,
        "start_time": "2022-02-14T16:10:29.558Z"
      },
      {
        "duration": 1460,
        "start_time": "2022-02-14T16:11:24.268Z"
      },
      {
        "duration": 5,
        "start_time": "2022-02-14T16:11:25.732Z"
      },
      {
        "duration": 6,
        "start_time": "2022-02-14T16:11:25.740Z"
      },
      {
        "duration": 38,
        "start_time": "2022-02-14T16:11:25.750Z"
      },
      {
        "duration": 68,
        "start_time": "2022-02-14T16:11:25.793Z"
      },
      {
        "duration": 18,
        "start_time": "2022-02-14T16:11:25.864Z"
      },
      {
        "duration": 37,
        "start_time": "2022-02-14T16:11:25.886Z"
      },
      {
        "duration": 5,
        "start_time": "2022-02-14T16:11:25.927Z"
      },
      {
        "duration": 6,
        "start_time": "2022-02-14T16:11:25.935Z"
      },
      {
        "duration": 9,
        "start_time": "2022-02-14T16:11:25.944Z"
      },
      {
        "duration": 6,
        "start_time": "2022-02-14T16:11:25.956Z"
      },
      {
        "duration": 75,
        "start_time": "2022-02-14T16:11:25.964Z"
      },
      {
        "duration": 23,
        "start_time": "2022-02-14T16:11:26.042Z"
      },
      {
        "duration": 30,
        "start_time": "2022-02-14T16:11:26.067Z"
      },
      {
        "duration": 10,
        "start_time": "2022-02-14T16:11:26.123Z"
      },
      {
        "duration": 9,
        "start_time": "2022-02-14T16:11:26.136Z"
      },
      {
        "duration": 6,
        "start_time": "2022-02-14T16:11:26.149Z"
      },
      {
        "duration": 9,
        "start_time": "2022-02-14T16:11:26.157Z"
      },
      {
        "duration": 8,
        "start_time": "2022-02-14T16:11:26.168Z"
      },
      {
        "duration": 50,
        "start_time": "2022-02-14T16:11:26.178Z"
      },
      {
        "duration": 11,
        "start_time": "2022-02-14T16:11:26.238Z"
      },
      {
        "duration": 6,
        "start_time": "2022-02-14T16:11:26.253Z"
      },
      {
        "duration": 13,
        "start_time": "2022-02-14T16:11:26.263Z"
      },
      {
        "duration": 45,
        "start_time": "2022-02-14T16:11:26.279Z"
      },
      {
        "duration": 5,
        "start_time": "2022-02-14T16:11:26.327Z"
      },
      {
        "duration": 17,
        "start_time": "2022-02-14T16:11:26.337Z"
      },
      {
        "duration": 6,
        "start_time": "2022-02-14T16:11:26.357Z"
      },
      {
        "duration": 9,
        "start_time": "2022-02-14T16:11:26.366Z"
      },
      {
        "duration": 47,
        "start_time": "2022-02-14T16:11:26.378Z"
      },
      {
        "duration": 477,
        "start_time": "2022-02-14T16:11:26.428Z"
      },
      {
        "duration": -61,
        "start_time": "2022-02-14T16:11:26.969Z"
      },
      {
        "duration": 5,
        "start_time": "2022-02-14T16:12:15.771Z"
      },
      {
        "duration": 45,
        "start_time": "2022-02-14T16:12:24.489Z"
      },
      {
        "duration": 323,
        "start_time": "2022-02-14T16:51:29.533Z"
      },
      {
        "duration": 336,
        "start_time": "2022-02-14T16:51:50.516Z"
      },
      {
        "duration": 196,
        "start_time": "2022-02-14T16:52:04.756Z"
      },
      {
        "duration": 80470,
        "start_time": "2022-02-14T17:02:01.060Z"
      },
      {
        "duration": 86537,
        "start_time": "2022-02-14T17:07:22.277Z"
      },
      {
        "duration": 40,
        "start_time": "2022-02-14T17:12:50.997Z"
      },
      {
        "duration": 138734,
        "start_time": "2022-02-14T17:13:22.445Z"
      },
      {
        "duration": 22874,
        "start_time": "2022-02-14T17:16:19.299Z"
      },
      {
        "duration": 21109,
        "start_time": "2022-02-14T17:17:37.782Z"
      },
      {
        "duration": 21014,
        "start_time": "2022-02-14T17:18:17.019Z"
      },
      {
        "duration": 18,
        "start_time": "2022-02-14T17:22:23.337Z"
      },
      {
        "duration": 1054,
        "start_time": "2022-02-15T13:30:13.210Z"
      },
      {
        "duration": 2,
        "start_time": "2022-02-15T13:30:14.266Z"
      },
      {
        "duration": 7,
        "start_time": "2022-02-15T13:30:14.269Z"
      },
      {
        "duration": 31,
        "start_time": "2022-02-15T13:30:14.278Z"
      },
      {
        "duration": 29,
        "start_time": "2022-02-15T13:30:14.310Z"
      },
      {
        "duration": 8,
        "start_time": "2022-02-15T13:30:14.340Z"
      },
      {
        "duration": 5,
        "start_time": "2022-02-15T13:30:14.349Z"
      },
      {
        "duration": 2,
        "start_time": "2022-02-15T13:30:14.357Z"
      },
      {
        "duration": 7,
        "start_time": "2022-02-15T13:30:14.361Z"
      },
      {
        "duration": 13,
        "start_time": "2022-02-15T13:30:14.370Z"
      },
      {
        "duration": 6,
        "start_time": "2022-02-15T13:30:14.384Z"
      },
      {
        "duration": 39,
        "start_time": "2022-02-15T13:30:14.392Z"
      },
      {
        "duration": 19,
        "start_time": "2022-02-15T13:30:14.432Z"
      },
      {
        "duration": 12,
        "start_time": "2022-02-15T13:30:14.453Z"
      },
      {
        "duration": 16,
        "start_time": "2022-02-15T13:30:14.467Z"
      },
      {
        "duration": 5,
        "start_time": "2022-02-15T13:30:14.485Z"
      },
      {
        "duration": 4,
        "start_time": "2022-02-15T13:30:14.491Z"
      },
      {
        "duration": 7,
        "start_time": "2022-02-15T13:30:14.496Z"
      },
      {
        "duration": 6,
        "start_time": "2022-02-15T13:30:14.531Z"
      },
      {
        "duration": 14,
        "start_time": "2022-02-15T13:30:14.538Z"
      },
      {
        "duration": 7,
        "start_time": "2022-02-15T13:30:14.554Z"
      },
      {
        "duration": 9,
        "start_time": "2022-02-15T13:30:14.563Z"
      },
      {
        "duration": 5,
        "start_time": "2022-02-15T13:30:14.574Z"
      },
      {
        "duration": 8,
        "start_time": "2022-02-15T13:30:14.580Z"
      },
      {
        "duration": 7,
        "start_time": "2022-02-15T13:30:14.589Z"
      },
      {
        "duration": 8,
        "start_time": "2022-02-15T13:30:14.598Z"
      },
      {
        "duration": 26,
        "start_time": "2022-02-15T13:30:14.607Z"
      },
      {
        "duration": 4,
        "start_time": "2022-02-15T13:30:14.635Z"
      },
      {
        "duration": 6,
        "start_time": "2022-02-15T13:30:14.641Z"
      },
      {
        "duration": 5,
        "start_time": "2022-02-15T13:30:14.649Z"
      },
      {
        "duration": 45,
        "start_time": "2022-02-15T13:30:14.655Z"
      },
      {
        "duration": -56,
        "start_time": "2022-02-15T13:30:14.758Z"
      },
      {
        "duration": -72,
        "start_time": "2022-02-15T13:30:14.774Z"
      },
      {
        "duration": 44,
        "start_time": "2022-02-15T13:31:02.014Z"
      },
      {
        "duration": 63,
        "start_time": "2022-02-15T13:31:54.287Z"
      },
      {
        "duration": 141,
        "start_time": "2022-02-15T13:32:17.199Z"
      },
      {
        "duration": 191,
        "start_time": "2022-02-15T13:32:25.869Z"
      },
      {
        "duration": 13546,
        "start_time": "2022-02-15T13:32:28.635Z"
      },
      {
        "duration": 23,
        "start_time": "2022-02-15T13:32:59.694Z"
      },
      {
        "duration": 146,
        "start_time": "2022-02-15T13:39:31.246Z"
      },
      {
        "duration": 213,
        "start_time": "2022-02-15T13:39:49.696Z"
      },
      {
        "duration": 151,
        "start_time": "2022-02-15T13:40:04.974Z"
      },
      {
        "duration": 13254,
        "start_time": "2022-02-15T13:42:09.526Z"
      },
      {
        "duration": 15,
        "start_time": "2022-02-15T13:44:41.510Z"
      },
      {
        "duration": 134,
        "start_time": "2022-02-15T13:45:03.056Z"
      },
      {
        "duration": 13954,
        "start_time": "2022-02-15T13:45:10.240Z"
      },
      {
        "duration": 4,
        "start_time": "2022-02-15T15:47:30.325Z"
      },
      {
        "duration": 286,
        "start_time": "2022-02-15T15:47:32.155Z"
      },
      {
        "duration": 3,
        "start_time": "2022-02-15T15:48:40.934Z"
      },
      {
        "duration": 328,
        "start_time": "2022-02-15T15:48:52.054Z"
      },
      {
        "duration": 267,
        "start_time": "2022-02-15T15:49:42.551Z"
      },
      {
        "duration": 378,
        "start_time": "2022-02-15T15:54:40.095Z"
      },
      {
        "duration": 4,
        "start_time": "2022-02-15T16:04:00.439Z"
      },
      {
        "duration": 259,
        "start_time": "2022-02-15T16:04:08.332Z"
      },
      {
        "duration": 3,
        "start_time": "2022-02-15T16:06:02.188Z"
      },
      {
        "duration": 673,
        "start_time": "2022-02-15T16:06:03.686Z"
      },
      {
        "duration": 4,
        "start_time": "2022-02-15T16:10:24.536Z"
      },
      {
        "duration": 266,
        "start_time": "2022-02-15T16:10:27.637Z"
      },
      {
        "duration": 3,
        "start_time": "2022-02-15T16:13:58.959Z"
      },
      {
        "duration": 341,
        "start_time": "2022-02-15T16:14:01.582Z"
      },
      {
        "duration": 298,
        "start_time": "2022-02-15T16:27:50.095Z"
      },
      {
        "duration": 3,
        "start_time": "2022-02-15T16:38:23.175Z"
      },
      {
        "duration": 257,
        "start_time": "2022-02-15T16:38:25.110Z"
      },
      {
        "duration": 3,
        "start_time": "2022-02-15T16:45:49.258Z"
      },
      {
        "duration": 130,
        "start_time": "2022-02-15T16:45:50.788Z"
      },
      {
        "duration": 1027,
        "start_time": "2022-02-15T16:46:11.531Z"
      },
      {
        "duration": 2,
        "start_time": "2022-02-15T16:46:12.560Z"
      },
      {
        "duration": 5,
        "start_time": "2022-02-15T16:46:12.564Z"
      },
      {
        "duration": 25,
        "start_time": "2022-02-15T16:46:12.571Z"
      },
      {
        "duration": 39,
        "start_time": "2022-02-15T16:46:12.597Z"
      },
      {
        "duration": 8,
        "start_time": "2022-02-15T16:46:12.637Z"
      },
      {
        "duration": 6,
        "start_time": "2022-02-15T16:46:12.647Z"
      },
      {
        "duration": 3,
        "start_time": "2022-02-15T16:46:12.655Z"
      },
      {
        "duration": 6,
        "start_time": "2022-02-15T16:46:12.660Z"
      },
      {
        "duration": 12,
        "start_time": "2022-02-15T16:46:12.668Z"
      },
      {
        "duration": 6,
        "start_time": "2022-02-15T16:46:12.682Z"
      },
      {
        "duration": 41,
        "start_time": "2022-02-15T16:46:12.690Z"
      },
      {
        "duration": 16,
        "start_time": "2022-02-15T16:46:12.733Z"
      },
      {
        "duration": 12,
        "start_time": "2022-02-15T16:46:12.750Z"
      },
      {
        "duration": 16,
        "start_time": "2022-02-15T16:46:12.764Z"
      },
      {
        "duration": 5,
        "start_time": "2022-02-15T16:46:12.782Z"
      },
      {
        "duration": 4,
        "start_time": "2022-02-15T16:46:12.789Z"
      },
      {
        "duration": 4,
        "start_time": "2022-02-15T16:46:12.831Z"
      },
      {
        "duration": 8,
        "start_time": "2022-02-15T16:46:12.836Z"
      },
      {
        "duration": 3,
        "start_time": "2022-02-15T16:46:12.846Z"
      },
      {
        "duration": 6,
        "start_time": "2022-02-15T16:46:12.851Z"
      },
      {
        "duration": 7,
        "start_time": "2022-02-15T16:46:12.858Z"
      },
      {
        "duration": 4,
        "start_time": "2022-02-15T16:46:12.868Z"
      },
      {
        "duration": 7,
        "start_time": "2022-02-15T16:46:12.874Z"
      },
      {
        "duration": 5,
        "start_time": "2022-02-15T16:46:12.883Z"
      },
      {
        "duration": 40,
        "start_time": "2022-02-15T16:46:12.890Z"
      },
      {
        "duration": 3,
        "start_time": "2022-02-15T16:46:12.932Z"
      },
      {
        "duration": 17,
        "start_time": "2022-02-15T16:46:12.936Z"
      },
      {
        "duration": 3,
        "start_time": "2022-02-15T16:46:12.955Z"
      },
      {
        "duration": 8,
        "start_time": "2022-02-15T16:46:12.960Z"
      },
      {
        "duration": 6,
        "start_time": "2022-02-15T16:46:12.969Z"
      },
      {
        "duration": 157,
        "start_time": "2022-02-15T16:46:12.976Z"
      },
      {
        "duration": 11992,
        "start_time": "2022-02-15T16:46:13.134Z"
      },
      {
        "duration": 20,
        "start_time": "2022-02-15T16:46:25.130Z"
      },
      {
        "duration": 320,
        "start_time": "2022-02-15T16:46:25.152Z"
      },
      {
        "duration": 14003,
        "start_time": "2022-02-15T16:46:25.475Z"
      },
      {
        "duration": 53,
        "start_time": "2022-02-15T16:46:39.480Z"
      },
      {
        "duration": 5,
        "start_time": "2022-02-15T16:46:39.535Z"
      },
      {
        "duration": 440,
        "start_time": "2022-02-15T16:46:39.543Z"
      },
      {
        "duration": -67,
        "start_time": "2022-02-15T16:46:40.052Z"
      },
      {
        "duration": -70,
        "start_time": "2022-02-15T16:46:40.057Z"
      },
      {
        "duration": -73,
        "start_time": "2022-02-15T16:46:40.061Z"
      },
      {
        "duration": 4,
        "start_time": "2022-02-15T16:48:04.198Z"
      },
      {
        "duration": 4,
        "start_time": "2022-02-15T16:48:32.049Z"
      },
      {
        "duration": 3,
        "start_time": "2022-02-15T16:48:37.008Z"
      },
      {
        "duration": 3,
        "start_time": "2022-02-15T16:50:13.409Z"
      },
      {
        "duration": 144,
        "start_time": "2022-02-15T16:50:24.170Z"
      },
      {
        "duration": 207,
        "start_time": "2022-02-15T16:50:31.786Z"
      },
      {
        "duration": 5,
        "start_time": "2022-02-15T16:50:42.993Z"
      },
      {
        "duration": 983,
        "start_time": "2022-02-15T16:50:52.682Z"
      },
      {
        "duration": 2,
        "start_time": "2022-02-15T16:50:53.667Z"
      },
      {
        "duration": 6,
        "start_time": "2022-02-15T16:50:53.671Z"
      },
      {
        "duration": 28,
        "start_time": "2022-02-15T16:50:53.678Z"
      },
      {
        "duration": 34,
        "start_time": "2022-02-15T16:50:53.707Z"
      },
      {
        "duration": 7,
        "start_time": "2022-02-15T16:50:53.742Z"
      },
      {
        "duration": 8,
        "start_time": "2022-02-15T16:50:53.751Z"
      },
      {
        "duration": 5,
        "start_time": "2022-02-15T16:50:53.761Z"
      },
      {
        "duration": 7,
        "start_time": "2022-02-15T16:50:53.768Z"
      },
      {
        "duration": 13,
        "start_time": "2022-02-15T16:50:53.776Z"
      },
      {
        "duration": 8,
        "start_time": "2022-02-15T16:50:53.791Z"
      },
      {
        "duration": 4,
        "start_time": "2022-02-15T16:50:53.830Z"
      },
      {
        "duration": 17,
        "start_time": "2022-02-15T16:50:53.836Z"
      },
      {
        "duration": 13,
        "start_time": "2022-02-15T16:50:53.854Z"
      },
      {
        "duration": 15,
        "start_time": "2022-02-15T16:50:53.868Z"
      },
      {
        "duration": 4,
        "start_time": "2022-02-15T16:50:53.885Z"
      },
      {
        "duration": 6,
        "start_time": "2022-02-15T16:50:53.891Z"
      },
      {
        "duration": 33,
        "start_time": "2022-02-15T16:50:53.898Z"
      },
      {
        "duration": 7,
        "start_time": "2022-02-15T16:50:53.933Z"
      },
      {
        "duration": 6,
        "start_time": "2022-02-15T16:50:53.942Z"
      },
      {
        "duration": 5,
        "start_time": "2022-02-15T16:50:53.949Z"
      },
      {
        "duration": 7,
        "start_time": "2022-02-15T16:50:53.956Z"
      },
      {
        "duration": 3,
        "start_time": "2022-02-15T16:50:53.966Z"
      },
      {
        "duration": 6,
        "start_time": "2022-02-15T16:50:53.971Z"
      },
      {
        "duration": 7,
        "start_time": "2022-02-15T16:50:53.979Z"
      },
      {
        "duration": 4,
        "start_time": "2022-02-15T16:50:53.987Z"
      },
      {
        "duration": 39,
        "start_time": "2022-02-15T16:50:53.992Z"
      },
      {
        "duration": 10,
        "start_time": "2022-02-15T16:50:54.032Z"
      },
      {
        "duration": 3,
        "start_time": "2022-02-15T16:50:54.043Z"
      },
      {
        "duration": 6,
        "start_time": "2022-02-15T16:50:54.048Z"
      },
      {
        "duration": 4,
        "start_time": "2022-02-15T16:50:54.056Z"
      },
      {
        "duration": 161,
        "start_time": "2022-02-15T16:50:54.062Z"
      },
      {
        "duration": 13853,
        "start_time": "2022-02-15T16:50:54.225Z"
      },
      {
        "duration": 56,
        "start_time": "2022-02-15T16:51:08.079Z"
      },
      {
        "duration": 257,
        "start_time": "2022-02-15T16:51:08.137Z"
      },
      {
        "duration": 13505,
        "start_time": "2022-02-15T16:51:08.395Z"
      },
      {
        "duration": 33,
        "start_time": "2022-02-15T16:51:21.901Z"
      },
      {
        "duration": 96,
        "start_time": "2022-02-15T16:51:21.937Z"
      },
      {
        "duration": 439,
        "start_time": "2022-02-15T16:51:22.035Z"
      },
      {
        "duration": -53,
        "start_time": "2022-02-15T16:51:22.529Z"
      },
      {
        "duration": -69,
        "start_time": "2022-02-15T16:51:22.546Z"
      },
      {
        "duration": -77,
        "start_time": "2022-02-15T16:51:22.555Z"
      },
      {
        "duration": 27,
        "start_time": "2022-02-15T16:51:48.507Z"
      },
      {
        "duration": 14,
        "start_time": "2022-02-15T16:51:49.842Z"
      },
      {
        "duration": 19,
        "start_time": "2022-02-15T16:51:50.624Z"
      },
      {
        "duration": 4,
        "start_time": "2022-02-15T16:52:00.715Z"
      },
      {
        "duration": 287,
        "start_time": "2022-02-15T16:52:02.601Z"
      },
      {
        "duration": 4,
        "start_time": "2022-02-15T16:53:02.022Z"
      },
      {
        "duration": 8,
        "start_time": "2022-02-15T16:53:02.028Z"
      },
      {
        "duration": 10,
        "start_time": "2022-02-15T16:53:02.038Z"
      },
      {
        "duration": 32,
        "start_time": "2022-02-15T16:53:02.050Z"
      },
      {
        "duration": 20,
        "start_time": "2022-02-15T16:53:02.083Z"
      },
      {
        "duration": 7,
        "start_time": "2022-02-15T16:53:02.104Z"
      },
      {
        "duration": 25,
        "start_time": "2022-02-15T16:53:02.113Z"
      },
      {
        "duration": 7,
        "start_time": "2022-02-15T16:53:02.140Z"
      },
      {
        "duration": 6,
        "start_time": "2022-02-15T16:53:02.149Z"
      },
      {
        "duration": 18,
        "start_time": "2022-02-15T16:53:02.156Z"
      },
      {
        "duration": 6,
        "start_time": "2022-02-15T16:53:02.175Z"
      },
      {
        "duration": 9,
        "start_time": "2022-02-15T16:53:02.183Z"
      },
      {
        "duration": 18,
        "start_time": "2022-02-15T16:53:02.193Z"
      },
      {
        "duration": 29,
        "start_time": "2022-02-15T16:53:02.212Z"
      },
      {
        "duration": 17,
        "start_time": "2022-02-15T16:53:02.243Z"
      },
      {
        "duration": 5,
        "start_time": "2022-02-15T16:53:02.262Z"
      },
      {
        "duration": 4,
        "start_time": "2022-02-15T16:53:02.268Z"
      },
      {
        "duration": 5,
        "start_time": "2022-02-15T16:53:02.274Z"
      },
      {
        "duration": 9,
        "start_time": "2022-02-15T16:53:02.281Z"
      },
      {
        "duration": 7,
        "start_time": "2022-02-15T16:53:02.291Z"
      },
      {
        "duration": 33,
        "start_time": "2022-02-15T16:53:02.299Z"
      },
      {
        "duration": 12,
        "start_time": "2022-02-15T16:53:02.334Z"
      },
      {
        "duration": 6,
        "start_time": "2022-02-15T16:53:02.349Z"
      },
      {
        "duration": 6,
        "start_time": "2022-02-15T16:53:02.357Z"
      },
      {
        "duration": 7,
        "start_time": "2022-02-15T16:53:02.365Z"
      },
      {
        "duration": 6,
        "start_time": "2022-02-15T16:53:02.374Z"
      },
      {
        "duration": 4,
        "start_time": "2022-02-15T16:53:02.382Z"
      },
      {
        "duration": 42,
        "start_time": "2022-02-15T16:53:02.388Z"
      },
      {
        "duration": 5,
        "start_time": "2022-02-15T16:53:02.432Z"
      },
      {
        "duration": 8,
        "start_time": "2022-02-15T16:53:02.438Z"
      },
      {
        "duration": 7,
        "start_time": "2022-02-15T16:53:02.448Z"
      },
      {
        "duration": 212,
        "start_time": "2022-02-15T16:53:02.456Z"
      },
      {
        "duration": 15903,
        "start_time": "2022-02-15T16:53:02.670Z"
      },
      {
        "duration": 22,
        "start_time": "2022-02-15T16:53:24.114Z"
      },
      {
        "duration": 4,
        "start_time": "2022-02-15T16:53:36.256Z"
      },
      {
        "duration": 279,
        "start_time": "2022-02-15T16:53:38.154Z"
      },
      {
        "duration": 1079,
        "start_time": "2022-02-15T16:54:07.176Z"
      },
      {
        "duration": 2,
        "start_time": "2022-02-15T16:54:08.257Z"
      },
      {
        "duration": 10,
        "start_time": "2022-02-15T16:54:08.261Z"
      },
      {
        "duration": 27,
        "start_time": "2022-02-15T16:54:08.272Z"
      },
      {
        "duration": 30,
        "start_time": "2022-02-15T16:54:08.301Z"
      },
      {
        "duration": 9,
        "start_time": "2022-02-15T16:54:08.333Z"
      },
      {
        "duration": 6,
        "start_time": "2022-02-15T16:54:08.344Z"
      },
      {
        "duration": 3,
        "start_time": "2022-02-15T16:54:08.353Z"
      },
      {
        "duration": 5,
        "start_time": "2022-02-15T16:54:08.359Z"
      },
      {
        "duration": 12,
        "start_time": "2022-02-15T16:54:08.366Z"
      },
      {
        "duration": 51,
        "start_time": "2022-02-15T16:54:08.380Z"
      },
      {
        "duration": 5,
        "start_time": "2022-02-15T16:54:08.433Z"
      },
      {
        "duration": 32,
        "start_time": "2022-02-15T16:54:08.440Z"
      },
      {
        "duration": 14,
        "start_time": "2022-02-15T16:54:08.474Z"
      },
      {
        "duration": 17,
        "start_time": "2022-02-15T16:54:08.490Z"
      },
      {
        "duration": 21,
        "start_time": "2022-02-15T16:54:08.508Z"
      },
      {
        "duration": 3,
        "start_time": "2022-02-15T16:54:08.531Z"
      },
      {
        "duration": 5,
        "start_time": "2022-02-15T16:54:08.536Z"
      },
      {
        "duration": 6,
        "start_time": "2022-02-15T16:54:08.542Z"
      },
      {
        "duration": 3,
        "start_time": "2022-02-15T16:54:08.550Z"
      },
      {
        "duration": 10,
        "start_time": "2022-02-15T16:54:08.554Z"
      },
      {
        "duration": 7,
        "start_time": "2022-02-15T16:54:08.565Z"
      },
      {
        "duration": 6,
        "start_time": "2022-02-15T16:54:08.575Z"
      },
      {
        "duration": 6,
        "start_time": "2022-02-15T16:54:08.583Z"
      },
      {
        "duration": 5,
        "start_time": "2022-02-15T16:54:08.591Z"
      },
      {
        "duration": 34,
        "start_time": "2022-02-15T16:54:08.597Z"
      },
      {
        "duration": 4,
        "start_time": "2022-02-15T16:54:08.633Z"
      },
      {
        "duration": 10,
        "start_time": "2022-02-15T16:54:08.639Z"
      },
      {
        "duration": 3,
        "start_time": "2022-02-15T16:54:08.651Z"
      },
      {
        "duration": 5,
        "start_time": "2022-02-15T16:54:08.656Z"
      },
      {
        "duration": 5,
        "start_time": "2022-02-15T16:54:08.662Z"
      },
      {
        "duration": 165,
        "start_time": "2022-02-15T16:54:08.669Z"
      },
      {
        "duration": 13706,
        "start_time": "2022-02-15T16:54:08.836Z"
      },
      {
        "duration": 19,
        "start_time": "2022-02-15T16:58:06.629Z"
      },
      {
        "duration": 4,
        "start_time": "2022-02-15T16:58:12.114Z"
      },
      {
        "duration": 347,
        "start_time": "2022-02-15T16:58:13.707Z"
      },
      {
        "duration": 130,
        "start_time": "2022-02-15T17:04:39.425Z"
      },
      {
        "duration": 3,
        "start_time": "2022-02-15T17:04:42.834Z"
      },
      {
        "duration": 137,
        "start_time": "2022-02-15T17:04:44.163Z"
      },
      {
        "duration": 1002,
        "start_time": "2022-02-15T17:05:23.445Z"
      },
      {
        "duration": 3,
        "start_time": "2022-02-15T17:05:24.448Z"
      },
      {
        "duration": 6,
        "start_time": "2022-02-15T17:05:24.453Z"
      },
      {
        "duration": 25,
        "start_time": "2022-02-15T17:05:24.460Z"
      },
      {
        "duration": 25,
        "start_time": "2022-02-15T17:05:24.486Z"
      },
      {
        "duration": 20,
        "start_time": "2022-02-15T17:05:24.513Z"
      },
      {
        "duration": 11,
        "start_time": "2022-02-15T17:05:24.534Z"
      },
      {
        "duration": 3,
        "start_time": "2022-02-15T17:05:24.547Z"
      },
      {
        "duration": 5,
        "start_time": "2022-02-15T17:05:24.552Z"
      },
      {
        "duration": 13,
        "start_time": "2022-02-15T17:05:24.559Z"
      },
      {
        "duration": 6,
        "start_time": "2022-02-15T17:05:24.574Z"
      },
      {
        "duration": 4,
        "start_time": "2022-02-15T17:05:24.581Z"
      },
      {
        "duration": 48,
        "start_time": "2022-02-15T17:05:24.586Z"
      },
      {
        "duration": 17,
        "start_time": "2022-02-15T17:05:24.636Z"
      },
      {
        "duration": 19,
        "start_time": "2022-02-15T17:05:24.655Z"
      },
      {
        "duration": 6,
        "start_time": "2022-02-15T17:05:24.675Z"
      },
      {
        "duration": 7,
        "start_time": "2022-02-15T17:05:24.682Z"
      },
      {
        "duration": 14,
        "start_time": "2022-02-15T17:05:24.690Z"
      },
      {
        "duration": 16,
        "start_time": "2022-02-15T17:05:24.706Z"
      },
      {
        "duration": 6,
        "start_time": "2022-02-15T17:05:24.724Z"
      },
      {
        "duration": 5,
        "start_time": "2022-02-15T17:05:24.731Z"
      },
      {
        "duration": 10,
        "start_time": "2022-02-15T17:05:24.737Z"
      },
      {
        "duration": 3,
        "start_time": "2022-02-15T17:05:24.750Z"
      },
      {
        "duration": 10,
        "start_time": "2022-02-15T17:05:24.754Z"
      },
      {
        "duration": 5,
        "start_time": "2022-02-15T17:05:24.765Z"
      },
      {
        "duration": 5,
        "start_time": "2022-02-15T17:05:24.771Z"
      },
      {
        "duration": 5,
        "start_time": "2022-02-15T17:05:24.777Z"
      },
      {
        "duration": 12,
        "start_time": "2022-02-15T17:05:24.783Z"
      },
      {
        "duration": 3,
        "start_time": "2022-02-15T17:05:24.796Z"
      },
      {
        "duration": 9,
        "start_time": "2022-02-15T17:05:24.801Z"
      },
      {
        "duration": 20,
        "start_time": "2022-02-15T17:05:24.812Z"
      },
      {
        "duration": 143,
        "start_time": "2022-02-15T17:05:24.833Z"
      },
      {
        "duration": 12010,
        "start_time": "2022-02-15T17:05:24.977Z"
      },
      {
        "duration": 42,
        "start_time": "2022-02-15T17:05:36.988Z"
      },
      {
        "duration": 251,
        "start_time": "2022-02-15T17:05:37.033Z"
      },
      {
        "duration": 12007,
        "start_time": "2022-02-15T17:05:37.286Z"
      },
      {
        "duration": 47,
        "start_time": "2022-02-15T17:05:49.295Z"
      },
      {
        "duration": 88,
        "start_time": "2022-02-15T17:05:49.344Z"
      },
      {
        "duration": 368,
        "start_time": "2022-02-15T17:05:49.434Z"
      },
      {
        "duration": -79,
        "start_time": "2022-02-15T17:05:49.883Z"
      },
      {
        "duration": -83,
        "start_time": "2022-02-15T17:05:49.888Z"
      },
      {
        "duration": -85,
        "start_time": "2022-02-15T17:05:49.891Z"
      },
      {
        "duration": 975,
        "start_time": "2022-02-15T17:09:49.591Z"
      },
      {
        "duration": 2,
        "start_time": "2022-02-15T17:09:50.568Z"
      },
      {
        "duration": 4,
        "start_time": "2022-02-15T17:09:50.572Z"
      },
      {
        "duration": 25,
        "start_time": "2022-02-15T17:09:50.578Z"
      },
      {
        "duration": 26,
        "start_time": "2022-02-15T17:09:50.605Z"
      },
      {
        "duration": 8,
        "start_time": "2022-02-15T17:09:50.632Z"
      },
      {
        "duration": 5,
        "start_time": "2022-02-15T17:09:50.641Z"
      },
      {
        "duration": 3,
        "start_time": "2022-02-15T17:09:50.648Z"
      },
      {
        "duration": 4,
        "start_time": "2022-02-15T17:09:50.653Z"
      },
      {
        "duration": 18,
        "start_time": "2022-02-15T17:09:50.659Z"
      },
      {
        "duration": 7,
        "start_time": "2022-02-15T17:09:50.678Z"
      },
      {
        "duration": 4,
        "start_time": "2022-02-15T17:09:50.687Z"
      },
      {
        "duration": 18,
        "start_time": "2022-02-15T17:09:50.692Z"
      },
      {
        "duration": 15,
        "start_time": "2022-02-15T17:09:50.712Z"
      },
      {
        "duration": 17,
        "start_time": "2022-02-15T17:09:50.728Z"
      },
      {
        "duration": 5,
        "start_time": "2022-02-15T17:09:50.747Z"
      },
      {
        "duration": 3,
        "start_time": "2022-02-15T17:09:50.753Z"
      },
      {
        "duration": 8,
        "start_time": "2022-02-15T17:09:50.758Z"
      },
      {
        "duration": 6,
        "start_time": "2022-02-15T17:09:50.767Z"
      },
      {
        "duration": 3,
        "start_time": "2022-02-15T17:09:50.775Z"
      },
      {
        "duration": 9,
        "start_time": "2022-02-15T17:09:50.779Z"
      },
      {
        "duration": 8,
        "start_time": "2022-02-15T17:09:50.790Z"
      },
      {
        "duration": 3,
        "start_time": "2022-02-15T17:09:50.802Z"
      },
      {
        "duration": 5,
        "start_time": "2022-02-15T17:09:50.806Z"
      },
      {
        "duration": 4,
        "start_time": "2022-02-15T17:09:50.812Z"
      },
      {
        "duration": 4,
        "start_time": "2022-02-15T17:09:50.818Z"
      },
      {
        "duration": 7,
        "start_time": "2022-02-15T17:09:50.823Z"
      },
      {
        "duration": 27,
        "start_time": "2022-02-15T17:09:50.832Z"
      },
      {
        "duration": 3,
        "start_time": "2022-02-15T17:09:50.860Z"
      },
      {
        "duration": 6,
        "start_time": "2022-02-15T17:09:50.864Z"
      },
      {
        "duration": 4,
        "start_time": "2022-02-15T17:09:50.871Z"
      },
      {
        "duration": 189,
        "start_time": "2022-02-15T17:09:50.876Z"
      },
      {
        "duration": 14100,
        "start_time": "2022-02-15T17:09:51.067Z"
      },
      {
        "duration": 65,
        "start_time": "2022-02-15T17:10:05.169Z"
      },
      {
        "duration": 261,
        "start_time": "2022-02-15T17:10:05.236Z"
      },
      {
        "duration": 14297,
        "start_time": "2022-02-15T17:10:05.499Z"
      },
      {
        "duration": 33,
        "start_time": "2022-02-15T17:10:19.798Z"
      },
      {
        "duration": 6,
        "start_time": "2022-02-15T17:10:19.834Z"
      },
      {
        "duration": 27,
        "start_time": "2022-02-15T17:10:19.932Z"
      },
      {
        "duration": 207,
        "start_time": "2022-02-15T17:10:20.031Z"
      },
      {
        "duration": 4,
        "start_time": "2022-02-15T17:10:20.240Z"
      },
      {
        "duration": 14,
        "start_time": "2022-02-15T17:10:20.245Z"
      },
      {
        "duration": 195,
        "start_time": "2022-02-15T17:12:19.364Z"
      },
      {
        "duration": 19583,
        "start_time": "2022-02-15T17:13:46.372Z"
      },
      {
        "duration": 31,
        "start_time": "2022-02-15T17:14:49.318Z"
      },
      {
        "duration": 202,
        "start_time": "2022-02-15T17:15:28.228Z"
      },
      {
        "duration": 19451,
        "start_time": "2022-02-15T17:15:43.127Z"
      },
      {
        "duration": 26,
        "start_time": "2022-02-15T17:16:06.389Z"
      },
      {
        "duration": 9,
        "start_time": "2022-02-15T17:16:29.835Z"
      },
      {
        "duration": 208,
        "start_time": "2022-02-15T17:16:32.851Z"
      },
      {
        "duration": 20666,
        "start_time": "2022-02-15T17:16:38.353Z"
      },
      {
        "duration": 11,
        "start_time": "2022-02-15T17:17:37.115Z"
      },
      {
        "duration": 227,
        "start_time": "2022-02-15T17:17:38.619Z"
      },
      {
        "duration": 21769,
        "start_time": "2022-02-15T17:17:40.529Z"
      },
      {
        "duration": 11,
        "start_time": "2022-02-15T17:18:15.891Z"
      },
      {
        "duration": 26696,
        "start_time": "2022-02-15T17:18:18.481Z"
      },
      {
        "duration": 10,
        "start_time": "2022-02-15T17:18:55.255Z"
      },
      {
        "duration": 232,
        "start_time": "2022-02-15T17:18:56.538Z"
      },
      {
        "duration": 24411,
        "start_time": "2022-02-15T17:18:57.955Z"
      },
      {
        "duration": 9,
        "start_time": "2022-02-15T17:19:30.108Z"
      },
      {
        "duration": 21344,
        "start_time": "2022-02-15T17:19:31.899Z"
      },
      {
        "duration": 10,
        "start_time": "2022-02-15T17:20:01.251Z"
      },
      {
        "duration": 22609,
        "start_time": "2022-02-15T17:20:03.522Z"
      },
      {
        "duration": 9,
        "start_time": "2022-02-15T17:21:19.748Z"
      },
      {
        "duration": 228,
        "start_time": "2022-02-15T17:21:21.026Z"
      },
      {
        "duration": 32,
        "start_time": "2022-02-15T17:21:23.518Z"
      },
      {
        "duration": 22101,
        "start_time": "2022-02-15T17:21:25.297Z"
      },
      {
        "duration": 9,
        "start_time": "2022-02-15T17:23:11.275Z"
      },
      {
        "duration": 70,
        "start_time": "2022-02-15T17:24:35.005Z"
      },
      {
        "duration": 7417,
        "start_time": "2022-02-15T17:26:02.744Z"
      },
      {
        "duration": 7000,
        "start_time": "2022-02-15T17:26:19.469Z"
      },
      {
        "duration": 9,
        "start_time": "2022-02-15T17:26:31.436Z"
      },
      {
        "duration": 77,
        "start_time": "2022-02-15T17:26:34.173Z"
      },
      {
        "duration": 7950,
        "start_time": "2022-02-15T17:26:35.876Z"
      },
      {
        "duration": 10,
        "start_time": "2022-02-15T17:26:50.416Z"
      },
      {
        "duration": 86,
        "start_time": "2022-02-15T17:26:53.355Z"
      },
      {
        "duration": 8908,
        "start_time": "2022-02-15T17:26:54.745Z"
      },
      {
        "duration": 10,
        "start_time": "2022-02-15T17:27:11.301Z"
      },
      {
        "duration": 94,
        "start_time": "2022-02-15T17:27:12.323Z"
      },
      {
        "duration": 9493,
        "start_time": "2022-02-15T17:27:14.683Z"
      },
      {
        "duration": 9,
        "start_time": "2022-02-15T17:27:41.131Z"
      },
      {
        "duration": 91,
        "start_time": "2022-02-15T17:27:42.522Z"
      },
      {
        "duration": 9158,
        "start_time": "2022-02-15T17:27:44.410Z"
      },
      {
        "duration": 9,
        "start_time": "2022-02-15T17:28:05.572Z"
      },
      {
        "duration": 85,
        "start_time": "2022-02-15T17:28:06.811Z"
      },
      {
        "duration": 8797,
        "start_time": "2022-02-15T17:28:09.930Z"
      },
      {
        "duration": 21,
        "start_time": "2022-02-15T17:29:06.785Z"
      },
      {
        "duration": 21738,
        "start_time": "2022-02-15T17:30:42.372Z"
      },
      {
        "duration": 21913,
        "start_time": "2022-02-15T17:32:42.653Z"
      },
      {
        "duration": 1048,
        "start_time": "2022-02-15T17:35:52.211Z"
      },
      {
        "duration": 2,
        "start_time": "2022-02-15T17:35:53.261Z"
      },
      {
        "duration": 6,
        "start_time": "2022-02-15T17:35:53.266Z"
      },
      {
        "duration": 29,
        "start_time": "2022-02-15T17:35:53.274Z"
      },
      {
        "duration": 34,
        "start_time": "2022-02-15T17:35:53.305Z"
      },
      {
        "duration": 9,
        "start_time": "2022-02-15T17:35:53.341Z"
      },
      {
        "duration": 7,
        "start_time": "2022-02-15T17:35:53.352Z"
      },
      {
        "duration": 8,
        "start_time": "2022-02-15T17:35:53.362Z"
      },
      {
        "duration": 11,
        "start_time": "2022-02-15T17:35:53.371Z"
      },
      {
        "duration": 19,
        "start_time": "2022-02-15T17:35:53.383Z"
      },
      {
        "duration": 27,
        "start_time": "2022-02-15T17:35:53.404Z"
      },
      {
        "duration": 4,
        "start_time": "2022-02-15T17:35:53.433Z"
      },
      {
        "duration": 29,
        "start_time": "2022-02-15T17:35:53.439Z"
      },
      {
        "duration": 15,
        "start_time": "2022-02-15T17:35:53.470Z"
      },
      {
        "duration": 16,
        "start_time": "2022-02-15T17:35:53.487Z"
      },
      {
        "duration": 5,
        "start_time": "2022-02-15T17:35:53.504Z"
      },
      {
        "duration": 22,
        "start_time": "2022-02-15T17:35:53.510Z"
      },
      {
        "duration": 6,
        "start_time": "2022-02-15T17:35:53.533Z"
      },
      {
        "duration": 8,
        "start_time": "2022-02-15T17:35:53.540Z"
      },
      {
        "duration": 4,
        "start_time": "2022-02-15T17:35:53.550Z"
      },
      {
        "duration": 6,
        "start_time": "2022-02-15T17:35:53.556Z"
      },
      {
        "duration": 10,
        "start_time": "2022-02-15T17:35:53.564Z"
      },
      {
        "duration": 3,
        "start_time": "2022-02-15T17:35:53.577Z"
      },
      {
        "duration": 7,
        "start_time": "2022-02-15T17:35:53.582Z"
      },
      {
        "duration": 4,
        "start_time": "2022-02-15T17:35:53.591Z"
      },
      {
        "duration": 5,
        "start_time": "2022-02-15T17:35:53.597Z"
      },
      {
        "duration": 3,
        "start_time": "2022-02-15T17:35:53.630Z"
      },
      {
        "duration": 28,
        "start_time": "2022-02-15T17:35:53.635Z"
      },
      {
        "duration": 3,
        "start_time": "2022-02-15T17:35:53.665Z"
      },
      {
        "duration": 5,
        "start_time": "2022-02-15T17:35:53.670Z"
      },
      {
        "duration": 6,
        "start_time": "2022-02-15T17:35:53.677Z"
      },
      {
        "duration": 175,
        "start_time": "2022-02-15T17:35:53.684Z"
      },
      {
        "duration": 13860,
        "start_time": "2022-02-15T17:35:53.861Z"
      },
      {
        "duration": 31,
        "start_time": "2022-02-15T17:36:07.731Z"
      },
      {
        "duration": 258,
        "start_time": "2022-02-15T17:36:07.832Z"
      },
      {
        "duration": 13670,
        "start_time": "2022-02-15T17:36:08.092Z"
      },
      {
        "duration": 20,
        "start_time": "2022-02-15T17:36:21.764Z"
      },
      {
        "duration": 6,
        "start_time": "2022-02-15T17:36:21.831Z"
      },
      {
        "duration": 17,
        "start_time": "2022-02-15T17:36:21.929Z"
      },
      {
        "duration": 237,
        "start_time": "2022-02-15T17:36:21.947Z"
      },
      {
        "duration": 23387,
        "start_time": "2022-02-15T17:36:22.186Z"
      },
      {
        "duration": 63,
        "start_time": "2022-02-15T17:36:45.574Z"
      },
      {
        "duration": 92,
        "start_time": "2022-02-15T17:36:45.639Z"
      },
      {
        "duration": 13,
        "start_time": "2022-02-15T17:36:45.733Z"
      },
      {
        "duration": 132,
        "start_time": "2022-02-15T17:36:45.747Z"
      },
      {
        "duration": 8845,
        "start_time": "2022-02-15T17:36:45.880Z"
      },
      {
        "duration": 13,
        "start_time": "2022-02-15T17:36:54.730Z"
      },
      {
        "duration": 13,
        "start_time": "2022-02-15T17:39:26.419Z"
      },
      {
        "duration": 219,
        "start_time": "2022-02-15T17:40:24.844Z"
      },
      {
        "duration": 145,
        "start_time": "2022-02-15T17:41:21.244Z"
      },
      {
        "duration": 24102,
        "start_time": "2022-02-15T17:43:34.052Z"
      },
      {
        "duration": 14,
        "start_time": "2022-02-15T17:44:15.076Z"
      },
      {
        "duration": 14,
        "start_time": "2022-02-15T17:44:41.211Z"
      },
      {
        "duration": 126,
        "start_time": "2022-02-15T17:50:49.172Z"
      },
      {
        "duration": 223,
        "start_time": "2022-02-15T17:51:18.644Z"
      },
      {
        "duration": 7,
        "start_time": "2022-02-15T17:51:41.556Z"
      },
      {
        "duration": 149,
        "start_time": "2022-02-15T17:52:29.948Z"
      },
      {
        "duration": 1085,
        "start_time": "2022-02-16T15:06:56.497Z"
      },
      {
        "duration": 3,
        "start_time": "2022-02-16T15:06:57.584Z"
      },
      {
        "duration": 4,
        "start_time": "2022-02-16T15:06:57.589Z"
      },
      {
        "duration": 30,
        "start_time": "2022-02-16T15:06:57.595Z"
      },
      {
        "duration": 28,
        "start_time": "2022-02-16T15:06:57.627Z"
      },
      {
        "duration": 8,
        "start_time": "2022-02-16T15:06:57.657Z"
      },
      {
        "duration": 6,
        "start_time": "2022-02-16T15:06:57.666Z"
      },
      {
        "duration": 4,
        "start_time": "2022-02-16T15:06:57.675Z"
      },
      {
        "duration": 5,
        "start_time": "2022-02-16T15:06:57.713Z"
      },
      {
        "duration": 16,
        "start_time": "2022-02-16T15:06:57.719Z"
      },
      {
        "duration": 7,
        "start_time": "2022-02-16T15:06:57.737Z"
      },
      {
        "duration": 4,
        "start_time": "2022-02-16T15:06:57.746Z"
      },
      {
        "duration": 20,
        "start_time": "2022-02-16T15:06:57.752Z"
      },
      {
        "duration": 52,
        "start_time": "2022-02-16T15:06:57.774Z"
      },
      {
        "duration": 25,
        "start_time": "2022-02-16T15:06:57.828Z"
      },
      {
        "duration": 6,
        "start_time": "2022-02-16T15:06:57.855Z"
      },
      {
        "duration": 4,
        "start_time": "2022-02-16T15:06:57.863Z"
      },
      {
        "duration": 5,
        "start_time": "2022-02-16T15:06:57.869Z"
      },
      {
        "duration": 42,
        "start_time": "2022-02-16T15:06:57.876Z"
      },
      {
        "duration": 4,
        "start_time": "2022-02-16T15:06:57.920Z"
      },
      {
        "duration": 5,
        "start_time": "2022-02-16T15:06:57.926Z"
      },
      {
        "duration": 11,
        "start_time": "2022-02-16T15:06:57.933Z"
      },
      {
        "duration": 4,
        "start_time": "2022-02-16T15:06:57.948Z"
      },
      {
        "duration": 5,
        "start_time": "2022-02-16T15:06:57.954Z"
      },
      {
        "duration": 5,
        "start_time": "2022-02-16T15:06:57.961Z"
      },
      {
        "duration": 10,
        "start_time": "2022-02-16T15:06:57.968Z"
      },
      {
        "duration": 32,
        "start_time": "2022-02-16T15:06:57.980Z"
      },
      {
        "duration": 28,
        "start_time": "2022-02-16T15:06:58.014Z"
      },
      {
        "duration": 3,
        "start_time": "2022-02-16T15:06:58.044Z"
      },
      {
        "duration": 5,
        "start_time": "2022-02-16T15:06:58.049Z"
      },
      {
        "duration": 5,
        "start_time": "2022-02-16T15:06:58.055Z"
      },
      {
        "duration": 187,
        "start_time": "2022-02-16T15:06:58.062Z"
      },
      {
        "duration": 14221,
        "start_time": "2022-02-16T15:06:58.250Z"
      },
      {
        "duration": 42,
        "start_time": "2022-02-16T15:07:12.473Z"
      },
      {
        "duration": 283,
        "start_time": "2022-02-16T15:07:12.518Z"
      },
      {
        "duration": 15265,
        "start_time": "2022-02-16T15:07:12.803Z"
      },
      {
        "duration": 54,
        "start_time": "2022-02-16T15:07:28.070Z"
      },
      {
        "duration": 89,
        "start_time": "2022-02-16T15:07:28.127Z"
      },
      {
        "duration": 13,
        "start_time": "2022-02-16T15:07:28.218Z"
      },
      {
        "duration": 329,
        "start_time": "2022-02-16T15:07:28.233Z"
      },
      {
        "duration": 24564,
        "start_time": "2022-02-16T15:07:28.564Z"
      },
      {
        "duration": 88,
        "start_time": "2022-02-16T15:07:53.130Z"
      },
      {
        "duration": 93,
        "start_time": "2022-02-16T15:07:53.220Z"
      },
      {
        "duration": 12,
        "start_time": "2022-02-16T15:07:53.315Z"
      },
      {
        "duration": 137,
        "start_time": "2022-02-16T15:07:53.329Z"
      },
      {
        "duration": 8975,
        "start_time": "2022-02-16T15:07:53.467Z"
      },
      {
        "duration": 74,
        "start_time": "2022-02-16T15:08:02.445Z"
      },
      {
        "duration": 106,
        "start_time": "2022-02-16T15:08:02.521Z"
      },
      {
        "duration": 9,
        "start_time": "2022-02-16T15:08:02.630Z"
      },
      {
        "duration": 316,
        "start_time": "2022-02-16T15:08:02.641Z"
      },
      {
        "duration": 24928,
        "start_time": "2022-02-16T15:16:59.531Z"
      },
      {
        "duration": 14,
        "start_time": "2022-02-16T15:18:08.196Z"
      },
      {
        "duration": 20,
        "start_time": "2022-02-16T15:21:39.219Z"
      },
      {
        "duration": 28,
        "start_time": "2022-02-16T15:21:40.594Z"
      },
      {
        "duration": 6,
        "start_time": "2022-02-16T15:21:43.671Z"
      },
      {
        "duration": 215,
        "start_time": "2022-02-16T15:21:45.888Z"
      },
      {
        "duration": 418,
        "start_time": "2022-02-16T15:22:35.499Z"
      },
      {
        "duration": 4,
        "start_time": "2022-02-16T15:25:50.348Z"
      },
      {
        "duration": 4,
        "start_time": "2022-02-16T15:26:19.626Z"
      },
      {
        "duration": 4,
        "start_time": "2022-02-16T15:27:30.536Z"
      },
      {
        "duration": 8,
        "start_time": "2022-02-16T15:29:34.718Z"
      },
      {
        "duration": 3,
        "start_time": "2022-02-16T15:29:46.811Z"
      },
      {
        "duration": 4,
        "start_time": "2022-02-16T15:29:50.321Z"
      },
      {
        "duration": 4,
        "start_time": "2022-02-16T15:30:15.679Z"
      },
      {
        "duration": 8,
        "start_time": "2022-02-16T15:30:24.082Z"
      },
      {
        "duration": 281,
        "start_time": "2022-02-16T15:30:25.528Z"
      },
      {
        "duration": 28,
        "start_time": "2022-02-16T15:31:11.347Z"
      },
      {
        "duration": 3,
        "start_time": "2022-02-16T15:31:14.584Z"
      },
      {
        "duration": 3,
        "start_time": "2022-02-16T15:31:27.001Z"
      },
      {
        "duration": 4,
        "start_time": "2022-02-16T15:31:30.736Z"
      },
      {
        "duration": 222,
        "start_time": "2022-02-16T15:36:31.738Z"
      },
      {
        "duration": 226,
        "start_time": "2022-02-16T15:37:22.946Z"
      },
      {
        "duration": 5,
        "start_time": "2022-02-16T15:37:40.722Z"
      },
      {
        "duration": 227,
        "start_time": "2022-02-16T15:38:05.923Z"
      },
      {
        "duration": 4,
        "start_time": "2022-02-16T15:40:16.731Z"
      },
      {
        "duration": 231,
        "start_time": "2022-02-16T15:40:29.222Z"
      },
      {
        "duration": 3,
        "start_time": "2022-02-16T15:41:35.008Z"
      },
      {
        "duration": 4,
        "start_time": "2022-02-16T15:41:36.970Z"
      },
      {
        "duration": 7,
        "start_time": "2022-02-16T15:41:40.276Z"
      },
      {
        "duration": 223,
        "start_time": "2022-02-16T15:41:41.941Z"
      },
      {
        "duration": 2,
        "start_time": "2022-02-16T15:42:20.025Z"
      },
      {
        "duration": 3,
        "start_time": "2022-02-16T15:42:21.652Z"
      },
      {
        "duration": 7,
        "start_time": "2022-02-16T15:42:23.950Z"
      },
      {
        "duration": 339,
        "start_time": "2022-02-16T15:42:25.219Z"
      },
      {
        "duration": 376,
        "start_time": "2022-02-16T15:50:10.458Z"
      },
      {
        "duration": 30,
        "start_time": "2022-02-16T15:57:25.226Z"
      },
      {
        "duration": 6,
        "start_time": "2022-02-16T15:57:31.975Z"
      },
      {
        "duration": 13,
        "start_time": "2022-02-16T15:57:46.712Z"
      },
      {
        "duration": 3,
        "start_time": "2022-02-16T16:09:18.177Z"
      },
      {
        "duration": 8,
        "start_time": "2022-02-16T16:09:20.804Z"
      },
      {
        "duration": 335,
        "start_time": "2022-02-16T16:09:22.324Z"
      },
      {
        "duration": 241,
        "start_time": "2022-02-16T16:31:04.529Z"
      },
      {
        "duration": 6,
        "start_time": "2022-02-16T16:31:35.213Z"
      },
      {
        "duration": 7,
        "start_time": "2022-02-16T16:34:47.411Z"
      },
      {
        "duration": 4,
        "start_time": "2022-02-16T16:34:50.089Z"
      },
      {
        "duration": 1025,
        "start_time": "2022-02-16T16:35:56.529Z"
      },
      {
        "duration": 2,
        "start_time": "2022-02-16T16:35:57.556Z"
      },
      {
        "duration": 4,
        "start_time": "2022-02-16T16:35:57.561Z"
      },
      {
        "duration": 26,
        "start_time": "2022-02-16T16:35:57.567Z"
      },
      {
        "duration": 35,
        "start_time": "2022-02-16T16:35:57.595Z"
      },
      {
        "duration": 11,
        "start_time": "2022-02-16T16:35:57.632Z"
      },
      {
        "duration": 7,
        "start_time": "2022-02-16T16:35:57.644Z"
      },
      {
        "duration": 11,
        "start_time": "2022-02-16T16:35:57.653Z"
      },
      {
        "duration": 5,
        "start_time": "2022-02-16T16:35:57.666Z"
      },
      {
        "duration": 40,
        "start_time": "2022-02-16T16:35:57.673Z"
      },
      {
        "duration": 7,
        "start_time": "2022-02-16T16:35:57.715Z"
      },
      {
        "duration": 4,
        "start_time": "2022-02-16T16:35:57.723Z"
      },
      {
        "duration": 19,
        "start_time": "2022-02-16T16:35:57.728Z"
      },
      {
        "duration": 12,
        "start_time": "2022-02-16T16:35:57.749Z"
      },
      {
        "duration": 54,
        "start_time": "2022-02-16T16:35:57.763Z"
      },
      {
        "duration": 6,
        "start_time": "2022-02-16T16:35:57.818Z"
      },
      {
        "duration": 3,
        "start_time": "2022-02-16T16:35:57.825Z"
      },
      {
        "duration": 4,
        "start_time": "2022-02-16T16:35:57.830Z"
      },
      {
        "duration": 7,
        "start_time": "2022-02-16T16:35:57.836Z"
      },
      {
        "duration": 3,
        "start_time": "2022-02-16T16:35:57.845Z"
      },
      {
        "duration": 5,
        "start_time": "2022-02-16T16:35:57.850Z"
      },
      {
        "duration": 6,
        "start_time": "2022-02-16T16:35:57.856Z"
      },
      {
        "duration": 4,
        "start_time": "2022-02-16T16:35:57.914Z"
      },
      {
        "duration": 4,
        "start_time": "2022-02-16T16:35:57.920Z"
      },
      {
        "duration": 6,
        "start_time": "2022-02-16T16:35:57.926Z"
      },
      {
        "duration": 3,
        "start_time": "2022-02-16T16:35:57.934Z"
      },
      {
        "duration": 4,
        "start_time": "2022-02-16T16:35:57.939Z"
      },
      {
        "duration": 28,
        "start_time": "2022-02-16T16:35:57.944Z"
      },
      {
        "duration": 4,
        "start_time": "2022-02-16T16:35:57.974Z"
      },
      {
        "duration": 5,
        "start_time": "2022-02-16T16:35:58.012Z"
      },
      {
        "duration": 9,
        "start_time": "2022-02-16T16:35:58.018Z"
      },
      {
        "duration": 177,
        "start_time": "2022-02-16T16:35:58.028Z"
      },
      {
        "duration": 14803,
        "start_time": "2022-02-16T16:35:58.207Z"
      },
      {
        "duration": 26,
        "start_time": "2022-02-16T16:36:13.012Z"
      },
      {
        "duration": 268,
        "start_time": "2022-02-16T16:36:13.118Z"
      },
      {
        "duration": 14989,
        "start_time": "2022-02-16T16:36:13.388Z"
      },
      {
        "duration": 135,
        "start_time": "2022-02-16T16:36:28.379Z"
      },
      {
        "duration": 6,
        "start_time": "2022-02-16T16:36:28.517Z"
      },
      {
        "duration": 90,
        "start_time": "2022-02-16T16:36:28.529Z"
      },
      {
        "duration": 251,
        "start_time": "2022-02-16T16:36:28.621Z"
      },
      {
        "duration": 24717,
        "start_time": "2022-02-16T16:36:28.874Z"
      },
      {
        "duration": 47,
        "start_time": "2022-02-16T16:36:53.594Z"
      },
      {
        "duration": 7,
        "start_time": "2022-02-16T16:36:53.713Z"
      },
      {
        "duration": 13,
        "start_time": "2022-02-16T16:36:53.812Z"
      },
      {
        "duration": 105,
        "start_time": "2022-02-16T16:36:53.827Z"
      },
      {
        "duration": 9252,
        "start_time": "2022-02-16T16:36:53.934Z"
      },
      {
        "duration": 25,
        "start_time": "2022-02-16T16:37:03.188Z"
      },
      {
        "duration": 101,
        "start_time": "2022-02-16T16:37:03.218Z"
      },
      {
        "duration": 95,
        "start_time": "2022-02-16T16:37:03.322Z"
      },
      {
        "duration": 7,
        "start_time": "2022-02-16T16:37:03.419Z"
      },
      {
        "duration": 462,
        "start_time": "2022-02-16T16:37:03.428Z"
      },
      {
        "duration": 1112,
        "start_time": "2022-02-16T16:45:43.762Z"
      },
      {
        "duration": 2,
        "start_time": "2022-02-16T16:45:44.877Z"
      },
      {
        "duration": 5,
        "start_time": "2022-02-16T16:45:44.881Z"
      },
      {
        "duration": 32,
        "start_time": "2022-02-16T16:45:44.888Z"
      },
      {
        "duration": 28,
        "start_time": "2022-02-16T16:45:44.922Z"
      },
      {
        "duration": 9,
        "start_time": "2022-02-16T16:45:44.951Z"
      },
      {
        "duration": 6,
        "start_time": "2022-02-16T16:45:44.961Z"
      },
      {
        "duration": 4,
        "start_time": "2022-02-16T16:45:44.970Z"
      },
      {
        "duration": 40,
        "start_time": "2022-02-16T16:45:44.976Z"
      },
      {
        "duration": 19,
        "start_time": "2022-02-16T16:45:45.018Z"
      },
      {
        "duration": 8,
        "start_time": "2022-02-16T16:45:45.039Z"
      },
      {
        "duration": 4,
        "start_time": "2022-02-16T16:45:45.049Z"
      },
      {
        "duration": 21,
        "start_time": "2022-02-16T16:45:45.055Z"
      },
      {
        "duration": 42,
        "start_time": "2022-02-16T16:45:45.078Z"
      },
      {
        "duration": 19,
        "start_time": "2022-02-16T16:45:45.122Z"
      },
      {
        "duration": 5,
        "start_time": "2022-02-16T16:45:45.143Z"
      },
      {
        "duration": 7,
        "start_time": "2022-02-16T16:45:45.150Z"
      },
      {
        "duration": 7,
        "start_time": "2022-02-16T16:45:45.159Z"
      },
      {
        "duration": 8,
        "start_time": "2022-02-16T16:45:45.170Z"
      },
      {
        "duration": 4,
        "start_time": "2022-02-16T16:45:45.180Z"
      },
      {
        "duration": 7,
        "start_time": "2022-02-16T16:45:45.213Z"
      },
      {
        "duration": 6,
        "start_time": "2022-02-16T16:45:45.222Z"
      },
      {
        "duration": 4,
        "start_time": "2022-02-16T16:45:45.232Z"
      },
      {
        "duration": 7,
        "start_time": "2022-02-16T16:45:45.239Z"
      },
      {
        "duration": 8,
        "start_time": "2022-02-16T16:45:45.249Z"
      },
      {
        "duration": 5,
        "start_time": "2022-02-16T16:45:45.259Z"
      },
      {
        "duration": 4,
        "start_time": "2022-02-16T16:45:45.265Z"
      },
      {
        "duration": 59,
        "start_time": "2022-02-16T16:45:45.270Z"
      },
      {
        "duration": 4,
        "start_time": "2022-02-16T16:45:45.330Z"
      },
      {
        "duration": 5,
        "start_time": "2022-02-16T16:45:45.335Z"
      },
      {
        "duration": 4,
        "start_time": "2022-02-16T16:45:45.341Z"
      },
      {
        "duration": 178,
        "start_time": "2022-02-16T16:45:45.346Z"
      },
      {
        "duration": 14702,
        "start_time": "2022-02-16T16:45:45.526Z"
      },
      {
        "duration": 83,
        "start_time": "2022-02-16T16:46:00.230Z"
      },
      {
        "duration": 278,
        "start_time": "2022-02-16T16:46:00.315Z"
      },
      {
        "duration": 14549,
        "start_time": "2022-02-16T16:46:00.595Z"
      },
      {
        "duration": 21,
        "start_time": "2022-02-16T16:46:15.145Z"
      },
      {
        "duration": 6,
        "start_time": "2022-02-16T16:46:15.214Z"
      },
      {
        "duration": 103,
        "start_time": "2022-02-16T16:46:15.223Z"
      },
      {
        "duration": 249,
        "start_time": "2022-02-16T16:46:15.328Z"
      },
      {
        "duration": 24451,
        "start_time": "2022-02-16T16:46:15.578Z"
      },
      {
        "duration": 81,
        "start_time": "2022-02-16T16:46:40.031Z"
      },
      {
        "duration": 6,
        "start_time": "2022-02-16T16:46:40.115Z"
      },
      {
        "duration": 102,
        "start_time": "2022-02-16T16:46:40.124Z"
      },
      {
        "duration": 112,
        "start_time": "2022-02-16T16:46:40.227Z"
      },
      {
        "duration": 8951,
        "start_time": "2022-02-16T16:46:40.341Z"
      },
      {
        "duration": 24,
        "start_time": "2022-02-16T16:46:49.294Z"
      },
      {
        "duration": 193,
        "start_time": "2022-02-16T16:46:49.320Z"
      },
      {
        "duration": 3,
        "start_time": "2022-02-16T16:46:49.514Z"
      },
      {
        "duration": 8,
        "start_time": "2022-02-16T16:46:49.518Z"
      },
      {
        "duration": 420,
        "start_time": "2022-02-16T16:46:49.527Z"
      },
      {
        "duration": 3,
        "start_time": "2022-02-16T16:56:10.722Z"
      },
      {
        "duration": 4,
        "start_time": "2022-02-16T16:56:10.728Z"
      },
      {
        "duration": 6,
        "start_time": "2022-02-16T16:56:10.734Z"
      },
      {
        "duration": 26,
        "start_time": "2022-02-16T16:56:10.742Z"
      },
      {
        "duration": 22,
        "start_time": "2022-02-16T16:56:10.770Z"
      },
      {
        "duration": 24,
        "start_time": "2022-02-16T16:56:10.794Z"
      },
      {
        "duration": 6,
        "start_time": "2022-02-16T16:56:10.820Z"
      },
      {
        "duration": 5,
        "start_time": "2022-02-16T16:56:10.827Z"
      },
      {
        "duration": 3,
        "start_time": "2022-02-16T16:56:10.833Z"
      },
      {
        "duration": 14,
        "start_time": "2022-02-16T16:56:10.837Z"
      },
      {
        "duration": 5,
        "start_time": "2022-02-16T16:56:10.853Z"
      },
      {
        "duration": 55,
        "start_time": "2022-02-16T16:56:10.860Z"
      },
      {
        "duration": 14,
        "start_time": "2022-02-16T16:56:10.917Z"
      },
      {
        "duration": 18,
        "start_time": "2022-02-16T16:56:10.934Z"
      },
      {
        "duration": 5,
        "start_time": "2022-02-16T16:56:10.954Z"
      },
      {
        "duration": 15,
        "start_time": "2022-02-16T16:56:10.961Z"
      },
      {
        "duration": 16,
        "start_time": "2022-02-16T16:56:10.978Z"
      },
      {
        "duration": 20,
        "start_time": "2022-02-16T16:56:10.996Z"
      },
      {
        "duration": 6,
        "start_time": "2022-02-16T16:56:11.018Z"
      },
      {
        "duration": 5,
        "start_time": "2022-02-16T16:56:11.026Z"
      },
      {
        "duration": 10,
        "start_time": "2022-02-16T16:56:11.033Z"
      },
      {
        "duration": 7,
        "start_time": "2022-02-16T16:56:11.044Z"
      },
      {
        "duration": 6,
        "start_time": "2022-02-16T16:56:11.053Z"
      },
      {
        "duration": 5,
        "start_time": "2022-02-16T16:56:11.061Z"
      },
      {
        "duration": 6,
        "start_time": "2022-02-16T16:56:11.067Z"
      },
      {
        "duration": 3,
        "start_time": "2022-02-16T16:56:11.074Z"
      },
      {
        "duration": 55,
        "start_time": "2022-02-16T16:56:11.079Z"
      },
      {
        "duration": 3,
        "start_time": "2022-02-16T16:56:11.136Z"
      },
      {
        "duration": 5,
        "start_time": "2022-02-16T16:56:11.141Z"
      },
      {
        "duration": 4,
        "start_time": "2022-02-16T16:56:11.148Z"
      },
      {
        "duration": 1075,
        "start_time": "2022-02-16T16:56:25.729Z"
      },
      {
        "duration": 2,
        "start_time": "2022-02-16T16:56:26.806Z"
      },
      {
        "duration": 3,
        "start_time": "2022-02-16T16:56:26.812Z"
      },
      {
        "duration": 27,
        "start_time": "2022-02-16T16:56:26.817Z"
      },
      {
        "duration": 28,
        "start_time": "2022-02-16T16:56:26.845Z"
      },
      {
        "duration": 8,
        "start_time": "2022-02-16T16:56:26.875Z"
      },
      {
        "duration": 5,
        "start_time": "2022-02-16T16:56:26.885Z"
      },
      {
        "duration": 6,
        "start_time": "2022-02-16T16:56:26.919Z"
      },
      {
        "duration": 3,
        "start_time": "2022-02-16T16:56:26.927Z"
      },
      {
        "duration": 17,
        "start_time": "2022-02-16T16:56:26.932Z"
      },
      {
        "duration": 4,
        "start_time": "2022-02-16T16:56:26.950Z"
      },
      {
        "duration": 17,
        "start_time": "2022-02-16T16:56:26.956Z"
      },
      {
        "duration": 43,
        "start_time": "2022-02-16T16:56:26.975Z"
      },
      {
        "duration": 18,
        "start_time": "2022-02-16T16:56:27.020Z"
      },
      {
        "duration": 5,
        "start_time": "2022-02-16T16:56:27.039Z"
      },
      {
        "duration": 3,
        "start_time": "2022-02-16T16:56:27.046Z"
      },
      {
        "duration": 4,
        "start_time": "2022-02-16T16:56:27.051Z"
      },
      {
        "duration": 6,
        "start_time": "2022-02-16T16:56:27.057Z"
      },
      {
        "duration": 3,
        "start_time": "2022-02-16T16:56:27.065Z"
      },
      {
        "duration": 5,
        "start_time": "2022-02-16T16:56:27.070Z"
      },
      {
        "duration": 6,
        "start_time": "2022-02-16T16:56:27.113Z"
      },
      {
        "duration": 4,
        "start_time": "2022-02-16T16:56:27.120Z"
      },
      {
        "duration": 5,
        "start_time": "2022-02-16T16:56:27.127Z"
      },
      {
        "duration": 4,
        "start_time": "2022-02-16T16:56:27.134Z"
      },
      {
        "duration": 3,
        "start_time": "2022-02-16T16:56:27.140Z"
      },
      {
        "duration": 3,
        "start_time": "2022-02-16T16:56:27.145Z"
      },
      {
        "duration": 62,
        "start_time": "2022-02-16T16:56:27.150Z"
      },
      {
        "duration": 3,
        "start_time": "2022-02-16T16:56:27.214Z"
      },
      {
        "duration": 5,
        "start_time": "2022-02-16T16:56:27.219Z"
      },
      {
        "duration": 4,
        "start_time": "2022-02-16T16:56:27.225Z"
      },
      {
        "duration": 8,
        "start_time": "2022-02-16T16:56:27.231Z"
      },
      {
        "duration": 182,
        "start_time": "2022-02-16T16:56:27.240Z"
      },
      {
        "duration": 14685,
        "start_time": "2022-02-16T16:56:27.424Z"
      },
      {
        "duration": 26,
        "start_time": "2022-02-16T16:56:42.112Z"
      },
      {
        "duration": 266,
        "start_time": "2022-02-16T16:56:42.214Z"
      },
      {
        "duration": 14415,
        "start_time": "2022-02-16T16:56:42.482Z"
      },
      {
        "duration": 29,
        "start_time": "2022-02-16T16:56:56.899Z"
      },
      {
        "duration": 82,
        "start_time": "2022-02-16T16:56:56.931Z"
      },
      {
        "duration": 102,
        "start_time": "2022-02-16T16:56:57.016Z"
      },
      {
        "duration": 242,
        "start_time": "2022-02-16T16:56:57.120Z"
      },
      {
        "duration": 24498,
        "start_time": "2022-02-16T16:56:57.363Z"
      },
      {
        "duration": 50,
        "start_time": "2022-02-16T16:57:21.863Z"
      },
      {
        "duration": 97,
        "start_time": "2022-02-16T16:57:21.916Z"
      },
      {
        "duration": 12,
        "start_time": "2022-02-16T16:57:22.016Z"
      },
      {
        "duration": 139,
        "start_time": "2022-02-16T16:57:22.030Z"
      },
      {
        "duration": 9094,
        "start_time": "2022-02-16T16:57:22.171Z"
      },
      {
        "duration": 46,
        "start_time": "2022-02-16T16:57:31.267Z"
      },
      {
        "duration": 106,
        "start_time": "2022-02-16T16:57:31.315Z"
      },
      {
        "duration": 2,
        "start_time": "2022-02-16T16:57:31.423Z"
      },
      {
        "duration": 8,
        "start_time": "2022-02-16T16:57:31.427Z"
      },
      {
        "duration": 432,
        "start_time": "2022-02-16T16:57:31.436Z"
      },
      {
        "duration": 159,
        "start_time": "2022-02-16T17:35:04.372Z"
      },
      {
        "duration": 166,
        "start_time": "2022-02-16T17:37:04.658Z"
      },
      {
        "duration": 350,
        "start_time": "2022-02-16T17:39:59.507Z"
      },
      {
        "duration": 4,
        "start_time": "2022-02-16T17:40:45.786Z"
      },
      {
        "duration": 178,
        "start_time": "2022-02-16T17:40:58.306Z"
      },
      {
        "duration": 180,
        "start_time": "2022-02-16T17:44:07.225Z"
      },
      {
        "duration": 183,
        "start_time": "2022-02-16T17:45:15.718Z"
      },
      {
        "duration": 197,
        "start_time": "2022-02-16T17:45:43.369Z"
      },
      {
        "duration": 196,
        "start_time": "2022-02-16T17:45:45.174Z"
      },
      {
        "duration": 16240,
        "start_time": "2022-02-16T17:49:11.915Z"
      },
      {
        "duration": 25,
        "start_time": "2022-02-16T17:51:42.721Z"
      },
      {
        "duration": 31,
        "start_time": "2022-02-16T18:03:30.885Z"
      },
      {
        "duration": 1078,
        "start_time": "2022-02-16T18:03:58.067Z"
      },
      {
        "duration": 3,
        "start_time": "2022-02-16T18:03:59.147Z"
      },
      {
        "duration": 5,
        "start_time": "2022-02-16T18:03:59.152Z"
      },
      {
        "duration": 27,
        "start_time": "2022-02-16T18:03:59.158Z"
      },
      {
        "duration": 42,
        "start_time": "2022-02-16T18:03:59.187Z"
      },
      {
        "duration": 9,
        "start_time": "2022-02-16T18:03:59.231Z"
      },
      {
        "duration": 6,
        "start_time": "2022-02-16T18:03:59.241Z"
      },
      {
        "duration": 5,
        "start_time": "2022-02-16T18:03:59.250Z"
      },
      {
        "duration": 3,
        "start_time": "2022-02-16T18:03:59.256Z"
      },
      {
        "duration": 52,
        "start_time": "2022-02-16T18:03:59.260Z"
      },
      {
        "duration": 4,
        "start_time": "2022-02-16T18:03:59.314Z"
      },
      {
        "duration": 20,
        "start_time": "2022-02-16T18:03:59.319Z"
      },
      {
        "duration": 17,
        "start_time": "2022-02-16T18:03:59.341Z"
      },
      {
        "duration": 18,
        "start_time": "2022-02-16T18:03:59.360Z"
      },
      {
        "duration": 36,
        "start_time": "2022-02-16T18:03:59.380Z"
      },
      {
        "duration": 6,
        "start_time": "2022-02-16T18:03:59.418Z"
      },
      {
        "duration": 5,
        "start_time": "2022-02-16T18:03:59.425Z"
      },
      {
        "duration": 7,
        "start_time": "2022-02-16T18:03:59.432Z"
      },
      {
        "duration": 8,
        "start_time": "2022-02-16T18:03:59.440Z"
      },
      {
        "duration": 8,
        "start_time": "2022-02-16T18:03:59.450Z"
      },
      {
        "duration": 18,
        "start_time": "2022-02-16T18:03:59.459Z"
      },
      {
        "duration": 32,
        "start_time": "2022-02-16T18:03:59.480Z"
      },
      {
        "duration": 8,
        "start_time": "2022-02-16T18:03:59.517Z"
      },
      {
        "duration": 7,
        "start_time": "2022-02-16T18:03:59.528Z"
      },
      {
        "duration": 7,
        "start_time": "2022-02-16T18:03:59.537Z"
      },
      {
        "duration": 3,
        "start_time": "2022-02-16T18:03:59.546Z"
      },
      {
        "duration": 33,
        "start_time": "2022-02-16T18:03:59.551Z"
      },
      {
        "duration": 4,
        "start_time": "2022-02-16T18:03:59.586Z"
      },
      {
        "duration": 25,
        "start_time": "2022-02-16T18:03:59.591Z"
      },
      {
        "duration": 10,
        "start_time": "2022-02-16T18:03:59.618Z"
      },
      {
        "duration": 12,
        "start_time": "2022-02-16T18:03:59.630Z"
      },
      {
        "duration": 201,
        "start_time": "2022-02-16T18:03:59.644Z"
      },
      {
        "duration": 16229,
        "start_time": "2022-02-16T18:03:59.847Z"
      },
      {
        "duration": 41,
        "start_time": "2022-02-16T18:04:16.078Z"
      },
      {
        "duration": 361,
        "start_time": "2022-02-16T18:04:16.121Z"
      },
      {
        "duration": 15561,
        "start_time": "2022-02-16T18:04:16.484Z"
      },
      {
        "duration": 67,
        "start_time": "2022-02-16T18:04:32.047Z"
      },
      {
        "duration": 4,
        "start_time": "2022-02-16T18:04:32.116Z"
      },
      {
        "duration": 97,
        "start_time": "2022-02-16T18:04:32.122Z"
      },
      {
        "duration": 270,
        "start_time": "2022-02-16T18:04:32.221Z"
      },
      {
        "duration": 26137,
        "start_time": "2022-02-16T18:04:32.493Z"
      },
      {
        "duration": 82,
        "start_time": "2022-02-16T18:04:58.632Z"
      },
      {
        "duration": 6,
        "start_time": "2022-02-16T18:04:58.716Z"
      },
      {
        "duration": 99,
        "start_time": "2022-02-16T18:04:58.724Z"
      },
      {
        "duration": 97,
        "start_time": "2022-02-16T18:04:58.824Z"
      },
      {
        "duration": 9606,
        "start_time": "2022-02-16T18:04:58.923Z"
      },
      {
        "duration": 15,
        "start_time": "2022-02-16T18:05:08.531Z"
      },
      {
        "duration": 109,
        "start_time": "2022-02-16T18:05:08.613Z"
      },
      {
        "duration": 87,
        "start_time": "2022-02-16T18:05:08.725Z"
      },
      {
        "duration": 97,
        "start_time": "2022-02-16T18:05:08.815Z"
      },
      {
        "duration": 412,
        "start_time": "2022-02-16T18:05:08.914Z"
      },
      {
        "duration": 1490,
        "start_time": "2022-02-17T14:43:03.300Z"
      },
      {
        "duration": 4,
        "start_time": "2022-02-17T14:43:04.793Z"
      },
      {
        "duration": 9,
        "start_time": "2022-02-17T14:43:04.800Z"
      },
      {
        "duration": 39,
        "start_time": "2022-02-17T14:43:04.812Z"
      },
      {
        "duration": 44,
        "start_time": "2022-02-17T14:43:04.854Z"
      },
      {
        "duration": 35,
        "start_time": "2022-02-17T14:43:04.900Z"
      },
      {
        "duration": 8,
        "start_time": "2022-02-17T14:43:04.937Z"
      },
      {
        "duration": 8,
        "start_time": "2022-02-17T14:43:04.949Z"
      },
      {
        "duration": 3,
        "start_time": "2022-02-17T14:43:04.960Z"
      },
      {
        "duration": 62,
        "start_time": "2022-02-17T14:43:04.966Z"
      },
      {
        "duration": 6,
        "start_time": "2022-02-17T14:43:05.031Z"
      },
      {
        "duration": 32,
        "start_time": "2022-02-17T14:43:05.040Z"
      },
      {
        "duration": 55,
        "start_time": "2022-02-17T14:43:05.075Z"
      },
      {
        "duration": 30,
        "start_time": "2022-02-17T14:43:05.133Z"
      },
      {
        "duration": 7,
        "start_time": "2022-02-17T14:43:05.165Z"
      },
      {
        "duration": 5,
        "start_time": "2022-02-17T14:43:05.174Z"
      },
      {
        "duration": 46,
        "start_time": "2022-02-17T14:43:05.182Z"
      },
      {
        "duration": 13,
        "start_time": "2022-02-17T14:43:05.231Z"
      },
      {
        "duration": 11,
        "start_time": "2022-02-17T14:43:05.246Z"
      },
      {
        "duration": 11,
        "start_time": "2022-02-17T14:43:05.259Z"
      },
      {
        "duration": 20,
        "start_time": "2022-02-17T14:43:05.273Z"
      },
      {
        "duration": 8,
        "start_time": "2022-02-17T14:43:05.295Z"
      },
      {
        "duration": 5,
        "start_time": "2022-02-17T14:43:05.331Z"
      },
      {
        "duration": 6,
        "start_time": "2022-02-17T14:43:05.340Z"
      },
      {
        "duration": 7,
        "start_time": "2022-02-17T14:43:05.348Z"
      },
      {
        "duration": 6,
        "start_time": "2022-02-17T14:43:05.357Z"
      },
      {
        "duration": 85,
        "start_time": "2022-02-17T14:43:05.365Z"
      },
      {
        "duration": 5,
        "start_time": "2022-02-17T14:43:05.453Z"
      },
      {
        "duration": 29,
        "start_time": "2022-02-17T14:43:05.460Z"
      },
      {
        "duration": 16,
        "start_time": "2022-02-17T14:43:05.492Z"
      },
      {
        "duration": 15,
        "start_time": "2022-02-17T14:43:05.511Z"
      },
      {
        "duration": 284,
        "start_time": "2022-02-17T14:43:05.528Z"
      },
      {
        "duration": 24971,
        "start_time": "2022-02-17T14:43:05.814Z"
      },
      {
        "duration": 141,
        "start_time": "2022-02-17T14:43:30.788Z"
      },
      {
        "duration": 347,
        "start_time": "2022-02-17T14:43:30.935Z"
      },
      {
        "duration": 22823,
        "start_time": "2022-02-17T14:43:31.285Z"
      },
      {
        "duration": 48,
        "start_time": "2022-02-17T14:43:54.110Z"
      },
      {
        "duration": 97,
        "start_time": "2022-02-17T14:43:54.230Z"
      },
      {
        "duration": 20,
        "start_time": "2022-02-17T14:43:54.329Z"
      },
      {
        "duration": 399,
        "start_time": "2022-02-17T14:43:54.351Z"
      },
      {
        "duration": 41954,
        "start_time": "2022-02-17T14:43:54.753Z"
      },
      {
        "duration": 128,
        "start_time": "2022-02-17T14:44:36.709Z"
      },
      {
        "duration": 7,
        "start_time": "2022-02-17T14:44:36.927Z"
      },
      {
        "duration": 59,
        "start_time": "2022-02-17T14:44:36.936Z"
      },
      {
        "duration": 150,
        "start_time": "2022-02-17T14:44:36.998Z"
      },
      {
        "duration": 14314,
        "start_time": "2022-02-17T14:44:37.151Z"
      },
      {
        "duration": 67,
        "start_time": "2022-02-17T14:44:51.468Z"
      },
      {
        "duration": 110,
        "start_time": "2022-02-17T14:44:51.538Z"
      },
      {
        "duration": 76,
        "start_time": "2022-02-17T14:44:51.651Z"
      },
      {
        "duration": 121,
        "start_time": "2022-02-17T14:44:51.731Z"
      },
      {
        "duration": 615,
        "start_time": "2022-02-17T14:44:51.854Z"
      },
      {
        "duration": 232,
        "start_time": "2022-02-17T15:03:46.655Z"
      },
      {
        "duration": 4,
        "start_time": "2022-02-17T15:11:44.938Z"
      },
      {
        "duration": 243,
        "start_time": "2022-02-17T15:15:20.884Z"
      },
      {
        "duration": 11,
        "start_time": "2022-02-17T15:15:25.332Z"
      },
      {
        "duration": 8,
        "start_time": "2022-02-17T15:15:36.432Z"
      },
      {
        "duration": 3,
        "start_time": "2022-02-17T15:16:08.671Z"
      },
      {
        "duration": 679,
        "start_time": "2022-02-17T15:17:07.414Z"
      },
      {
        "duration": 4,
        "start_time": "2022-02-17T15:17:42.024Z"
      },
      {
        "duration": 243,
        "start_time": "2022-02-17T15:17:43.628Z"
      },
      {
        "duration": 8,
        "start_time": "2022-02-17T15:17:46.686Z"
      },
      {
        "duration": 4,
        "start_time": "2022-02-17T15:17:48.631Z"
      },
      {
        "duration": 9,
        "start_time": "2022-02-17T15:17:53.199Z"
      },
      {
        "duration": 527,
        "start_time": "2022-02-17T15:19:24.632Z"
      },
      {
        "duration": 4,
        "start_time": "2022-02-17T15:19:27.195Z"
      },
      {
        "duration": 238,
        "start_time": "2022-02-17T15:19:28.556Z"
      },
      {
        "duration": 5,
        "start_time": "2022-02-17T15:19:31.476Z"
      },
      {
        "duration": 5,
        "start_time": "2022-02-17T15:19:34.003Z"
      },
      {
        "duration": 10,
        "start_time": "2022-02-17T15:19:36.493Z"
      },
      {
        "duration": 4,
        "start_time": "2022-02-17T15:21:10.448Z"
      },
      {
        "duration": 3,
        "start_time": "2022-02-17T15:21:53.600Z"
      },
      {
        "duration": 250,
        "start_time": "2022-02-17T15:21:54.920Z"
      },
      {
        "duration": 5,
        "start_time": "2022-02-17T15:21:58.804Z"
      },
      {
        "duration": 6,
        "start_time": "2022-02-17T15:22:01.852Z"
      },
      {
        "duration": 12,
        "start_time": "2022-02-17T15:22:03.915Z"
      },
      {
        "duration": 22734,
        "start_time": "2022-02-17T15:25:53.041Z"
      },
      {
        "duration": 5,
        "start_time": "2022-02-17T15:26:15.778Z"
      },
      {
        "duration": 5,
        "start_time": "2022-02-17T15:26:36.772Z"
      },
      {
        "duration": 12,
        "start_time": "2022-02-17T15:26:38.380Z"
      },
      {
        "duration": 47,
        "start_time": "2022-02-17T15:28:21.281Z"
      },
      {
        "duration": 6,
        "start_time": "2022-02-17T15:28:33.562Z"
      },
      {
        "duration": 5,
        "start_time": "2022-02-17T15:28:36.754Z"
      },
      {
        "duration": 13,
        "start_time": "2022-02-17T15:28:39.908Z"
      },
      {
        "duration": 269,
        "start_time": "2022-02-17T15:41:20.743Z"
      },
      {
        "duration": 5,
        "start_time": "2022-02-17T15:41:29.031Z"
      },
      {
        "duration": 4,
        "start_time": "2022-02-17T15:42:02.447Z"
      },
      {
        "duration": 269,
        "start_time": "2022-02-17T15:42:03.857Z"
      },
      {
        "duration": 22834,
        "start_time": "2022-02-17T15:42:18.536Z"
      },
      {
        "duration": 41,
        "start_time": "2022-02-17T15:43:15.216Z"
      },
      {
        "duration": 6,
        "start_time": "2022-02-17T15:43:26.423Z"
      },
      {
        "duration": 12,
        "start_time": "2022-02-17T15:43:27.759Z"
      },
      {
        "duration": 269,
        "start_time": "2022-02-17T15:45:01.908Z"
      },
      {
        "duration": 6,
        "start_time": "2022-02-17T15:45:21.519Z"
      },
      {
        "duration": 5,
        "start_time": "2022-02-17T15:45:23.796Z"
      },
      {
        "duration": 12,
        "start_time": "2022-02-17T15:45:25.955Z"
      },
      {
        "duration": 23434,
        "start_time": "2022-02-17T15:51:38.233Z"
      },
      {
        "duration": 6,
        "start_time": "2022-02-17T15:52:01.670Z"
      },
      {
        "duration": 5,
        "start_time": "2022-02-17T15:52:34.343Z"
      },
      {
        "duration": 13,
        "start_time": "2022-02-17T15:52:35.634Z"
      },
      {
        "duration": 265,
        "start_time": "2022-02-17T15:54:44.461Z"
      },
      {
        "duration": 7,
        "start_time": "2022-02-17T15:54:51.070Z"
      },
      {
        "duration": 6,
        "start_time": "2022-02-17T15:54:52.931Z"
      },
      {
        "duration": 12,
        "start_time": "2022-02-17T15:54:54.268Z"
      },
      {
        "duration": 1172,
        "start_time": "2022-02-17T16:49:49.732Z"
      },
      {
        "duration": 3,
        "start_time": "2022-02-17T16:49:50.906Z"
      },
      {
        "duration": 29,
        "start_time": "2022-02-17T16:49:50.911Z"
      },
      {
        "duration": 54,
        "start_time": "2022-02-17T16:49:50.942Z"
      },
      {
        "duration": 38,
        "start_time": "2022-02-17T16:49:50.998Z"
      },
      {
        "duration": 11,
        "start_time": "2022-02-17T16:49:51.038Z"
      },
      {
        "duration": 49,
        "start_time": "2022-02-17T16:49:51.051Z"
      },
      {
        "duration": 16,
        "start_time": "2022-02-17T16:49:51.102Z"
      },
      {
        "duration": 6,
        "start_time": "2022-02-17T16:49:51.119Z"
      },
      {
        "duration": 26,
        "start_time": "2022-02-17T16:49:51.127Z"
      },
      {
        "duration": 4,
        "start_time": "2022-02-17T16:49:51.155Z"
      },
      {
        "duration": 30,
        "start_time": "2022-02-17T16:49:51.161Z"
      },
      {
        "duration": 22,
        "start_time": "2022-02-17T16:49:51.193Z"
      },
      {
        "duration": 26,
        "start_time": "2022-02-17T16:49:51.217Z"
      },
      {
        "duration": 5,
        "start_time": "2022-02-17T16:49:51.245Z"
      },
      {
        "duration": 19,
        "start_time": "2022-02-17T16:49:51.252Z"
      },
      {
        "duration": 5,
        "start_time": "2022-02-17T16:49:51.273Z"
      },
      {
        "duration": 26,
        "start_time": "2022-02-17T16:49:51.280Z"
      },
      {
        "duration": 8,
        "start_time": "2022-02-17T16:49:51.308Z"
      },
      {
        "duration": 6,
        "start_time": "2022-02-17T16:49:51.318Z"
      },
      {
        "duration": 9,
        "start_time": "2022-02-17T16:49:51.326Z"
      },
      {
        "duration": 4,
        "start_time": "2022-02-17T16:49:51.337Z"
      },
      {
        "duration": 27,
        "start_time": "2022-02-17T16:49:51.345Z"
      },
      {
        "duration": 4,
        "start_time": "2022-02-17T16:49:51.375Z"
      },
      {
        "duration": 14,
        "start_time": "2022-02-17T16:49:51.384Z"
      },
      {
        "duration": 5,
        "start_time": "2022-02-17T16:49:51.400Z"
      },
      {
        "duration": 36,
        "start_time": "2022-02-17T16:49:51.406Z"
      },
      {
        "duration": 4,
        "start_time": "2022-02-17T16:49:51.444Z"
      },
      {
        "duration": 6,
        "start_time": "2022-02-17T16:49:51.471Z"
      },
      {
        "duration": 24,
        "start_time": "2022-02-17T16:49:51.479Z"
      },
      {
        "duration": 9,
        "start_time": "2022-02-17T16:49:51.505Z"
      },
      {
        "duration": 10,
        "start_time": "2022-02-17T16:49:51.516Z"
      },
      {
        "duration": 224,
        "start_time": "2022-02-17T16:49:51.528Z"
      },
      {
        "duration": 17732,
        "start_time": "2022-02-17T16:49:51.753Z"
      },
      {
        "duration": 90,
        "start_time": "2022-02-17T16:50:09.488Z"
      },
      {
        "duration": 5,
        "start_time": "2022-02-17T16:50:09.580Z"
      },
      {
        "duration": 111,
        "start_time": "2022-02-17T16:50:09.590Z"
      },
      {
        "duration": 220,
        "start_time": "2022-02-17T16:50:09.703Z"
      },
      {
        "duration": 17850,
        "start_time": "2022-02-17T16:50:09.925Z"
      },
      {
        "duration": 99,
        "start_time": "2022-02-17T16:50:27.777Z"
      },
      {
        "duration": 5,
        "start_time": "2022-02-17T16:50:27.881Z"
      },
      {
        "duration": 108,
        "start_time": "2022-02-17T16:50:27.889Z"
      },
      {
        "duration": 8,
        "start_time": "2022-02-17T16:50:27.999Z"
      },
      {
        "duration": 86,
        "start_time": "2022-02-17T16:50:28.009Z"
      },
      {
        "duration": -54,
        "start_time": "2022-02-17T16:50:28.150Z"
      },
      {
        "duration": -59,
        "start_time": "2022-02-17T16:50:28.156Z"
      },
      {
        "duration": -63,
        "start_time": "2022-02-17T16:50:28.161Z"
      },
      {
        "duration": -66,
        "start_time": "2022-02-17T16:50:28.165Z"
      },
      {
        "duration": -70,
        "start_time": "2022-02-17T16:50:28.170Z"
      },
      {
        "duration": -75,
        "start_time": "2022-02-17T16:50:28.176Z"
      },
      {
        "duration": -79,
        "start_time": "2022-02-17T16:50:28.181Z"
      },
      {
        "duration": -82,
        "start_time": "2022-02-17T16:50:28.185Z"
      },
      {
        "duration": -85,
        "start_time": "2022-02-17T16:50:28.189Z"
      },
      {
        "duration": -90,
        "start_time": "2022-02-17T16:50:28.195Z"
      },
      {
        "duration": -94,
        "start_time": "2022-02-17T16:50:28.200Z"
      },
      {
        "duration": -115,
        "start_time": "2022-02-17T16:50:28.222Z"
      },
      {
        "duration": -122,
        "start_time": "2022-02-17T16:50:28.230Z"
      },
      {
        "duration": -129,
        "start_time": "2022-02-17T16:50:28.238Z"
      },
      {
        "duration": 11,
        "start_time": "2022-02-17T16:53:47.561Z"
      },
      {
        "duration": 271,
        "start_time": "2022-02-17T16:58:25.454Z"
      },
      {
        "duration": 4,
        "start_time": "2022-02-17T16:59:09.935Z"
      },
      {
        "duration": 4,
        "start_time": "2022-02-17T16:59:14.074Z"
      },
      {
        "duration": 10,
        "start_time": "2022-02-17T16:59:15.546Z"
      },
      {
        "duration": 28362,
        "start_time": "2022-02-17T17:03:23.833Z"
      },
      {
        "duration": 5,
        "start_time": "2022-02-17T17:04:00.961Z"
      },
      {
        "duration": 5,
        "start_time": "2022-02-17T17:04:02.389Z"
      },
      {
        "duration": 13,
        "start_time": "2022-02-17T17:04:03.759Z"
      },
      {
        "duration": 313,
        "start_time": "2022-02-17T17:04:51.408Z"
      },
      {
        "duration": 6,
        "start_time": "2022-02-17T17:04:57.888Z"
      },
      {
        "duration": 5,
        "start_time": "2022-02-17T17:05:06.212Z"
      },
      {
        "duration": 11,
        "start_time": "2022-02-17T17:05:07.692Z"
      },
      {
        "duration": 198,
        "start_time": "2022-02-17T17:08:31.273Z"
      },
      {
        "duration": 6,
        "start_time": "2022-02-17T17:08:34.984Z"
      },
      {
        "duration": 5,
        "start_time": "2022-02-17T17:08:36.577Z"
      },
      {
        "duration": 13,
        "start_time": "2022-02-17T17:08:37.937Z"
      },
      {
        "duration": 1157,
        "start_time": "2022-02-17T17:09:15.688Z"
      },
      {
        "duration": 3,
        "start_time": "2022-02-17T17:09:16.847Z"
      },
      {
        "duration": 7,
        "start_time": "2022-02-17T17:09:16.853Z"
      },
      {
        "duration": 45,
        "start_time": "2022-02-17T17:09:16.862Z"
      },
      {
        "duration": 28,
        "start_time": "2022-02-17T17:09:16.909Z"
      },
      {
        "duration": 9,
        "start_time": "2022-02-17T17:09:16.939Z"
      },
      {
        "duration": 6,
        "start_time": "2022-02-17T17:09:16.950Z"
      },
      {
        "duration": 15,
        "start_time": "2022-02-17T17:09:16.958Z"
      },
      {
        "duration": 15,
        "start_time": "2022-02-17T17:09:16.976Z"
      },
      {
        "duration": 30,
        "start_time": "2022-02-17T17:09:16.993Z"
      },
      {
        "duration": 10,
        "start_time": "2022-02-17T17:09:17.025Z"
      },
      {
        "duration": 23,
        "start_time": "2022-02-17T17:09:17.037Z"
      },
      {
        "duration": 30,
        "start_time": "2022-02-17T17:09:17.062Z"
      },
      {
        "duration": 40,
        "start_time": "2022-02-17T17:09:17.094Z"
      },
      {
        "duration": 9,
        "start_time": "2022-02-17T17:09:17.136Z"
      },
      {
        "duration": 11,
        "start_time": "2022-02-17T17:09:17.147Z"
      },
      {
        "duration": 41,
        "start_time": "2022-02-17T17:09:17.160Z"
      },
      {
        "duration": 37,
        "start_time": "2022-02-17T17:09:17.203Z"
      },
      {
        "duration": 42,
        "start_time": "2022-02-17T17:09:17.242Z"
      },
      {
        "duration": 30,
        "start_time": "2022-02-17T17:09:17.286Z"
      },
      {
        "duration": 35,
        "start_time": "2022-02-17T17:09:17.318Z"
      },
      {
        "duration": 13,
        "start_time": "2022-02-17T17:09:17.355Z"
      },
      {
        "duration": 22,
        "start_time": "2022-02-17T17:09:17.373Z"
      },
      {
        "duration": 28,
        "start_time": "2022-02-17T17:09:17.398Z"
      },
      {
        "duration": 25,
        "start_time": "2022-02-17T17:09:17.428Z"
      },
      {
        "duration": 49,
        "start_time": "2022-02-17T17:09:17.455Z"
      },
      {
        "duration": 54,
        "start_time": "2022-02-17T17:09:17.506Z"
      },
      {
        "duration": 14,
        "start_time": "2022-02-17T17:09:17.562Z"
      },
      {
        "duration": 46,
        "start_time": "2022-02-17T17:09:17.578Z"
      },
      {
        "duration": 25,
        "start_time": "2022-02-17T17:09:17.626Z"
      },
      {
        "duration": 42,
        "start_time": "2022-02-17T17:09:17.653Z"
      },
      {
        "duration": 20,
        "start_time": "2022-02-17T17:09:17.697Z"
      },
      {
        "duration": 236,
        "start_time": "2022-02-17T17:09:17.719Z"
      },
      {
        "duration": 16081,
        "start_time": "2022-02-17T17:09:17.957Z"
      },
      {
        "duration": 135,
        "start_time": "2022-02-17T17:09:34.040Z"
      },
      {
        "duration": 94,
        "start_time": "2022-02-17T17:09:34.177Z"
      },
      {
        "duration": 19,
        "start_time": "2022-02-17T17:09:34.274Z"
      },
      {
        "duration": 243,
        "start_time": "2022-02-17T17:09:34.296Z"
      },
      {
        "duration": 16619,
        "start_time": "2022-02-17T17:09:34.541Z"
      },
      {
        "duration": 214,
        "start_time": "2022-02-17T17:09:51.162Z"
      },
      {
        "duration": 90,
        "start_time": "2022-02-17T17:09:51.379Z"
      },
      {
        "duration": 17,
        "start_time": "2022-02-17T17:09:51.472Z"
      },
      {
        "duration": 13,
        "start_time": "2022-02-17T17:09:51.491Z"
      },
      {
        "duration": 13,
        "start_time": "2022-02-17T17:09:51.506Z"
      },
      {
        "duration": 323,
        "start_time": "2022-02-17T17:09:51.521Z"
      },
      {
        "duration": 27947,
        "start_time": "2022-02-17T17:09:51.846Z"
      },
      {
        "duration": 84,
        "start_time": "2022-02-17T17:10:19.795Z"
      },
      {
        "duration": 89,
        "start_time": "2022-02-17T17:10:19.882Z"
      },
      {
        "duration": 104,
        "start_time": "2022-02-17T17:10:19.974Z"
      },
      {
        "duration": 12,
        "start_time": "2022-02-17T17:10:20.080Z"
      },
      {
        "duration": 7,
        "start_time": "2022-02-17T17:10:20.094Z"
      },
      {
        "duration": 12,
        "start_time": "2022-02-17T17:10:20.103Z"
      },
      {
        "duration": 108,
        "start_time": "2022-02-17T17:10:20.117Z"
      },
      {
        "duration": 10553,
        "start_time": "2022-02-17T17:10:20.227Z"
      },
      {
        "duration": 98,
        "start_time": "2022-02-17T17:10:30.782Z"
      },
      {
        "duration": 107,
        "start_time": "2022-02-17T17:10:30.970Z"
      },
      {
        "duration": 102,
        "start_time": "2022-02-17T17:10:31.080Z"
      },
      {
        "duration": 44,
        "start_time": "2022-02-17T17:10:31.184Z"
      },
      {
        "duration": 461,
        "start_time": "2022-02-17T17:10:31.231Z"
      },
      {
        "duration": 116,
        "start_time": "2022-02-17T17:15:41.313Z"
      },
      {
        "duration": 61,
        "start_time": "2022-02-17T17:16:33.210Z"
      },
      {
        "duration": 29253,
        "start_time": "2022-02-17T17:17:01.645Z"
      },
      {
        "duration": 29200,
        "start_time": "2022-02-17T17:18:57.357Z"
      },
      {
        "duration": 89,
        "start_time": "2022-02-17T17:20:14.981Z"
      },
      {
        "duration": 75,
        "start_time": "2022-02-17T17:36:29.302Z"
      },
      {
        "duration": 125,
        "start_time": "2022-02-17T17:37:02.991Z"
      },
      {
        "duration": 5,
        "start_time": "2022-02-17T17:39:11.445Z"
      },
      {
        "duration": 4,
        "start_time": "2022-02-17T17:39:16.340Z"
      },
      {
        "duration": 15,
        "start_time": "2022-02-17T17:39:17.603Z"
      },
      {
        "duration": 1197,
        "start_time": "2022-02-17T17:39:40.645Z"
      },
      {
        "duration": 2,
        "start_time": "2022-02-17T17:39:41.845Z"
      },
      {
        "duration": 26,
        "start_time": "2022-02-17T17:39:41.849Z"
      },
      {
        "duration": 58,
        "start_time": "2022-02-17T17:39:41.878Z"
      },
      {
        "duration": 41,
        "start_time": "2022-02-17T17:39:41.938Z"
      },
      {
        "duration": 15,
        "start_time": "2022-02-17T17:39:41.981Z"
      },
      {
        "duration": 9,
        "start_time": "2022-02-17T17:39:41.998Z"
      },
      {
        "duration": 31,
        "start_time": "2022-02-17T17:39:42.009Z"
      },
      {
        "duration": 26,
        "start_time": "2022-02-17T17:39:42.042Z"
      },
      {
        "duration": 29,
        "start_time": "2022-02-17T17:39:42.070Z"
      },
      {
        "duration": 16,
        "start_time": "2022-02-17T17:39:42.101Z"
      },
      {
        "duration": 28,
        "start_time": "2022-02-17T17:39:42.119Z"
      },
      {
        "duration": 35,
        "start_time": "2022-02-17T17:39:42.149Z"
      },
      {
        "duration": 25,
        "start_time": "2022-02-17T17:39:42.186Z"
      },
      {
        "duration": 6,
        "start_time": "2022-02-17T17:39:42.212Z"
      },
      {
        "duration": 22,
        "start_time": "2022-02-17T17:39:42.220Z"
      },
      {
        "duration": 30,
        "start_time": "2022-02-17T17:39:42.245Z"
      },
      {
        "duration": 15,
        "start_time": "2022-02-17T17:39:42.277Z"
      },
      {
        "duration": 18,
        "start_time": "2022-02-17T17:39:42.294Z"
      },
      {
        "duration": 24,
        "start_time": "2022-02-17T17:39:42.314Z"
      },
      {
        "duration": 18,
        "start_time": "2022-02-17T17:39:42.340Z"
      },
      {
        "duration": 19,
        "start_time": "2022-02-17T17:39:42.359Z"
      },
      {
        "duration": 20,
        "start_time": "2022-02-17T17:39:42.382Z"
      },
      {
        "duration": 36,
        "start_time": "2022-02-17T17:39:42.405Z"
      },
      {
        "duration": 11,
        "start_time": "2022-02-17T17:39:42.443Z"
      },
      {
        "duration": 26,
        "start_time": "2022-02-17T17:39:42.456Z"
      },
      {
        "duration": 31,
        "start_time": "2022-02-17T17:39:42.484Z"
      },
      {
        "duration": 12,
        "start_time": "2022-02-17T17:39:42.517Z"
      },
      {
        "duration": 7,
        "start_time": "2022-02-17T17:39:42.531Z"
      },
      {
        "duration": 24,
        "start_time": "2022-02-17T17:39:42.539Z"
      },
      {
        "duration": 13,
        "start_time": "2022-02-17T17:39:42.564Z"
      },
      {
        "duration": 15,
        "start_time": "2022-02-17T17:39:42.578Z"
      },
      {
        "duration": 184,
        "start_time": "2022-02-17T17:39:42.595Z"
      },
      {
        "duration": 16426,
        "start_time": "2022-02-17T17:39:42.780Z"
      },
      {
        "duration": 67,
        "start_time": "2022-02-17T17:39:59.208Z"
      },
      {
        "duration": 93,
        "start_time": "2022-02-17T17:39:59.278Z"
      },
      {
        "duration": 12,
        "start_time": "2022-02-17T17:39:59.373Z"
      },
      {
        "duration": 224,
        "start_time": "2022-02-17T17:39:59.387Z"
      },
      {
        "duration": 16460,
        "start_time": "2022-02-17T17:39:59.613Z"
      },
      {
        "duration": 96,
        "start_time": "2022-02-17T17:40:16.075Z"
      },
      {
        "duration": 5,
        "start_time": "2022-02-17T17:40:16.174Z"
      },
      {
        "duration": 23,
        "start_time": "2022-02-17T17:40:16.270Z"
      },
      {
        "duration": 16,
        "start_time": "2022-02-17T17:40:16.295Z"
      },
      {
        "duration": 27,
        "start_time": "2022-02-17T17:40:16.312Z"
      },
      {
        "duration": 308,
        "start_time": "2022-02-17T17:40:16.341Z"
      },
      {
        "duration": 28401,
        "start_time": "2022-02-17T17:40:16.651Z"
      },
      {
        "duration": 115,
        "start_time": "2022-02-17T17:40:45.054Z"
      },
      {
        "duration": 6,
        "start_time": "2022-02-17T17:40:45.172Z"
      },
      {
        "duration": 99,
        "start_time": "2022-02-17T17:40:45.182Z"
      },
      {
        "duration": 17,
        "start_time": "2022-02-17T17:40:45.283Z"
      },
      {
        "duration": 21,
        "start_time": "2022-02-17T17:40:45.302Z"
      },
      {
        "duration": 151,
        "start_time": "2022-02-17T17:40:45.325Z"
      },
      {
        "duration": 5,
        "start_time": "2022-02-17T17:40:45.478Z"
      },
      {
        "duration": 5,
        "start_time": "2022-02-17T17:40:45.486Z"
      },
      {
        "duration": 15,
        "start_time": "2022-02-17T17:40:45.493Z"
      },
      {
        "duration": 10252,
        "start_time": "2022-02-17T17:40:45.510Z"
      },
      {
        "duration": 107,
        "start_time": "2022-02-17T17:40:55.769Z"
      },
      {
        "duration": 197,
        "start_time": "2022-02-17T17:40:55.878Z"
      },
      {
        "duration": 94,
        "start_time": "2022-02-17T17:40:56.077Z"
      },
      {
        "duration": 11,
        "start_time": "2022-02-17T17:40:56.173Z"
      },
      {
        "duration": 476,
        "start_time": "2022-02-17T17:40:56.186Z"
      },
      {
        "duration": 113,
        "start_time": "2022-02-17T17:42:37.611Z"
      },
      {
        "duration": 123,
        "start_time": "2022-02-17T17:43:28.453Z"
      },
      {
        "duration": 10361,
        "start_time": "2022-02-17T17:46:21.764Z"
      },
      {
        "duration": 10262,
        "start_time": "2022-02-17T17:47:09.619Z"
      },
      {
        "duration": 5,
        "start_time": "2022-02-17T17:47:29.466Z"
      },
      {
        "duration": 10184,
        "start_time": "2022-02-17T17:47:50.973Z"
      },
      {
        "duration": 77,
        "start_time": "2022-02-17T17:49:40.900Z"
      },
      {
        "duration": 6,
        "start_time": "2022-02-17T17:49:50.348Z"
      },
      {
        "duration": 4,
        "start_time": "2022-02-17T17:49:52.439Z"
      },
      {
        "duration": 11,
        "start_time": "2022-02-17T17:49:53.369Z"
      },
      {
        "duration": 22,
        "start_time": "2022-02-17T17:50:06.538Z"
      },
      {
        "duration": 4,
        "start_time": "2022-02-17T17:50:12.598Z"
      },
      {
        "duration": 11,
        "start_time": "2022-02-17T17:50:13.910Z"
      },
      {
        "duration": 79,
        "start_time": "2022-02-17T17:50:43.690Z"
      },
      {
        "duration": 1114,
        "start_time": "2022-02-17T17:51:13.033Z"
      },
      {
        "duration": 2,
        "start_time": "2022-02-17T17:51:14.149Z"
      },
      {
        "duration": 16,
        "start_time": "2022-02-17T17:51:14.153Z"
      },
      {
        "duration": 38,
        "start_time": "2022-02-17T17:51:14.171Z"
      },
      {
        "duration": 31,
        "start_time": "2022-02-17T17:51:14.211Z"
      },
      {
        "duration": 9,
        "start_time": "2022-02-17T17:51:14.244Z"
      },
      {
        "duration": 18,
        "start_time": "2022-02-17T17:51:14.255Z"
      },
      {
        "duration": 6,
        "start_time": "2022-02-17T17:51:14.276Z"
      },
      {
        "duration": 4,
        "start_time": "2022-02-17T17:51:14.284Z"
      },
      {
        "duration": 17,
        "start_time": "2022-02-17T17:51:14.289Z"
      },
      {
        "duration": 5,
        "start_time": "2022-02-17T17:51:14.307Z"
      },
      {
        "duration": 22,
        "start_time": "2022-02-17T17:51:14.313Z"
      },
      {
        "duration": 14,
        "start_time": "2022-02-17T17:51:14.370Z"
      },
      {
        "duration": 22,
        "start_time": "2022-02-17T17:51:14.386Z"
      },
      {
        "duration": 8,
        "start_time": "2022-02-17T17:51:14.410Z"
      },
      {
        "duration": 5,
        "start_time": "2022-02-17T17:51:14.420Z"
      },
      {
        "duration": 44,
        "start_time": "2022-02-17T17:51:14.427Z"
      },
      {
        "duration": 8,
        "start_time": "2022-02-17T17:51:14.473Z"
      },
      {
        "duration": 5,
        "start_time": "2022-02-17T17:51:14.482Z"
      },
      {
        "duration": 6,
        "start_time": "2022-02-17T17:51:14.489Z"
      },
      {
        "duration": 8,
        "start_time": "2022-02-17T17:51:14.497Z"
      },
      {
        "duration": 4,
        "start_time": "2022-02-17T17:51:14.507Z"
      },
      {
        "duration": 4,
        "start_time": "2022-02-17T17:51:14.516Z"
      },
      {
        "duration": 49,
        "start_time": "2022-02-17T17:51:14.523Z"
      },
      {
        "duration": 4,
        "start_time": "2022-02-17T17:51:14.574Z"
      },
      {
        "duration": 5,
        "start_time": "2022-02-17T17:51:14.580Z"
      },
      {
        "duration": 35,
        "start_time": "2022-02-17T17:51:14.587Z"
      },
      {
        "duration": 5,
        "start_time": "2022-02-17T17:51:14.624Z"
      },
      {
        "duration": 8,
        "start_time": "2022-02-17T17:51:14.630Z"
      },
      {
        "duration": 34,
        "start_time": "2022-02-17T17:51:14.639Z"
      },
      {
        "duration": 13,
        "start_time": "2022-02-17T17:51:14.675Z"
      },
      {
        "duration": 3,
        "start_time": "2022-02-17T17:51:14.690Z"
      },
      {
        "duration": 205,
        "start_time": "2022-02-17T17:51:14.695Z"
      },
      {
        "duration": 16004,
        "start_time": "2022-02-17T17:51:14.902Z"
      },
      {
        "duration": 63,
        "start_time": "2022-02-17T17:51:30.908Z"
      },
      {
        "duration": 6,
        "start_time": "2022-02-17T17:51:30.974Z"
      },
      {
        "duration": 20,
        "start_time": "2022-02-17T17:51:31.069Z"
      },
      {
        "duration": 207,
        "start_time": "2022-02-17T17:51:31.091Z"
      },
      {
        "duration": 16004,
        "start_time": "2022-02-17T17:51:31.300Z"
      },
      {
        "duration": 64,
        "start_time": "2022-02-17T17:51:47.306Z"
      },
      {
        "duration": 5,
        "start_time": "2022-02-17T17:51:47.373Z"
      },
      {
        "duration": 102,
        "start_time": "2022-02-17T17:51:47.380Z"
      },
      {
        "duration": 10,
        "start_time": "2022-02-17T17:51:47.484Z"
      },
      {
        "duration": 15,
        "start_time": "2022-02-17T17:51:47.496Z"
      },
      {
        "duration": 323,
        "start_time": "2022-02-17T17:51:47.513Z"
      },
      {
        "duration": 27683,
        "start_time": "2022-02-17T17:51:47.838Z"
      },
      {
        "duration": 52,
        "start_time": "2022-02-17T17:52:15.523Z"
      },
      {
        "duration": 6,
        "start_time": "2022-02-17T17:52:15.577Z"
      },
      {
        "duration": 100,
        "start_time": "2022-02-17T17:52:15.669Z"
      },
      {
        "duration": 5,
        "start_time": "2022-02-17T17:52:15.771Z"
      },
      {
        "duration": 17,
        "start_time": "2022-02-17T17:52:15.778Z"
      },
      {
        "duration": 143,
        "start_time": "2022-02-17T17:52:15.796Z"
      },
      {
        "duration": 10169,
        "start_time": "2022-02-17T17:52:15.941Z"
      },
      {
        "duration": 60,
        "start_time": "2022-02-17T17:52:26.112Z"
      },
      {
        "duration": 118,
        "start_time": "2022-02-17T17:52:26.174Z"
      },
      {
        "duration": 39,
        "start_time": "2022-02-17T17:52:26.294Z"
      },
      {
        "duration": 52,
        "start_time": "2022-02-17T17:52:26.335Z"
      },
      {
        "duration": 178,
        "start_time": "2022-02-17T17:52:26.392Z"
      },
      {
        "duration": 38,
        "start_time": "2022-02-17T17:52:26.573Z"
      },
      {
        "duration": 481,
        "start_time": "2022-02-17T17:52:26.613Z"
      },
      {
        "duration": 1167,
        "start_time": "2022-02-17T17:55:03.470Z"
      },
      {
        "duration": 2,
        "start_time": "2022-02-17T17:55:04.639Z"
      },
      {
        "duration": 5,
        "start_time": "2022-02-17T17:55:04.647Z"
      },
      {
        "duration": 45,
        "start_time": "2022-02-17T17:55:04.654Z"
      },
      {
        "duration": 28,
        "start_time": "2022-02-17T17:55:04.701Z"
      },
      {
        "duration": 9,
        "start_time": "2022-02-17T17:55:04.731Z"
      },
      {
        "duration": 6,
        "start_time": "2022-02-17T17:55:04.742Z"
      },
      {
        "duration": 6,
        "start_time": "2022-02-17T17:55:04.770Z"
      },
      {
        "duration": 10,
        "start_time": "2022-02-17T17:55:04.778Z"
      },
      {
        "duration": 16,
        "start_time": "2022-02-17T17:55:04.790Z"
      },
      {
        "duration": 5,
        "start_time": "2022-02-17T17:55:04.808Z"
      },
      {
        "duration": 25,
        "start_time": "2022-02-17T17:55:04.815Z"
      },
      {
        "duration": 42,
        "start_time": "2022-02-17T17:55:04.842Z"
      },
      {
        "duration": 19,
        "start_time": "2022-02-17T17:55:04.886Z"
      },
      {
        "duration": 6,
        "start_time": "2022-02-17T17:55:04.907Z"
      },
      {
        "duration": 8,
        "start_time": "2022-02-17T17:55:04.915Z"
      },
      {
        "duration": 8,
        "start_time": "2022-02-17T17:55:04.924Z"
      },
      {
        "duration": 7,
        "start_time": "2022-02-17T17:55:04.969Z"
      },
      {
        "duration": 9,
        "start_time": "2022-02-17T17:55:04.978Z"
      },
      {
        "duration": 5,
        "start_time": "2022-02-17T17:55:04.989Z"
      },
      {
        "duration": 14,
        "start_time": "2022-02-17T17:55:04.996Z"
      },
      {
        "duration": 21,
        "start_time": "2022-02-17T17:55:05.014Z"
      },
      {
        "duration": 18,
        "start_time": "2022-02-17T17:55:05.038Z"
      },
      {
        "duration": 18,
        "start_time": "2022-02-17T17:55:05.057Z"
      },
      {
        "duration": 14,
        "start_time": "2022-02-17T17:55:05.077Z"
      },
      {
        "duration": 9,
        "start_time": "2022-02-17T17:55:05.093Z"
      },
      {
        "duration": 36,
        "start_time": "2022-02-17T17:55:05.104Z"
      },
      {
        "duration": 4,
        "start_time": "2022-02-17T17:55:05.142Z"
      },
      {
        "duration": 23,
        "start_time": "2022-02-17T17:55:05.148Z"
      },
      {
        "duration": 4,
        "start_time": "2022-02-17T17:55:05.172Z"
      },
      {
        "duration": 19,
        "start_time": "2022-02-17T17:55:05.178Z"
      },
      {
        "duration": 3,
        "start_time": "2022-02-17T17:55:05.199Z"
      },
      {
        "duration": 207,
        "start_time": "2022-02-17T17:55:05.203Z"
      },
      {
        "duration": 15917,
        "start_time": "2022-02-17T17:55:05.412Z"
      },
      {
        "duration": 238,
        "start_time": "2022-02-17T17:55:21.331Z"
      },
      {
        "duration": 6,
        "start_time": "2022-02-17T17:55:21.572Z"
      },
      {
        "duration": 15,
        "start_time": "2022-02-17T17:55:21.581Z"
      },
      {
        "duration": 269,
        "start_time": "2022-02-17T17:55:21.599Z"
      },
      {
        "duration": 16028,
        "start_time": "2022-02-17T17:55:21.869Z"
      },
      {
        "duration": 75,
        "start_time": "2022-02-17T17:55:37.899Z"
      },
      {
        "duration": 93,
        "start_time": "2022-02-17T17:55:37.977Z"
      },
      {
        "duration": 12,
        "start_time": "2022-02-17T17:55:38.072Z"
      },
      {
        "duration": 8,
        "start_time": "2022-02-17T17:55:38.086Z"
      },
      {
        "duration": 18,
        "start_time": "2022-02-17T17:55:38.096Z"
      },
      {
        "duration": 317,
        "start_time": "2022-02-17T17:55:38.115Z"
      },
      {
        "duration": 27564,
        "start_time": "2022-02-17T17:55:38.434Z"
      },
      {
        "duration": 75,
        "start_time": "2022-02-17T17:56:06.000Z"
      },
      {
        "duration": 92,
        "start_time": "2022-02-17T17:56:06.077Z"
      },
      {
        "duration": 16,
        "start_time": "2022-02-17T17:56:06.172Z"
      },
      {
        "duration": 7,
        "start_time": "2022-02-17T17:56:06.190Z"
      },
      {
        "duration": 80,
        "start_time": "2022-02-17T17:56:06.198Z"
      },
      {
        "duration": 136,
        "start_time": "2022-02-17T17:56:06.280Z"
      },
      {
        "duration": 9911,
        "start_time": "2022-02-17T17:56:06.419Z"
      },
      {
        "duration": 43,
        "start_time": "2022-02-17T17:56:16.332Z"
      },
      {
        "duration": 91,
        "start_time": "2022-02-17T17:56:16.378Z"
      },
      {
        "duration": 16,
        "start_time": "2022-02-17T17:56:16.472Z"
      },
      {
        "duration": 26,
        "start_time": "2022-02-17T17:56:16.570Z"
      },
      {
        "duration": 10,
        "start_time": "2022-02-17T17:56:16.669Z"
      },
      {
        "duration": 94,
        "start_time": "2022-02-17T17:56:16.682Z"
      },
      {
        "duration": 468,
        "start_time": "2022-02-17T17:56:16.778Z"
      },
      {
        "duration": 23,
        "start_time": "2022-02-17T18:07:01.962Z"
      },
      {
        "duration": 29,
        "start_time": "2022-02-17T18:08:58.161Z"
      },
      {
        "duration": 5,
        "start_time": "2022-02-17T18:09:25.681Z"
      },
      {
        "duration": 17,
        "start_time": "2022-02-17T18:09:28.168Z"
      },
      {
        "duration": 1199,
        "start_time": "2022-02-17T18:09:54.802Z"
      },
      {
        "duration": 3,
        "start_time": "2022-02-17T18:09:56.003Z"
      },
      {
        "duration": 8,
        "start_time": "2022-02-17T18:09:56.008Z"
      },
      {
        "duration": 45,
        "start_time": "2022-02-17T18:09:56.018Z"
      },
      {
        "duration": 39,
        "start_time": "2022-02-17T18:09:56.065Z"
      },
      {
        "duration": 11,
        "start_time": "2022-02-17T18:09:56.106Z"
      },
      {
        "duration": 8,
        "start_time": "2022-02-17T18:09:56.119Z"
      },
      {
        "duration": 6,
        "start_time": "2022-02-17T18:09:56.131Z"
      },
      {
        "duration": 4,
        "start_time": "2022-02-17T18:09:56.171Z"
      },
      {
        "duration": 27,
        "start_time": "2022-02-17T18:09:56.177Z"
      },
      {
        "duration": 8,
        "start_time": "2022-02-17T18:09:56.206Z"
      },
      {
        "duration": 44,
        "start_time": "2022-02-17T18:09:56.216Z"
      },
      {
        "duration": 21,
        "start_time": "2022-02-17T18:09:56.262Z"
      },
      {
        "duration": 28,
        "start_time": "2022-02-17T18:09:56.285Z"
      },
      {
        "duration": 6,
        "start_time": "2022-02-17T18:09:56.315Z"
      },
      {
        "duration": 10,
        "start_time": "2022-02-17T18:09:56.324Z"
      },
      {
        "duration": 8,
        "start_time": "2022-02-17T18:09:56.336Z"
      },
      {
        "duration": 29,
        "start_time": "2022-02-17T18:09:56.346Z"
      },
      {
        "duration": 7,
        "start_time": "2022-02-17T18:09:56.378Z"
      },
      {
        "duration": 5,
        "start_time": "2022-02-17T18:09:56.388Z"
      },
      {
        "duration": 9,
        "start_time": "2022-02-17T18:09:56.395Z"
      },
      {
        "duration": 4,
        "start_time": "2022-02-17T18:09:56.407Z"
      },
      {
        "duration": 4,
        "start_time": "2022-02-17T18:09:56.415Z"
      },
      {
        "duration": 4,
        "start_time": "2022-02-17T18:09:56.422Z"
      },
      {
        "duration": 47,
        "start_time": "2022-02-17T18:09:56.428Z"
      },
      {
        "duration": 13,
        "start_time": "2022-02-17T18:09:56.477Z"
      },
      {
        "duration": 36,
        "start_time": "2022-02-17T18:09:56.492Z"
      },
      {
        "duration": 4,
        "start_time": "2022-02-17T18:09:56.529Z"
      },
      {
        "duration": 7,
        "start_time": "2022-02-17T18:09:56.535Z"
      },
      {
        "duration": 32,
        "start_time": "2022-02-17T18:09:56.544Z"
      },
      {
        "duration": 10,
        "start_time": "2022-02-17T18:09:56.579Z"
      },
      {
        "duration": 3,
        "start_time": "2022-02-17T18:09:56.591Z"
      },
      {
        "duration": 221,
        "start_time": "2022-02-17T18:09:56.596Z"
      },
      {
        "duration": 17585,
        "start_time": "2022-02-17T18:09:56.819Z"
      },
      {
        "duration": 171,
        "start_time": "2022-02-17T18:10:14.406Z"
      },
      {
        "duration": 86,
        "start_time": "2022-02-17T18:10:14.584Z"
      },
      {
        "duration": 22,
        "start_time": "2022-02-17T18:10:14.673Z"
      },
      {
        "duration": 236,
        "start_time": "2022-02-17T18:10:14.698Z"
      },
      {
        "duration": 17943,
        "start_time": "2022-02-17T18:10:14.935Z"
      },
      {
        "duration": 95,
        "start_time": "2022-02-17T18:10:32.881Z"
      },
      {
        "duration": 6,
        "start_time": "2022-02-17T18:10:32.978Z"
      },
      {
        "duration": 217,
        "start_time": "2022-02-17T18:10:32.986Z"
      },
      {
        "duration": 16,
        "start_time": "2022-02-17T18:10:33.205Z"
      },
      {
        "duration": 59,
        "start_time": "2022-02-17T18:10:33.223Z"
      },
      {
        "duration": 348,
        "start_time": "2022-02-17T18:10:33.285Z"
      },
      {
        "duration": 30198,
        "start_time": "2022-02-17T18:10:33.635Z"
      },
      {
        "duration": 148,
        "start_time": "2022-02-17T18:11:03.835Z"
      },
      {
        "duration": 85,
        "start_time": "2022-02-17T18:11:03.987Z"
      },
      {
        "duration": 28,
        "start_time": "2022-02-17T18:11:04.079Z"
      },
      {
        "duration": 6,
        "start_time": "2022-02-17T18:11:04.109Z"
      },
      {
        "duration": 14,
        "start_time": "2022-02-17T18:11:04.117Z"
      },
      {
        "duration": 136,
        "start_time": "2022-02-17T18:11:04.133Z"
      },
      {
        "duration": 10630,
        "start_time": "2022-02-17T18:11:04.272Z"
      },
      {
        "duration": 67,
        "start_time": "2022-02-17T18:11:14.904Z"
      },
      {
        "duration": 7,
        "start_time": "2022-02-17T18:11:14.974Z"
      },
      {
        "duration": 109,
        "start_time": "2022-02-17T18:11:14.984Z"
      },
      {
        "duration": 74,
        "start_time": "2022-02-17T18:11:15.095Z"
      },
      {
        "duration": 6,
        "start_time": "2022-02-17T18:11:15.171Z"
      },
      {
        "duration": 117,
        "start_time": "2022-02-17T18:11:15.180Z"
      },
      {
        "duration": 4,
        "start_time": "2022-02-17T18:11:15.299Z"
      },
      {
        "duration": 9,
        "start_time": "2022-02-17T18:11:15.305Z"
      },
      {
        "duration": 475,
        "start_time": "2022-02-17T18:11:15.316Z"
      },
      {
        "duration": 1173,
        "start_time": "2022-02-17T18:19:23.511Z"
      },
      {
        "duration": 2,
        "start_time": "2022-02-17T18:19:24.686Z"
      },
      {
        "duration": 14,
        "start_time": "2022-02-17T18:19:24.691Z"
      },
      {
        "duration": 36,
        "start_time": "2022-02-17T18:19:24.707Z"
      },
      {
        "duration": 31,
        "start_time": "2022-02-17T18:19:24.745Z"
      },
      {
        "duration": 11,
        "start_time": "2022-02-17T18:19:24.778Z"
      },
      {
        "duration": 11,
        "start_time": "2022-02-17T18:19:24.791Z"
      },
      {
        "duration": 10,
        "start_time": "2022-02-17T18:19:24.806Z"
      },
      {
        "duration": 16,
        "start_time": "2022-02-17T18:19:24.818Z"
      },
      {
        "duration": 21,
        "start_time": "2022-02-17T18:19:24.836Z"
      },
      {
        "duration": 15,
        "start_time": "2022-02-17T18:19:24.858Z"
      },
      {
        "duration": 27,
        "start_time": "2022-02-17T18:19:24.875Z"
      },
      {
        "duration": 24,
        "start_time": "2022-02-17T18:19:24.904Z"
      },
      {
        "duration": 22,
        "start_time": "2022-02-17T18:19:24.930Z"
      },
      {
        "duration": 20,
        "start_time": "2022-02-17T18:19:24.953Z"
      },
      {
        "duration": 8,
        "start_time": "2022-02-17T18:19:24.975Z"
      },
      {
        "duration": 10,
        "start_time": "2022-02-17T18:19:24.985Z"
      },
      {
        "duration": 10,
        "start_time": "2022-02-17T18:19:24.997Z"
      },
      {
        "duration": 12,
        "start_time": "2022-02-17T18:19:25.009Z"
      },
      {
        "duration": 9,
        "start_time": "2022-02-17T18:19:25.022Z"
      },
      {
        "duration": 10,
        "start_time": "2022-02-17T18:19:25.033Z"
      },
      {
        "duration": 29,
        "start_time": "2022-02-17T18:19:25.046Z"
      },
      {
        "duration": 13,
        "start_time": "2022-02-17T18:19:25.080Z"
      },
      {
        "duration": 15,
        "start_time": "2022-02-17T18:19:25.096Z"
      },
      {
        "duration": 20,
        "start_time": "2022-02-17T18:19:25.113Z"
      },
      {
        "duration": 8,
        "start_time": "2022-02-17T18:19:25.135Z"
      },
      {
        "duration": 37,
        "start_time": "2022-02-17T18:19:25.145Z"
      },
      {
        "duration": 3,
        "start_time": "2022-02-17T18:19:25.184Z"
      },
      {
        "duration": 10,
        "start_time": "2022-02-17T18:19:25.189Z"
      },
      {
        "duration": 11,
        "start_time": "2022-02-17T18:19:25.201Z"
      },
      {
        "duration": 18,
        "start_time": "2022-02-17T18:19:25.214Z"
      },
      {
        "duration": 9,
        "start_time": "2022-02-17T18:19:25.233Z"
      },
      {
        "duration": 194,
        "start_time": "2022-02-17T18:19:25.243Z"
      },
      {
        "duration": 16102,
        "start_time": "2022-02-17T18:19:25.439Z"
      },
      {
        "duration": 36,
        "start_time": "2022-02-17T18:19:41.543Z"
      },
      {
        "duration": 92,
        "start_time": "2022-02-17T18:19:41.581Z"
      },
      {
        "duration": 113,
        "start_time": "2022-02-17T18:19:41.675Z"
      },
      {
        "duration": 218,
        "start_time": "2022-02-17T18:19:41.790Z"
      },
      {
        "duration": 16591,
        "start_time": "2022-02-17T18:19:42.010Z"
      },
      {
        "duration": 66,
        "start_time": "2022-02-17T18:19:58.603Z"
      },
      {
        "duration": 5,
        "start_time": "2022-02-17T18:19:58.672Z"
      },
      {
        "duration": 97,
        "start_time": "2022-02-17T18:19:58.680Z"
      },
      {
        "duration": 6,
        "start_time": "2022-02-17T18:19:58.779Z"
      },
      {
        "duration": 13,
        "start_time": "2022-02-17T18:19:58.787Z"
      },
      {
        "duration": 307,
        "start_time": "2022-02-17T18:19:58.801Z"
      },
      {
        "duration": 27488,
        "start_time": "2022-02-17T18:19:59.110Z"
      },
      {
        "duration": 168,
        "start_time": "2022-02-17T18:20:26.600Z"
      },
      {
        "duration": 8,
        "start_time": "2022-02-17T18:20:26.771Z"
      },
      {
        "duration": 14,
        "start_time": "2022-02-17T18:20:26.870Z"
      },
      {
        "duration": 28,
        "start_time": "2022-02-17T18:20:26.886Z"
      },
      {
        "duration": 32,
        "start_time": "2022-02-17T18:20:26.916Z"
      },
      {
        "duration": 136,
        "start_time": "2022-02-17T18:20:26.950Z"
      },
      {
        "duration": 10317,
        "start_time": "2022-02-17T18:20:27.088Z"
      },
      {
        "duration": 64,
        "start_time": "2022-02-17T18:20:37.407Z"
      },
      {
        "duration": 98,
        "start_time": "2022-02-17T18:20:37.473Z"
      },
      {
        "duration": 13,
        "start_time": "2022-02-17T18:20:37.573Z"
      },
      {
        "duration": 24,
        "start_time": "2022-02-17T18:20:37.588Z"
      },
      {
        "duration": 6,
        "start_time": "2022-02-17T18:20:37.670Z"
      },
      {
        "duration": 105,
        "start_time": "2022-02-17T18:20:37.678Z"
      },
      {
        "duration": 12,
        "start_time": "2022-02-17T18:20:37.785Z"
      },
      {
        "duration": 19,
        "start_time": "2022-02-17T18:20:37.799Z"
      },
      {
        "duration": 466,
        "start_time": "2022-02-17T18:20:37.820Z"
      },
      {
        "duration": 24,
        "start_time": "2022-02-17T18:27:35.479Z"
      },
      {
        "duration": 199,
        "start_time": "2022-02-17T18:29:57.388Z"
      },
      {
        "duration": 16198,
        "start_time": "2022-02-17T18:30:23.042Z"
      },
      {
        "duration": 21,
        "start_time": "2022-02-17T18:33:52.777Z"
      },
      {
        "duration": 21,
        "start_time": "2022-02-17T18:35:15.022Z"
      },
      {
        "duration": 1186,
        "start_time": "2022-02-17T18:36:38.259Z"
      },
      {
        "duration": 2,
        "start_time": "2022-02-17T18:36:39.447Z"
      },
      {
        "duration": 7,
        "start_time": "2022-02-17T18:36:39.451Z"
      },
      {
        "duration": 33,
        "start_time": "2022-02-17T18:36:39.460Z"
      },
      {
        "duration": 32,
        "start_time": "2022-02-17T18:36:39.495Z"
      },
      {
        "duration": 10,
        "start_time": "2022-02-17T18:36:39.529Z"
      },
      {
        "duration": 30,
        "start_time": "2022-02-17T18:36:39.541Z"
      },
      {
        "duration": 5,
        "start_time": "2022-02-17T18:36:39.575Z"
      },
      {
        "duration": 8,
        "start_time": "2022-02-17T18:36:39.583Z"
      },
      {
        "duration": 16,
        "start_time": "2022-02-17T18:36:39.593Z"
      },
      {
        "duration": 5,
        "start_time": "2022-02-17T18:36:39.611Z"
      },
      {
        "duration": 62,
        "start_time": "2022-02-17T18:36:39.618Z"
      },
      {
        "duration": 21,
        "start_time": "2022-02-17T18:36:39.682Z"
      },
      {
        "duration": 21,
        "start_time": "2022-02-17T18:36:39.705Z"
      },
      {
        "duration": 6,
        "start_time": "2022-02-17T18:36:39.728Z"
      },
      {
        "duration": 34,
        "start_time": "2022-02-17T18:36:39.736Z"
      },
      {
        "duration": 6,
        "start_time": "2022-02-17T18:36:39.772Z"
      },
      {
        "duration": 9,
        "start_time": "2022-02-17T18:36:39.780Z"
      },
      {
        "duration": 5,
        "start_time": "2022-02-17T18:36:39.791Z"
      },
      {
        "duration": 6,
        "start_time": "2022-02-17T18:36:39.798Z"
      },
      {
        "duration": 8,
        "start_time": "2022-02-17T18:36:39.806Z"
      },
      {
        "duration": 5,
        "start_time": "2022-02-17T18:36:39.816Z"
      },
      {
        "duration": 4,
        "start_time": "2022-02-17T18:36:39.825Z"
      },
      {
        "duration": 39,
        "start_time": "2022-02-17T18:36:39.832Z"
      },
      {
        "duration": 7,
        "start_time": "2022-02-17T18:36:39.873Z"
      },
      {
        "duration": 4,
        "start_time": "2022-02-17T18:36:39.882Z"
      },
      {
        "duration": 32,
        "start_time": "2022-02-17T18:36:39.888Z"
      },
      {
        "duration": 4,
        "start_time": "2022-02-17T18:36:39.922Z"
      },
      {
        "duration": 7,
        "start_time": "2022-02-17T18:36:39.928Z"
      },
      {
        "duration": 35,
        "start_time": "2022-02-17T18:36:39.936Z"
      },
      {
        "duration": 11,
        "start_time": "2022-02-17T18:36:39.973Z"
      },
      {
        "duration": 7,
        "start_time": "2022-02-17T18:36:39.986Z"
      },
      {
        "duration": 208,
        "start_time": "2022-02-17T18:36:39.994Z"
      },
      {
        "duration": 16099,
        "start_time": "2022-02-17T18:36:40.205Z"
      },
      {
        "duration": 68,
        "start_time": "2022-02-17T18:36:56.305Z"
      },
      {
        "duration": 8,
        "start_time": "2022-02-17T18:36:56.376Z"
      },
      {
        "duration": 91,
        "start_time": "2022-02-17T18:36:56.386Z"
      },
      {
        "duration": 203,
        "start_time": "2022-02-17T18:36:56.479Z"
      },
      {
        "duration": 16264,
        "start_time": "2022-02-17T18:36:56.683Z"
      },
      {
        "duration": 33,
        "start_time": "2022-02-17T18:37:12.948Z"
      },
      {
        "duration": 91,
        "start_time": "2022-02-17T18:37:12.984Z"
      },
      {
        "duration": 104,
        "start_time": "2022-02-17T18:37:13.078Z"
      },
      {
        "duration": 6,
        "start_time": "2022-02-17T18:37:13.184Z"
      },
      {
        "duration": 12,
        "start_time": "2022-02-17T18:37:13.192Z"
      },
      {
        "duration": 312,
        "start_time": "2022-02-17T18:37:13.206Z"
      },
      {
        "duration": 28156,
        "start_time": "2022-02-17T18:37:13.520Z"
      },
      {
        "duration": 98,
        "start_time": "2022-02-17T18:37:41.678Z"
      },
      {
        "duration": 92,
        "start_time": "2022-02-17T18:37:41.778Z"
      },
      {
        "duration": 109,
        "start_time": "2022-02-17T18:37:41.873Z"
      },
      {
        "duration": 6,
        "start_time": "2022-02-17T18:37:41.984Z"
      },
      {
        "duration": 13,
        "start_time": "2022-02-17T18:37:41.992Z"
      },
      {
        "duration": 122,
        "start_time": "2022-02-17T18:37:42.007Z"
      },
      {
        "duration": 9794,
        "start_time": "2022-02-17T18:37:42.131Z"
      },
      {
        "duration": 49,
        "start_time": "2022-02-17T18:37:51.927Z"
      },
      {
        "duration": 94,
        "start_time": "2022-02-17T18:37:51.979Z"
      },
      {
        "duration": 94,
        "start_time": "2022-02-17T18:37:52.075Z"
      },
      {
        "duration": 22,
        "start_time": "2022-02-17T18:37:52.171Z"
      },
      {
        "duration": 4,
        "start_time": "2022-02-17T18:37:52.195Z"
      },
      {
        "duration": 14,
        "start_time": "2022-02-17T18:37:52.201Z"
      },
      {
        "duration": 6,
        "start_time": "2022-02-17T18:37:52.217Z"
      },
      {
        "duration": 46,
        "start_time": "2022-02-17T18:37:52.225Z"
      },
      {
        "duration": 523,
        "start_time": "2022-02-17T18:37:52.272Z"
      },
      {
        "duration": 1189,
        "start_time": "2022-02-17T18:39:57.052Z"
      },
      {
        "duration": 3,
        "start_time": "2022-02-17T18:39:58.242Z"
      },
      {
        "duration": 5,
        "start_time": "2022-02-17T18:39:58.247Z"
      },
      {
        "duration": 33,
        "start_time": "2022-02-17T18:39:58.254Z"
      },
      {
        "duration": 30,
        "start_time": "2022-02-17T18:39:58.288Z"
      },
      {
        "duration": 10,
        "start_time": "2022-02-17T18:39:58.319Z"
      },
      {
        "duration": 5,
        "start_time": "2022-02-17T18:39:58.331Z"
      },
      {
        "duration": 31,
        "start_time": "2022-02-17T18:39:58.339Z"
      },
      {
        "duration": 2,
        "start_time": "2022-02-17T18:39:58.372Z"
      },
      {
        "duration": 16,
        "start_time": "2022-02-17T18:39:58.376Z"
      },
      {
        "duration": 5,
        "start_time": "2022-02-17T18:39:58.394Z"
      },
      {
        "duration": 23,
        "start_time": "2022-02-17T18:39:58.400Z"
      },
      {
        "duration": 44,
        "start_time": "2022-02-17T18:39:58.425Z"
      },
      {
        "duration": 20,
        "start_time": "2022-02-17T18:39:58.471Z"
      },
      {
        "duration": 7,
        "start_time": "2022-02-17T18:39:58.493Z"
      },
      {
        "duration": 4,
        "start_time": "2022-02-17T18:39:58.502Z"
      },
      {
        "duration": 5,
        "start_time": "2022-02-17T18:39:58.508Z"
      },
      {
        "duration": 8,
        "start_time": "2022-02-17T18:39:58.514Z"
      },
      {
        "duration": 6,
        "start_time": "2022-02-17T18:39:58.524Z"
      },
      {
        "duration": 38,
        "start_time": "2022-02-17T18:39:58.532Z"
      },
      {
        "duration": 8,
        "start_time": "2022-02-17T18:39:58.572Z"
      },
      {
        "duration": 4,
        "start_time": "2022-02-17T18:39:58.581Z"
      },
      {
        "duration": 5,
        "start_time": "2022-02-17T18:39:58.589Z"
      },
      {
        "duration": 5,
        "start_time": "2022-02-17T18:39:58.597Z"
      },
      {
        "duration": 6,
        "start_time": "2022-02-17T18:39:58.604Z"
      },
      {
        "duration": 5,
        "start_time": "2022-02-17T18:39:58.612Z"
      },
      {
        "duration": 64,
        "start_time": "2022-02-17T18:39:58.619Z"
      },
      {
        "duration": 4,
        "start_time": "2022-02-17T18:39:58.685Z"
      },
      {
        "duration": 5,
        "start_time": "2022-02-17T18:39:58.690Z"
      },
      {
        "duration": 7,
        "start_time": "2022-02-17T18:39:58.697Z"
      },
      {
        "duration": 12,
        "start_time": "2022-02-17T18:39:58.705Z"
      },
      {
        "duration": 4,
        "start_time": "2022-02-17T18:39:58.718Z"
      },
      {
        "duration": 205,
        "start_time": "2022-02-17T18:39:58.724Z"
      },
      {
        "duration": 15785,
        "start_time": "2022-02-17T18:39:58.931Z"
      },
      {
        "duration": 56,
        "start_time": "2022-02-17T18:40:14.718Z"
      },
      {
        "duration": 94,
        "start_time": "2022-02-17T18:40:14.776Z"
      },
      {
        "duration": 103,
        "start_time": "2022-02-17T18:40:14.876Z"
      },
      {
        "duration": 210,
        "start_time": "2022-02-17T18:40:14.981Z"
      },
      {
        "duration": 16257,
        "start_time": "2022-02-17T18:40:15.193Z"
      },
      {
        "duration": 34,
        "start_time": "2022-02-17T18:40:31.452Z"
      },
      {
        "duration": 6,
        "start_time": "2022-02-17T18:40:31.570Z"
      },
      {
        "duration": 108,
        "start_time": "2022-02-17T18:40:31.578Z"
      },
      {
        "duration": 9,
        "start_time": "2022-02-17T18:40:31.688Z"
      },
      {
        "duration": 30,
        "start_time": "2022-02-17T18:40:31.699Z"
      },
      {
        "duration": 302,
        "start_time": "2022-02-17T18:40:31.731Z"
      },
      {
        "duration": 27378,
        "start_time": "2022-02-17T18:40:32.036Z"
      },
      {
        "duration": 61,
        "start_time": "2022-02-17T18:40:59.416Z"
      },
      {
        "duration": 98,
        "start_time": "2022-02-17T18:40:59.479Z"
      },
      {
        "duration": 17,
        "start_time": "2022-02-17T18:40:59.668Z"
      },
      {
        "duration": 8,
        "start_time": "2022-02-17T18:40:59.687Z"
      },
      {
        "duration": 13,
        "start_time": "2022-02-17T18:40:59.696Z"
      },
      {
        "duration": 122,
        "start_time": "2022-02-17T18:40:59.711Z"
      },
      {
        "duration": 10235,
        "start_time": "2022-02-17T18:40:59.834Z"
      },
      {
        "duration": 103,
        "start_time": "2022-02-17T18:41:10.071Z"
      },
      {
        "duration": 102,
        "start_time": "2022-02-17T18:41:10.176Z"
      },
      {
        "duration": 36,
        "start_time": "2022-02-17T18:41:10.279Z"
      },
      {
        "duration": 46,
        "start_time": "2022-02-17T18:41:10.317Z"
      },
      {
        "duration": 10,
        "start_time": "2022-02-17T18:41:10.364Z"
      },
      {
        "duration": 26,
        "start_time": "2022-02-17T18:41:10.376Z"
      },
      {
        "duration": 23,
        "start_time": "2022-02-17T18:41:10.404Z"
      },
      {
        "duration": 36,
        "start_time": "2022-02-17T18:41:10.429Z"
      },
      {
        "duration": 445,
        "start_time": "2022-02-17T18:41:10.467Z"
      },
      {
        "duration": 1208,
        "start_time": "2022-02-17T18:49:34.143Z"
      },
      {
        "duration": 3,
        "start_time": "2022-02-17T18:49:35.353Z"
      },
      {
        "duration": 20,
        "start_time": "2022-02-17T18:49:35.358Z"
      },
      {
        "duration": 51,
        "start_time": "2022-02-17T18:49:35.380Z"
      },
      {
        "duration": 34,
        "start_time": "2022-02-17T18:49:35.433Z"
      },
      {
        "duration": 20,
        "start_time": "2022-02-17T18:49:35.469Z"
      },
      {
        "duration": 24,
        "start_time": "2022-02-17T18:49:35.491Z"
      },
      {
        "duration": 23,
        "start_time": "2022-02-17T18:49:35.518Z"
      },
      {
        "duration": 14,
        "start_time": "2022-02-17T18:49:35.543Z"
      },
      {
        "duration": 29,
        "start_time": "2022-02-17T18:49:35.560Z"
      },
      {
        "duration": 7,
        "start_time": "2022-02-17T18:49:35.592Z"
      },
      {
        "duration": 61,
        "start_time": "2022-02-17T18:49:35.601Z"
      },
      {
        "duration": 35,
        "start_time": "2022-02-17T18:49:35.665Z"
      },
      {
        "duration": 34,
        "start_time": "2022-02-17T18:49:35.702Z"
      },
      {
        "duration": 6,
        "start_time": "2022-02-17T18:49:35.737Z"
      },
      {
        "duration": 9,
        "start_time": "2022-02-17T18:49:35.745Z"
      },
      {
        "duration": 10,
        "start_time": "2022-02-17T18:49:35.755Z"
      },
      {
        "duration": 11,
        "start_time": "2022-02-17T18:49:35.767Z"
      },
      {
        "duration": 9,
        "start_time": "2022-02-17T18:49:35.780Z"
      },
      {
        "duration": 11,
        "start_time": "2022-02-17T18:49:35.791Z"
      },
      {
        "duration": 24,
        "start_time": "2022-02-17T18:49:35.804Z"
      },
      {
        "duration": 7,
        "start_time": "2022-02-17T18:49:35.830Z"
      },
      {
        "duration": 14,
        "start_time": "2022-02-17T18:49:35.841Z"
      },
      {
        "duration": 12,
        "start_time": "2022-02-17T18:49:35.858Z"
      },
      {
        "duration": 8,
        "start_time": "2022-02-17T18:49:35.872Z"
      },
      {
        "duration": 7,
        "start_time": "2022-02-17T18:49:35.882Z"
      },
      {
        "duration": 36,
        "start_time": "2022-02-17T18:49:35.891Z"
      },
      {
        "duration": 4,
        "start_time": "2022-02-17T18:49:35.929Z"
      },
      {
        "duration": 22,
        "start_time": "2022-02-17T18:49:35.935Z"
      },
      {
        "duration": 12,
        "start_time": "2022-02-17T18:49:35.960Z"
      },
      {
        "duration": 13,
        "start_time": "2022-02-17T18:49:35.973Z"
      },
      {
        "duration": 5,
        "start_time": "2022-02-17T18:49:35.987Z"
      },
      {
        "duration": 203,
        "start_time": "2022-02-17T18:49:35.994Z"
      },
      {
        "duration": 16648,
        "start_time": "2022-02-17T18:49:36.200Z"
      },
      {
        "duration": 34,
        "start_time": "2022-02-17T18:49:52.850Z"
      },
      {
        "duration": 6,
        "start_time": "2022-02-17T18:49:52.971Z"
      },
      {
        "duration": 105,
        "start_time": "2022-02-17T18:49:52.979Z"
      },
      {
        "duration": 219,
        "start_time": "2022-02-17T18:49:53.085Z"
      },
      {
        "duration": 15806,
        "start_time": "2022-02-17T18:49:53.306Z"
      },
      {
        "duration": 61,
        "start_time": "2022-02-17T18:50:09.114Z"
      },
      {
        "duration": 92,
        "start_time": "2022-02-17T18:50:09.178Z"
      },
      {
        "duration": 101,
        "start_time": "2022-02-17T18:50:09.273Z"
      },
      {
        "duration": 5,
        "start_time": "2022-02-17T18:50:09.376Z"
      },
      {
        "duration": 12,
        "start_time": "2022-02-17T18:50:09.383Z"
      },
      {
        "duration": 312,
        "start_time": "2022-02-17T18:50:09.397Z"
      },
      {
        "duration": 27459,
        "start_time": "2022-02-17T18:50:09.710Z"
      },
      {
        "duration": 100,
        "start_time": "2022-02-17T18:50:37.171Z"
      },
      {
        "duration": 95,
        "start_time": "2022-02-17T18:50:37.273Z"
      },
      {
        "duration": 15,
        "start_time": "2022-02-17T18:50:37.370Z"
      },
      {
        "duration": 5,
        "start_time": "2022-02-17T18:50:37.387Z"
      },
      {
        "duration": 23,
        "start_time": "2022-02-17T18:50:37.394Z"
      },
      {
        "duration": 126,
        "start_time": "2022-02-17T18:50:37.419Z"
      },
      {
        "duration": 9849,
        "start_time": "2022-02-17T18:50:37.547Z"
      },
      {
        "duration": 82,
        "start_time": "2022-02-17T18:50:47.398Z"
      },
      {
        "duration": 96,
        "start_time": "2022-02-17T18:50:47.573Z"
      },
      {
        "duration": 16,
        "start_time": "2022-02-17T18:50:47.672Z"
      },
      {
        "duration": 32,
        "start_time": "2022-02-17T18:50:47.690Z"
      },
      {
        "duration": 5,
        "start_time": "2022-02-17T18:50:47.724Z"
      },
      {
        "duration": 12,
        "start_time": "2022-02-17T18:50:47.731Z"
      },
      {
        "duration": 3,
        "start_time": "2022-02-17T18:50:47.769Z"
      },
      {
        "duration": 9,
        "start_time": "2022-02-17T18:50:47.774Z"
      },
      {
        "duration": 458,
        "start_time": "2022-02-17T18:50:47.785Z"
      }
    ],
    "kernelspec": {
      "display_name": "Python 3",
      "language": "python",
      "name": "python3"
    },
    "language_info": {
      "codemirror_mode": {
        "name": "ipython",
        "version": 3
      },
      "file_extension": ".py",
      "mimetype": "text/x-python",
      "name": "python",
      "nbconvert_exporter": "python",
      "pygments_lexer": "ipython3",
      "version": "3.7.8"
    },
    "toc": {
      "base_numbering": 1,
      "nav_menu": {},
      "number_sections": true,
      "sideBar": true,
      "skip_h1_title": true,
      "title_cell": "Содержание",
      "title_sidebar": "Contents",
      "toc_cell": true,
      "toc_position": {
        "height": "calc(100% - 180px)",
        "left": "10px",
        "top": "150px",
        "width": "165px"
      },
      "toc_section_display": true,
      "toc_window_display": true
    },
    "colab": {
      "name": "c3d118ce-7d35-44ee-ab60-2b5c80155ff0.ipynb",
      "provenance": [],
      "collapsed_sections": []
    }
  },
  "nbformat": 4,
  "nbformat_minor": 0
}